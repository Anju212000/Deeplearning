{
  "cells": [
    {
      "cell_type": "code",
      "source": [
        "!pip install openai-whisper  pydub\n",
        "\n"
      ],
      "metadata": {
        "id": "l2TY56G-hEvz",
        "colab": {
          "base_uri": "https://localhost:8080/"
        },
        "outputId": "e23a8b59-8b1e-4f20-f144-d6aa35752729"
      },
      "id": "l2TY56G-hEvz",
      "execution_count": null,
      "outputs": [
        {
          "output_type": "stream",
          "name": "stdout",
          "text": [
            "Collecting openai-whisper\n",
            "  Downloading openai-whisper-20240930.tar.gz (800 kB)\n",
            "\u001b[?25l     \u001b[90m━━━━━━━━━━━━━━━━━━━━━━━━━━━━━━━━━━━━━━━━\u001b[0m \u001b[32m0.0/800.5 kB\u001b[0m \u001b[31m?\u001b[0m eta \u001b[36m-:--:--\u001b[0m\r\u001b[2K     \u001b[91m━━━━━━━━━━━━━━━━━━━━━━━━━━━━━\u001b[0m\u001b[90m╺\u001b[0m\u001b[90m━━━━━━━━━━\u001b[0m \u001b[32m583.7/800.5 kB\u001b[0m \u001b[31m17.2 MB/s\u001b[0m eta \u001b[36m0:00:01\u001b[0m\r\u001b[2K     \u001b[90m━━━━━━━━━━━━━━━━━━━━━━━━━━━━━━━━━━━━━━━━\u001b[0m \u001b[32m800.5/800.5 kB\u001b[0m \u001b[31m13.7 MB/s\u001b[0m eta \u001b[36m0:00:00\u001b[0m\n",
            "\u001b[?25h  Installing build dependencies ... \u001b[?25l\u001b[?25hdone\n",
            "  Getting requirements to build wheel ... \u001b[?25l\u001b[?25hdone\n",
            "  Preparing metadata (pyproject.toml) ... \u001b[?25l\u001b[?25hdone\n",
            "Collecting pydub\n",
            "  Downloading pydub-0.25.1-py2.py3-none-any.whl.metadata (1.4 kB)\n",
            "Requirement already satisfied: numba in /usr/local/lib/python3.10/dist-packages (from openai-whisper) (0.60.0)\n",
            "Requirement already satisfied: numpy in /usr/local/lib/python3.10/dist-packages (from openai-whisper) (1.26.4)\n",
            "Requirement already satisfied: torch in /usr/local/lib/python3.10/dist-packages (from openai-whisper) (2.5.1+cu121)\n",
            "Requirement already satisfied: tqdm in /usr/local/lib/python3.10/dist-packages (from openai-whisper) (4.66.6)\n",
            "Requirement already satisfied: more-itertools in /usr/local/lib/python3.10/dist-packages (from openai-whisper) (10.5.0)\n",
            "Collecting tiktoken (from openai-whisper)\n",
            "  Downloading tiktoken-0.8.0-cp310-cp310-manylinux_2_17_x86_64.manylinux2014_x86_64.whl.metadata (6.6 kB)\n",
            "Collecting triton>=2.0.0 (from openai-whisper)\n",
            "  Downloading triton-3.1.0-cp310-cp310-manylinux_2_17_x86_64.manylinux2014_x86_64.whl.metadata (1.3 kB)\n",
            "Requirement already satisfied: filelock in /usr/local/lib/python3.10/dist-packages (from triton>=2.0.0->openai-whisper) (3.16.1)\n",
            "Requirement already satisfied: llvmlite<0.44,>=0.43.0dev0 in /usr/local/lib/python3.10/dist-packages (from numba->openai-whisper) (0.43.0)\n",
            "Requirement already satisfied: regex>=2022.1.18 in /usr/local/lib/python3.10/dist-packages (from tiktoken->openai-whisper) (2024.9.11)\n",
            "Requirement already satisfied: requests>=2.26.0 in /usr/local/lib/python3.10/dist-packages (from tiktoken->openai-whisper) (2.32.3)\n",
            "Requirement already satisfied: typing-extensions>=4.8.0 in /usr/local/lib/python3.10/dist-packages (from torch->openai-whisper) (4.12.2)\n",
            "Requirement already satisfied: networkx in /usr/local/lib/python3.10/dist-packages (from torch->openai-whisper) (3.4.2)\n",
            "Requirement already satisfied: jinja2 in /usr/local/lib/python3.10/dist-packages (from torch->openai-whisper) (3.1.4)\n",
            "Requirement already satisfied: fsspec in /usr/local/lib/python3.10/dist-packages (from torch->openai-whisper) (2024.10.0)\n",
            "Requirement already satisfied: sympy==1.13.1 in /usr/local/lib/python3.10/dist-packages (from torch->openai-whisper) (1.13.1)\n",
            "Requirement already satisfied: mpmath<1.4,>=1.1.0 in /usr/local/lib/python3.10/dist-packages (from sympy==1.13.1->torch->openai-whisper) (1.3.0)\n",
            "Requirement already satisfied: charset-normalizer<4,>=2 in /usr/local/lib/python3.10/dist-packages (from requests>=2.26.0->tiktoken->openai-whisper) (3.4.0)\n",
            "Requirement already satisfied: idna<4,>=2.5 in /usr/local/lib/python3.10/dist-packages (from requests>=2.26.0->tiktoken->openai-whisper) (3.10)\n",
            "Requirement already satisfied: urllib3<3,>=1.21.1 in /usr/local/lib/python3.10/dist-packages (from requests>=2.26.0->tiktoken->openai-whisper) (2.2.3)\n",
            "Requirement already satisfied: certifi>=2017.4.17 in /usr/local/lib/python3.10/dist-packages (from requests>=2.26.0->tiktoken->openai-whisper) (2024.8.30)\n",
            "Requirement already satisfied: MarkupSafe>=2.0 in /usr/local/lib/python3.10/dist-packages (from jinja2->torch->openai-whisper) (3.0.2)\n",
            "Downloading pydub-0.25.1-py2.py3-none-any.whl (32 kB)\n",
            "Downloading triton-3.1.0-cp310-cp310-manylinux_2_17_x86_64.manylinux2014_x86_64.whl (209.5 MB)\n",
            "\u001b[2K   \u001b[90m━━━━━━━━━━━━━━━━━━━━━━━━━━━━━━━━━━━━━━━━\u001b[0m \u001b[32m209.5/209.5 MB\u001b[0m \u001b[31m5.3 MB/s\u001b[0m eta \u001b[36m0:00:00\u001b[0m\n",
            "\u001b[?25hDownloading tiktoken-0.8.0-cp310-cp310-manylinux_2_17_x86_64.manylinux2014_x86_64.whl (1.2 MB)\n",
            "\u001b[2K   \u001b[90m━━━━━━━━━━━━━━━━━━━━━━━━━━━━━━━━━━━━━━━━\u001b[0m \u001b[32m1.2/1.2 MB\u001b[0m \u001b[31m32.9 MB/s\u001b[0m eta \u001b[36m0:00:00\u001b[0m\n",
            "\u001b[?25hBuilding wheels for collected packages: openai-whisper\n",
            "  Building wheel for openai-whisper (pyproject.toml) ... \u001b[?25l\u001b[?25hdone\n",
            "  Created wheel for openai-whisper: filename=openai_whisper-20240930-py3-none-any.whl size=803320 sha256=2d02602a45e2a73c3b6f6aa6e99db7ccd75cdc995567a75e8993aaed7498731f\n",
            "  Stored in directory: /root/.cache/pip/wheels/dd/4a/1f/d1c4bf3b9133c8168fe617ed979cab7b14fe381d059ffb9d83\n",
            "Successfully built openai-whisper\n",
            "Installing collected packages: pydub, triton, tiktoken, openai-whisper\n",
            "Successfully installed openai-whisper-20240930 pydub-0.25.1 tiktoken-0.8.0 triton-3.1.0\n"
          ]
        }
      ]
    },
    {
      "cell_type": "code",
      "source": [
        "!pip install pyaudio"
      ],
      "metadata": {
        "colab": {
          "base_uri": "https://localhost:8080/"
        },
        "id": "uXfjsm_0IJ0F",
        "outputId": "1ea67068-211a-4ae8-c293-86aea4b73b14"
      },
      "id": "uXfjsm_0IJ0F",
      "execution_count": null,
      "outputs": [
        {
          "output_type": "stream",
          "name": "stdout",
          "text": [
            "Collecting pyaudio\n",
            "  Downloading PyAudio-0.2.14.tar.gz (47 kB)\n",
            "\u001b[?25l     \u001b[90m━━━━━━━━━━━━━━━━━━━━━━━━━━━━━━━━━━━━━━━━\u001b[0m \u001b[32m0.0/47.1 kB\u001b[0m \u001b[31m?\u001b[0m eta \u001b[36m-:--:--\u001b[0m\r\u001b[2K     \u001b[90m━━━━━━━━━━━━━━━━━━━━━━━━━━━━━━━━━━━━━━━━\u001b[0m \u001b[32m47.1/47.1 kB\u001b[0m \u001b[31m3.0 MB/s\u001b[0m eta \u001b[36m0:00:00\u001b[0m\n",
            "\u001b[?25h  Installing build dependencies ... \u001b[?25l\u001b[?25hdone\n",
            "  Getting requirements to build wheel ... \u001b[?25l\u001b[?25hdone\n",
            "  Preparing metadata (pyproject.toml) ... \u001b[?25l\u001b[?25hdone\n",
            "Building wheels for collected packages: pyaudio\n",
            "  \u001b[1;31merror\u001b[0m: \u001b[1msubprocess-exited-with-error\u001b[0m\n",
            "  \n",
            "  \u001b[31m×\u001b[0m \u001b[32mBuilding wheel for pyaudio \u001b[0m\u001b[1;32m(\u001b[0m\u001b[32mpyproject.toml\u001b[0m\u001b[1;32m)\u001b[0m did not run successfully.\n",
            "  \u001b[31m│\u001b[0m exit code: \u001b[1;36m1\u001b[0m\n",
            "  \u001b[31m╰─>\u001b[0m See above for output.\n",
            "  \n",
            "  \u001b[1;35mnote\u001b[0m: This error originates from a subprocess, and is likely not a problem with pip.\n",
            "  Building wheel for pyaudio (pyproject.toml) ... \u001b[?25l\u001b[?25herror\n",
            "\u001b[31m  ERROR: Failed building wheel for pyaudio\u001b[0m\u001b[31m\n",
            "\u001b[0mFailed to build pyaudio\n",
            "\u001b[31mERROR: ERROR: Failed to build installable wheels for some pyproject.toml based projects (pyaudio)\u001b[0m\u001b[31m\n",
            "\u001b[0m"
          ]
        }
      ]
    },
    {
      "cell_type": "code",
      "source": [
        "!pip install datasets"
      ],
      "metadata": {
        "colab": {
          "base_uri": "https://localhost:8080/"
        },
        "id": "UHDMva2G1zGA",
        "outputId": "9ea001d0-43d4-40e0-cd19-856bc06460a5"
      },
      "id": "UHDMva2G1zGA",
      "execution_count": null,
      "outputs": [
        {
          "output_type": "stream",
          "name": "stdout",
          "text": [
            "Collecting datasets\n",
            "  Downloading datasets-3.2.0-py3-none-any.whl.metadata (20 kB)\n",
            "Requirement already satisfied: filelock in /usr/local/lib/python3.10/dist-packages (from datasets) (3.16.1)\n",
            "Requirement already satisfied: numpy>=1.17 in /usr/local/lib/python3.10/dist-packages (from datasets) (1.26.4)\n",
            "Requirement already satisfied: pyarrow>=15.0.0 in /usr/local/lib/python3.10/dist-packages (from datasets) (17.0.0)\n",
            "Collecting dill<0.3.9,>=0.3.0 (from datasets)\n",
            "  Downloading dill-0.3.8-py3-none-any.whl.metadata (10 kB)\n",
            "Requirement already satisfied: pandas in /usr/local/lib/python3.10/dist-packages (from datasets) (2.2.2)\n",
            "Requirement already satisfied: requests>=2.32.2 in /usr/local/lib/python3.10/dist-packages (from datasets) (2.32.3)\n",
            "Requirement already satisfied: tqdm>=4.66.3 in /usr/local/lib/python3.10/dist-packages (from datasets) (4.66.6)\n",
            "Collecting xxhash (from datasets)\n",
            "  Downloading xxhash-3.5.0-cp310-cp310-manylinux_2_17_x86_64.manylinux2014_x86_64.whl.metadata (12 kB)\n",
            "Collecting multiprocess<0.70.17 (from datasets)\n",
            "  Downloading multiprocess-0.70.16-py310-none-any.whl.metadata (7.2 kB)\n",
            "Collecting fsspec<=2024.9.0,>=2023.1.0 (from fsspec[http]<=2024.9.0,>=2023.1.0->datasets)\n",
            "  Downloading fsspec-2024.9.0-py3-none-any.whl.metadata (11 kB)\n",
            "Requirement already satisfied: aiohttp in /usr/local/lib/python3.10/dist-packages (from datasets) (3.11.10)\n",
            "Requirement already satisfied: huggingface-hub>=0.23.0 in /usr/local/lib/python3.10/dist-packages (from datasets) (0.26.5)\n",
            "Requirement already satisfied: packaging in /usr/local/lib/python3.10/dist-packages (from datasets) (24.2)\n",
            "Requirement already satisfied: pyyaml>=5.1 in /usr/local/lib/python3.10/dist-packages (from datasets) (6.0.2)\n",
            "Requirement already satisfied: aiohappyeyeballs>=2.3.0 in /usr/local/lib/python3.10/dist-packages (from aiohttp->datasets) (2.4.4)\n",
            "Requirement already satisfied: aiosignal>=1.1.2 in /usr/local/lib/python3.10/dist-packages (from aiohttp->datasets) (1.3.1)\n",
            "Requirement already satisfied: async-timeout<6.0,>=4.0 in /usr/local/lib/python3.10/dist-packages (from aiohttp->datasets) (4.0.3)\n",
            "Requirement already satisfied: attrs>=17.3.0 in /usr/local/lib/python3.10/dist-packages (from aiohttp->datasets) (24.2.0)\n",
            "Requirement already satisfied: frozenlist>=1.1.1 in /usr/local/lib/python3.10/dist-packages (from aiohttp->datasets) (1.5.0)\n",
            "Requirement already satisfied: multidict<7.0,>=4.5 in /usr/local/lib/python3.10/dist-packages (from aiohttp->datasets) (6.1.0)\n",
            "Requirement already satisfied: propcache>=0.2.0 in /usr/local/lib/python3.10/dist-packages (from aiohttp->datasets) (0.2.1)\n",
            "Requirement already satisfied: yarl<2.0,>=1.17.0 in /usr/local/lib/python3.10/dist-packages (from aiohttp->datasets) (1.18.3)\n",
            "Requirement already satisfied: typing-extensions>=3.7.4.3 in /usr/local/lib/python3.10/dist-packages (from huggingface-hub>=0.23.0->datasets) (4.12.2)\n",
            "Requirement already satisfied: charset-normalizer<4,>=2 in /usr/local/lib/python3.10/dist-packages (from requests>=2.32.2->datasets) (3.4.0)\n",
            "Requirement already satisfied: idna<4,>=2.5 in /usr/local/lib/python3.10/dist-packages (from requests>=2.32.2->datasets) (3.10)\n",
            "Requirement already satisfied: urllib3<3,>=1.21.1 in /usr/local/lib/python3.10/dist-packages (from requests>=2.32.2->datasets) (2.2.3)\n",
            "Requirement already satisfied: certifi>=2017.4.17 in /usr/local/lib/python3.10/dist-packages (from requests>=2.32.2->datasets) (2024.8.30)\n",
            "Requirement already satisfied: python-dateutil>=2.8.2 in /usr/local/lib/python3.10/dist-packages (from pandas->datasets) (2.8.2)\n",
            "Requirement already satisfied: pytz>=2020.1 in /usr/local/lib/python3.10/dist-packages (from pandas->datasets) (2024.2)\n",
            "Requirement already satisfied: tzdata>=2022.7 in /usr/local/lib/python3.10/dist-packages (from pandas->datasets) (2024.2)\n",
            "Requirement already satisfied: six>=1.5 in /usr/local/lib/python3.10/dist-packages (from python-dateutil>=2.8.2->pandas->datasets) (1.17.0)\n",
            "Downloading datasets-3.2.0-py3-none-any.whl (480 kB)\n",
            "\u001b[2K   \u001b[90m━━━━━━━━━━━━━━━━━━━━━━━━━━━━━━━━━━━━━━━━\u001b[0m \u001b[32m480.6/480.6 kB\u001b[0m \u001b[31m11.4 MB/s\u001b[0m eta \u001b[36m0:00:00\u001b[0m\n",
            "\u001b[?25hDownloading dill-0.3.8-py3-none-any.whl (116 kB)\n",
            "\u001b[2K   \u001b[90m━━━━━━━━━━━━━━━━━━━━━━━━━━━━━━━━━━━━━━━━\u001b[0m \u001b[32m116.3/116.3 kB\u001b[0m \u001b[31m10.0 MB/s\u001b[0m eta \u001b[36m0:00:00\u001b[0m\n",
            "\u001b[?25hDownloading fsspec-2024.9.0-py3-none-any.whl (179 kB)\n",
            "\u001b[2K   \u001b[90m━━━━━━━━━━━━━━━━━━━━━━━━━━━━━━━━━━━━━━━━\u001b[0m \u001b[32m179.3/179.3 kB\u001b[0m \u001b[31m16.3 MB/s\u001b[0m eta \u001b[36m0:00:00\u001b[0m\n",
            "\u001b[?25hDownloading multiprocess-0.70.16-py310-none-any.whl (134 kB)\n",
            "\u001b[2K   \u001b[90m━━━━━━━━━━━━━━━━━━━━━━━━━━━━━━━━━━━━━━━━\u001b[0m \u001b[32m134.8/134.8 kB\u001b[0m \u001b[31m7.9 MB/s\u001b[0m eta \u001b[36m0:00:00\u001b[0m\n",
            "\u001b[?25hDownloading xxhash-3.5.0-cp310-cp310-manylinux_2_17_x86_64.manylinux2014_x86_64.whl (194 kB)\n",
            "\u001b[2K   \u001b[90m━━━━━━━━━━━━━━━━━━━━━━━━━━━━━━━━━━━━━━━━\u001b[0m \u001b[32m194.1/194.1 kB\u001b[0m \u001b[31m12.3 MB/s\u001b[0m eta \u001b[36m0:00:00\u001b[0m\n",
            "\u001b[?25hInstalling collected packages: xxhash, fsspec, dill, multiprocess, datasets\n",
            "  Attempting uninstall: fsspec\n",
            "    Found existing installation: fsspec 2024.10.0\n",
            "    Uninstalling fsspec-2024.10.0:\n",
            "      Successfully uninstalled fsspec-2024.10.0\n",
            "\u001b[31mERROR: pip's dependency resolver does not currently take into account all the packages that are installed. This behaviour is the source of the following dependency conflicts.\n",
            "gcsfs 2024.10.0 requires fsspec==2024.10.0, but you have fsspec 2024.9.0 which is incompatible.\u001b[0m\u001b[31m\n",
            "\u001b[0mSuccessfully installed datasets-3.2.0 dill-0.3.8 fsspec-2024.9.0 multiprocess-0.70.16 xxhash-3.5.0\n"
          ]
        }
      ]
    },
    {
      "cell_type": "code",
      "source": [
        "import os\n",
        "from pydub import AudioSegment\n",
        "import whisper\n",
        "import numpy as np\n",
        "import torch\n",
        "from IPython.display import Audio, display\n",
        "from tqdm import tqdm\n",
        "import pandas as pd\n",
        "from sklearn.model_selection import train_test_split\n",
        "from sklearn.preprocessing import LabelEncoder\n",
        "from transformers import BertTokenizer, BertForSequenceClassification, Trainer, TrainingArguments\n",
        "from datasets import Dataset\n",
        "import csv\n",
        "import random\n"
      ],
      "metadata": {
        "id": "lpRqZRFzabBI"
      },
      "id": "lpRqZRFzabBI",
      "execution_count": null,
      "outputs": []
    },
    {
      "cell_type": "code",
      "source": [
        "!kaggle datasets download imsparsh/audio-speech-sentiment"
      ],
      "metadata": {
        "colab": {
          "base_uri": "https://localhost:8080/"
        },
        "id": "oXtt7WmEXvEx",
        "outputId": "12a6f859-a0f7-4461-986d-4425a1619837"
      },
      "id": "oXtt7WmEXvEx",
      "execution_count": null,
      "outputs": [
        {
          "output_type": "stream",
          "name": "stdout",
          "text": [
            "Dataset URL: https://www.kaggle.com/datasets/imsparsh/audio-speech-sentiment\n",
            "License(s): CC0-1.0\n",
            "Downloading audio-speech-sentiment.zip to /content\n",
            " 99% 230M/231M [00:04<00:00, 104MB/s] \n",
            "100% 231M/231M [00:04<00:00, 51.0MB/s]\n"
          ]
        }
      ]
    },
    {
      "cell_type": "code",
      "source": [
        "import zipfile\n",
        "\n",
        "# Unzip the dataset\n",
        "with zipfile.ZipFile('/content/audio-speech-sentiment.zip', 'r') as zip_ref:\n",
        "    zip_ref.extractall('/content/')\n"
      ],
      "metadata": {
        "id": "fiSkjti4ZVa4"
      },
      "id": "fiSkjti4ZVa4",
      "execution_count": null,
      "outputs": []
    },
    {
      "cell_type": "code",
      "source": [
        "def Speech2Text(audio_path):\n",
        "\n",
        "\n",
        "    # Function to perform speech-to-text\n",
        "    def transcribe_audio(model, audio_path: str) -> str:\n",
        "        # Load the audio\n",
        "\n",
        "\n",
        "        # Run the model\n",
        "        result = model.transcribe(audio_path)\n",
        "\n",
        "        return result['text']\n",
        "\n",
        "    # Load the Whisper model\n",
        "    model = whisper.load_model(\"small\", device=\"cuda\")\n",
        "    audio_file_path = audio_path\n",
        "\n",
        "    transcription = transcribe_audio(model, audio_file_path)\n",
        "    return transcription"
      ],
      "metadata": {
        "id": "Kor5fT8oeYai"
      },
      "id": "Kor5fT8oeYai",
      "execution_count": null,
      "outputs": []
    },
    {
      "cell_type": "code",
      "source": [
        "def transcribe_wav_files(wav_dir):\n",
        "\n",
        "\n",
        "    with open(\"transcription_dataset.csv\", \"a\", newline='') as csvfile:\n",
        "        fieldnames = ['filename', 'transcription']\n",
        "        writer = csv.DictWriter(csvfile, fieldnames=fieldnames)\n",
        "\n",
        "        if csvfile.tell() == 0:  # Check if file is empty\n",
        "            writer.writeheader()\n",
        "\n",
        "        for filename in tqdm(os.listdir(wav_dir)):\n",
        "            if filename.endswith(\".wav\"):\n",
        "                wav_file_path = os.path.join(wav_dir, filename)\n",
        "                text = Speech2Text(wav_file_path)\n",
        "                writer.writerow({'filename': filename, 'transcription': text})\n",
        "                print(f\"Transcription of {filename}: {text}\")"
      ],
      "metadata": {
        "id": "3G0xQRloZmuQ"
      },
      "id": "3G0xQRloZmuQ",
      "execution_count": null,
      "outputs": []
    },
    {
      "cell_type": "code",
      "source": [
        "wav_directory = \"/content/TRAIN\"\n",
        "transcribe_wav_files(wav_directory)"
      ],
      "metadata": {
        "colab": {
          "base_uri": "https://localhost:8080/"
        },
        "id": "BOCrSoNUau8I",
        "outputId": "eea336bb-2d22-4d6f-a4d7-a434b5b306a6"
      },
      "id": "BOCrSoNUau8I",
      "execution_count": null,
      "outputs": [
        {
          "output_type": "stream",
          "name": "stderr",
          "text": [
            "  0%|          | 0/250 [00:00<?, ?it/s]\n",
            "  0%|                                               | 0.00/461M [00:00<?, ?iB/s]\u001b[A\n",
            "  1%|▍                                     | 4.83M/461M [00:00<00:09, 50.6MiB/s]\u001b[A\n",
            "  3%|█▏                                    | 13.7M/461M [00:00<00:06, 73.5MiB/s]\u001b[A\n",
            "  4%|█▋                                    | 20.7M/461M [00:00<00:06, 70.7MiB/s]\u001b[A\n",
            "  6%|██▍                                   | 29.0M/461M [00:00<00:05, 77.2MiB/s]\u001b[A\n",
            "  8%|███                                   | 36.4M/461M [00:00<00:07, 63.2MiB/s]\u001b[A\n",
            " 10%|███▋                                  | 45.3M/461M [00:00<00:06, 69.1MiB/s]\u001b[A\n",
            " 12%|████▍                                 | 53.3M/461M [00:00<00:05, 73.3MiB/s]\u001b[A\n",
            " 15%|█████▌                                | 68.2M/461M [00:00<00:04, 97.4MiB/s]\u001b[A\n",
            " 17%|██████▍                               | 77.9M/461M [00:01<00:04, 96.2MiB/s]\u001b[A\n",
            " 19%|███████▏                              | 87.3M/461M [00:01<00:04, 96.0MiB/s]\u001b[A\n",
            " 21%|███████▉                              | 96.7M/461M [00:01<00:05, 66.3MiB/s]\u001b[A\n",
            " 23%|████████▊                              | 104M/461M [00:01<00:05, 65.8MiB/s]\u001b[A\n",
            " 24%|█████████▍                             | 111M/461M [00:01<00:05, 66.8MiB/s]\u001b[A\n",
            " 26%|██████████▏                            | 120M/461M [00:01<00:04, 73.6MiB/s]\u001b[A\n",
            " 28%|██████████▉                            | 129M/461M [00:01<00:04, 77.0MiB/s]\u001b[A\n",
            " 30%|███████████▋                           | 138M/461M [00:01<00:04, 78.5MiB/s]\u001b[A\n",
            " 32%|████████████▍                          | 147M/461M [00:02<00:04, 81.8MiB/s]\u001b[A\n",
            " 34%|█████████████                          | 155M/461M [00:02<00:03, 81.8MiB/s]\u001b[A\n",
            " 35%|█████████████▊                         | 163M/461M [00:02<00:04, 72.6MiB/s]\u001b[A\n",
            " 37%|██████████████▎                        | 170M/461M [00:02<00:05, 60.6MiB/s]\u001b[A\n",
            " 38%|██████████████▉                        | 176M/461M [00:02<00:06, 48.3MiB/s]\u001b[A\n",
            " 39%|███████████████▎                       | 181M/461M [00:02<00:06, 47.0MiB/s]\u001b[A\n",
            " 41%|████████████████                       | 190M/461M [00:02<00:05, 55.7MiB/s]\u001b[A\n",
            " 43%|████████████████▋                      | 198M/461M [00:02<00:04, 62.2MiB/s]\u001b[A\n",
            " 45%|█████████████████▌                     | 208M/461M [00:03<00:03, 72.7MiB/s]\u001b[A\n",
            " 47%|██████████████████▍                    | 218M/461M [00:03<00:03, 80.4MiB/s]\u001b[A\n",
            " 49%|███████████████████                    | 226M/461M [00:03<00:03, 74.9MiB/s]\u001b[A\n",
            " 51%|███████████████████▊                   | 234M/461M [00:03<00:03, 67.4MiB/s]\u001b[A\n",
            " 52%|████████████████████▎                  | 240M/461M [00:03<00:03, 66.7MiB/s]\u001b[A\n",
            " 54%|████████████████████▉                  | 248M/461M [00:03<00:03, 68.3MiB/s]\u001b[A\n",
            " 55%|█████████████████████▌                 | 254M/461M [00:03<00:03, 69.1MiB/s]\u001b[A\n",
            " 57%|██████████████████████                 | 261M/461M [00:03<00:03, 69.4MiB/s]\u001b[A\n",
            " 58%|██████████████████████▋                | 268M/461M [00:04<00:02, 68.8MiB/s]\u001b[A\n",
            " 60%|███████████████████████▎               | 275M/461M [00:04<00:02, 70.3MiB/s]\u001b[A\n",
            " 61%|███████████████████████▊               | 282M/461M [00:04<00:02, 68.6MiB/s]\u001b[A\n",
            " 63%|████████████████████████▍              | 289M/461M [00:04<00:02, 69.5MiB/s]\u001b[A\n",
            " 64%|█████████████████████████              | 297M/461M [00:04<00:02, 70.4MiB/s]\u001b[A\n",
            " 66%|█████████████████████████▋             | 303M/461M [00:04<00:02, 69.4MiB/s]\u001b[A\n",
            " 67%|██████████████████████████▏            | 310M/461M [00:04<00:02, 59.2MiB/s]\u001b[A\n",
            " 69%|██████████████████████████▋            | 316M/461M [00:04<00:02, 58.9MiB/s]\u001b[A\n",
            " 71%|███████████████████████████▌           | 325M/461M [00:04<00:02, 68.0MiB/s]\u001b[A\n",
            " 72%|████████████████████████████           | 332M/461M [00:05<00:02, 67.4MiB/s]\u001b[A\n",
            " 74%|█████████████████████████████          | 343M/461M [00:05<00:01, 81.0MiB/s]\u001b[A\n",
            " 77%|██████████████████████████████         | 355M/461M [00:05<00:01, 93.6MiB/s]\u001b[A\n",
            " 79%|██████████████████████████████▊        | 364M/461M [00:05<00:01, 86.7MiB/s]\u001b[A\n",
            " 81%|███████████████████████████████▌       | 373M/461M [00:05<00:01, 78.1MiB/s]\u001b[A\n",
            " 82%|████████████████████████████████▏      | 380M/461M [00:05<00:01, 75.7MiB/s]\u001b[A\n",
            " 84%|████████████████████████████████▊      | 388M/461M [00:05<00:01, 74.2MiB/s]\u001b[A\n",
            " 86%|█████████████████████████████████▍     | 395M/461M [00:05<00:00, 73.6MiB/s]\u001b[A\n",
            " 87%|██████████████████████████████████     | 402M/461M [00:05<00:00, 71.2MiB/s]\u001b[A\n",
            " 90%|███████████████████████████████████▏   | 416M/461M [00:06<00:00, 89.1MiB/s]\u001b[A\n",
            " 92%|████████████████████████████████████   | 426M/461M [00:06<00:00, 93.8MiB/s]\u001b[A\n",
            " 95%|████████████████████████████████████▉  | 436M/461M [00:06<00:00, 96.9MiB/s]\u001b[A\n",
            "100%|███████████████████████████████████████| 461M/461M [00:06<00:00, 75.0MiB/s]\n",
            "/usr/local/lib/python3.10/dist-packages/whisper/__init__.py:150: FutureWarning: You are using `torch.load` with `weights_only=False` (the current default value), which uses the default pickle module implicitly. It is possible to construct malicious pickle data which will execute arbitrary code during unpickling (See https://github.com/pytorch/pytorch/blob/main/SECURITY.md#untrusted-models for more details). In a future release, the default value for `weights_only` will be flipped to `True`. This limits the functions that could be executed during unpickling. Arbitrary objects will no longer be allowed to be loaded via this mode unless they are explicitly allowlisted by the user via `torch.serialization.add_safe_globals`. We recommend you start setting `weights_only=True` for any use case where you don't have full control of the loaded file. Please open an issue on GitHub for any issues related to this experimental feature.\n",
            "  checkpoint = torch.load(fp, map_location=device)\n",
            "  0%|          | 1/250 [00:21<1:28:59, 21.44s/it]"
          ]
        },
        {
          "output_type": "stream",
          "name": "stdout",
          "text": [
            "Transcription of 71.wav:  I believe in you, I love you.\n"
          ]
        },
        {
          "output_type": "stream",
          "name": "stderr",
          "text": [
            "/usr/local/lib/python3.10/dist-packages/whisper/__init__.py:150: FutureWarning: You are using `torch.load` with `weights_only=False` (the current default value), which uses the default pickle module implicitly. It is possible to construct malicious pickle data which will execute arbitrary code during unpickling (See https://github.com/pytorch/pytorch/blob/main/SECURITY.md#untrusted-models for more details). In a future release, the default value for `weights_only` will be flipped to `True`. This limits the functions that could be executed during unpickling. Arbitrary objects will no longer be allowed to be loaded via this mode unless they are explicitly allowlisted by the user via `torch.serialization.add_safe_globals`. We recommend you start setting `weights_only=True` for any use case where you don't have full control of the loaded file. Please open an issue on GitHub for any issues related to this experimental feature.\n",
            "  checkpoint = torch.load(fp, map_location=device)\n",
            "  1%|          | 2/250 [00:30<58:15, 14.09s/it]  "
          ]
        },
        {
          "output_type": "stream",
          "name": "stdout",
          "text": [
            "Transcription of 190.wav:  You should explain more.\n"
          ]
        },
        {
          "output_type": "stream",
          "name": "stderr",
          "text": [
            "/usr/local/lib/python3.10/dist-packages/whisper/__init__.py:150: FutureWarning: You are using `torch.load` with `weights_only=False` (the current default value), which uses the default pickle module implicitly. It is possible to construct malicious pickle data which will execute arbitrary code during unpickling (See https://github.com/pytorch/pytorch/blob/main/SECURITY.md#untrusted-models for more details). In a future release, the default value for `weights_only` will be flipped to `True`. This limits the functions that could be executed during unpickling. Arbitrary objects will no longer be allowed to be loaded via this mode unless they are explicitly allowlisted by the user via `torch.serialization.add_safe_globals`. We recommend you start setting `weights_only=True` for any use case where you don't have full control of the loaded file. Please open an issue on GitHub for any issues related to this experimental feature.\n",
            "  checkpoint = torch.load(fp, map_location=device)\n",
            "  1%|          | 3/250 [00:36<42:55, 10.43s/it]"
          ]
        },
        {
          "output_type": "stream",
          "name": "stdout",
          "text": [
            "Transcription of 253.wav:  You are a very lazy person.\n"
          ]
        },
        {
          "output_type": "stream",
          "name": "stderr",
          "text": [
            "/usr/local/lib/python3.10/dist-packages/whisper/__init__.py:150: FutureWarning: You are using `torch.load` with `weights_only=False` (the current default value), which uses the default pickle module implicitly. It is possible to construct malicious pickle data which will execute arbitrary code during unpickling (See https://github.com/pytorch/pytorch/blob/main/SECURITY.md#untrusted-models for more details). In a future release, the default value for `weights_only` will be flipped to `True`. This limits the functions that could be executed during unpickling. Arbitrary objects will no longer be allowed to be loaded via this mode unless they are explicitly allowlisted by the user via `torch.serialization.add_safe_globals`. We recommend you start setting `weights_only=True` for any use case where you don't have full control of the loaded file. Please open an issue on GitHub for any issues related to this experimental feature.\n",
            "  checkpoint = torch.load(fp, map_location=device)\n",
            "  2%|▏         | 4/250 [00:42<35:12,  8.59s/it]"
          ]
        },
        {
          "output_type": "stream",
          "name": "stdout",
          "text": [
            "Transcription of 2.wav:  Bye,{\\rtf1 {\\pr-\n"
          ]
        },
        {
          "output_type": "stream",
          "name": "stderr",
          "text": [
            "/usr/local/lib/python3.10/dist-packages/whisper/__init__.py:150: FutureWarning: You are using `torch.load` with `weights_only=False` (the current default value), which uses the default pickle module implicitly. It is possible to construct malicious pickle data which will execute arbitrary code during unpickling (See https://github.com/pytorch/pytorch/blob/main/SECURITY.md#untrusted-models for more details). In a future release, the default value for `weights_only` will be flipped to `True`. This limits the functions that could be executed during unpickling. Arbitrary objects will no longer be allowed to be loaded via this mode unless they are explicitly allowlisted by the user via `torch.serialization.add_safe_globals`. We recommend you start setting `weights_only=True` for any use case where you don't have full control of the loaded file. Please open an issue on GitHub for any issues related to this experimental feature.\n",
            "  checkpoint = torch.load(fp, map_location=device)\n",
            "  2%|▏         | 5/250 [00:48<31:20,  7.68s/it]"
          ]
        },
        {
          "output_type": "stream",
          "name": "stdout",
          "text": [
            "Transcription of 282.wav:  No one likes to talk about you.\n"
          ]
        },
        {
          "output_type": "stream",
          "name": "stderr",
          "text": [
            "/usr/local/lib/python3.10/dist-packages/whisper/__init__.py:150: FutureWarning: You are using `torch.load` with `weights_only=False` (the current default value), which uses the default pickle module implicitly. It is possible to construct malicious pickle data which will execute arbitrary code during unpickling (See https://github.com/pytorch/pytorch/blob/main/SECURITY.md#untrusted-models for more details). In a future release, the default value for `weights_only` will be flipped to `True`. This limits the functions that could be executed during unpickling. Arbitrary objects will no longer be allowed to be loaded via this mode unless they are explicitly allowlisted by the user via `torch.serialization.add_safe_globals`. We recommend you start setting `weights_only=True` for any use case where you don't have full control of the loaded file. Please open an issue on GitHub for any issues related to this experimental feature.\n",
            "  checkpoint = torch.load(fp, map_location=device)\n",
            "  2%|▏         | 6/250 [00:54<28:50,  7.09s/it]"
          ]
        },
        {
          "output_type": "stream",
          "name": "stdout",
          "text": [
            "Transcription of 116.wav:  Theyiji being along with his friends for two years and now gonna stay.\n"
          ]
        },
        {
          "output_type": "stream",
          "name": "stderr",
          "text": [
            "/usr/local/lib/python3.10/dist-packages/whisper/__init__.py:150: FutureWarning: You are using `torch.load` with `weights_only=False` (the current default value), which uses the default pickle module implicitly. It is possible to construct malicious pickle data which will execute arbitrary code during unpickling (See https://github.com/pytorch/pytorch/blob/main/SECURITY.md#untrusted-models for more details). In a future release, the default value for `weights_only` will be flipped to `True`. This limits the functions that could be executed during unpickling. Arbitrary objects will no longer be allowed to be loaded via this mode unless they are explicitly allowlisted by the user via `torch.serialization.add_safe_globals`. We recommend you start setting `weights_only=True` for any use case where you don't have full control of the loaded file. Please open an issue on GitHub for any issues related to this experimental feature.\n",
            "  checkpoint = torch.load(fp, map_location=device)\n",
            "  3%|▎         | 7/250 [00:59<26:34,  6.56s/it]"
          ]
        },
        {
          "output_type": "stream",
          "name": "stdout",
          "text": [
            "Transcription of 97.wav:  You have a great choice.\n"
          ]
        },
        {
          "output_type": "stream",
          "name": "stderr",
          "text": [
            "/usr/local/lib/python3.10/dist-packages/whisper/__init__.py:150: FutureWarning: You are using `torch.load` with `weights_only=False` (the current default value), which uses the default pickle module implicitly. It is possible to construct malicious pickle data which will execute arbitrary code during unpickling (See https://github.com/pytorch/pytorch/blob/main/SECURITY.md#untrusted-models for more details). In a future release, the default value for `weights_only` will be flipped to `True`. This limits the functions that could be executed during unpickling. Arbitrary objects will no longer be allowed to be loaded via this mode unless they are explicitly allowlisted by the user via `torch.serialization.add_safe_globals`. We recommend you start setting `weights_only=True` for any use case where you don't have full control of the loaded file. Please open an issue on GitHub for any issues related to this experimental feature.\n",
            "  checkpoint = torch.load(fp, map_location=device)\n",
            "  3%|▎         | 8/250 [01:04<24:22,  6.05s/it]"
          ]
        },
        {
          "output_type": "stream",
          "name": "stdout",
          "text": [
            "Transcription of 174.wav:  your choice was good but not great\n"
          ]
        },
        {
          "output_type": "stream",
          "name": "stderr",
          "text": [
            "/usr/local/lib/python3.10/dist-packages/whisper/__init__.py:150: FutureWarning: You are using `torch.load` with `weights_only=False` (the current default value), which uses the default pickle module implicitly. It is possible to construct malicious pickle data which will execute arbitrary code during unpickling (See https://github.com/pytorch/pytorch/blob/main/SECURITY.md#untrusted-models for more details). In a future release, the default value for `weights_only` will be flipped to `True`. This limits the functions that could be executed during unpickling. Arbitrary objects will no longer be allowed to be loaded via this mode unless they are explicitly allowlisted by the user via `torch.serialization.add_safe_globals`. We recommend you start setting `weights_only=True` for any use case where you don't have full control of the loaded file. Please open an issue on GitHub for any issues related to this experimental feature.\n",
            "  checkpoint = torch.load(fp, map_location=device)\n",
            "  4%|▎         | 9/250 [01:09<22:33,  5.61s/it]"
          ]
        },
        {
          "output_type": "stream",
          "name": "stdout",
          "text": [
            "Transcription of 287.wav:  I'm gonna love you\n"
          ]
        },
        {
          "output_type": "stream",
          "name": "stderr",
          "text": [
            "/usr/local/lib/python3.10/dist-packages/whisper/__init__.py:150: FutureWarning: You are using `torch.load` with `weights_only=False` (the current default value), which uses the default pickle module implicitly. It is possible to construct malicious pickle data which will execute arbitrary code during unpickling (See https://github.com/pytorch/pytorch/blob/main/SECURITY.md#untrusted-models for more details). In a future release, the default value for `weights_only` will be flipped to `True`. This limits the functions that could be executed during unpickling. Arbitrary objects will no longer be allowed to be loaded via this mode unless they are explicitly allowlisted by the user via `torch.serialization.add_safe_globals`. We recommend you start setting `weights_only=True` for any use case where you don't have full control of the loaded file. Please open an issue on GitHub for any issues related to this experimental feature.\n",
            "  checkpoint = torch.load(fp, map_location=device)\n",
            "  4%|▍         | 10/250 [01:15<23:05,  5.77s/it]"
          ]
        },
        {
          "output_type": "stream",
          "name": "stdout",
          "text": [
            "Transcription of 144.wav:  You should provide him more respect.\n"
          ]
        },
        {
          "output_type": "stream",
          "name": "stderr",
          "text": [
            "/usr/local/lib/python3.10/dist-packages/whisper/__init__.py:150: FutureWarning: You are using `torch.load` with `weights_only=False` (the current default value), which uses the default pickle module implicitly. It is possible to construct malicious pickle data which will execute arbitrary code during unpickling (See https://github.com/pytorch/pytorch/blob/main/SECURITY.md#untrusted-models for more details). In a future release, the default value for `weights_only` will be flipped to `True`. This limits the functions that could be executed during unpickling. Arbitrary objects will no longer be allowed to be loaded via this mode unless they are explicitly allowlisted by the user via `torch.serialization.add_safe_globals`. We recommend you start setting `weights_only=True` for any use case where you don't have full control of the loaded file. Please open an issue on GitHub for any issues related to this experimental feature.\n",
            "  checkpoint = torch.load(fp, map_location=device)\n",
            "  4%|▍         | 11/250 [01:21<23:08,  5.81s/it]"
          ]
        },
        {
          "output_type": "stream",
          "name": "stdout",
          "text": [
            "Transcription of 110.wav:  We're dealing away with殷 seeds.\n"
          ]
        },
        {
          "output_type": "stream",
          "name": "stderr",
          "text": [
            "/usr/local/lib/python3.10/dist-packages/whisper/__init__.py:150: FutureWarning: You are using `torch.load` with `weights_only=False` (the current default value), which uses the default pickle module implicitly. It is possible to construct malicious pickle data which will execute arbitrary code during unpickling (See https://github.com/pytorch/pytorch/blob/main/SECURITY.md#untrusted-models for more details). In a future release, the default value for `weights_only` will be flipped to `True`. This limits the functions that could be executed during unpickling. Arbitrary objects will no longer be allowed to be loaded via this mode unless they are explicitly allowlisted by the user via `torch.serialization.add_safe_globals`. We recommend you start setting `weights_only=True` for any use case where you don't have full control of the loaded file. Please open an issue on GitHub for any issues related to this experimental feature.\n",
            "  checkpoint = torch.load(fp, map_location=device)\n",
            "  5%|▍         | 12/250 [01:28<24:27,  6.17s/it]"
          ]
        },
        {
          "output_type": "stream",
          "name": "stdout",
          "text": [
            "Transcription of 17.wav:  neuen the record has been야\n"
          ]
        },
        {
          "output_type": "stream",
          "name": "stderr",
          "text": [
            "/usr/local/lib/python3.10/dist-packages/whisper/__init__.py:150: FutureWarning: You are using `torch.load` with `weights_only=False` (the current default value), which uses the default pickle module implicitly. It is possible to construct malicious pickle data which will execute arbitrary code during unpickling (See https://github.com/pytorch/pytorch/blob/main/SECURITY.md#untrusted-models for more details). In a future release, the default value for `weights_only` will be flipped to `True`. This limits the functions that could be executed during unpickling. Arbitrary objects will no longer be allowed to be loaded via this mode unless they are explicitly allowlisted by the user via `torch.serialization.add_safe_globals`. We recommend you start setting `weights_only=True` for any use case where you don't have full control of the loaded file. Please open an issue on GitHub for any issues related to this experimental feature.\n",
            "  checkpoint = torch.load(fp, map_location=device)\n",
            "  5%|▌         | 13/250 [01:33<22:35,  5.72s/it]"
          ]
        },
        {
          "output_type": "stream",
          "name": "stdout",
          "text": [
            "Transcription of 230.wav:  It is providing me some relief.\n"
          ]
        },
        {
          "output_type": "stream",
          "name": "stderr",
          "text": [
            "/usr/local/lib/python3.10/dist-packages/whisper/__init__.py:150: FutureWarning: You are using `torch.load` with `weights_only=False` (the current default value), which uses the default pickle module implicitly. It is possible to construct malicious pickle data which will execute arbitrary code during unpickling (See https://github.com/pytorch/pytorch/blob/main/SECURITY.md#untrusted-models for more details). In a future release, the default value for `weights_only` will be flipped to `True`. This limits the functions that could be executed during unpickling. Arbitrary objects will no longer be allowed to be loaded via this mode unless they are explicitly allowlisted by the user via `torch.serialization.add_safe_globals`. We recommend you start setting `weights_only=True` for any use case where you don't have full control of the loaded file. Please open an issue on GitHub for any issues related to this experimental feature.\n",
            "  checkpoint = torch.load(fp, map_location=device)\n",
            "  6%|▌         | 14/250 [01:37<21:32,  5.48s/it]"
          ]
        },
        {
          "output_type": "stream",
          "name": "stdout",
          "text": [
            "Transcription of 349.wav:  get away from my side\n"
          ]
        },
        {
          "output_type": "stream",
          "name": "stderr",
          "text": [
            "/usr/local/lib/python3.10/dist-packages/whisper/__init__.py:150: FutureWarning: You are using `torch.load` with `weights_only=False` (the current default value), which uses the default pickle module implicitly. It is possible to construct malicious pickle data which will execute arbitrary code during unpickling (See https://github.com/pytorch/pytorch/blob/main/SECURITY.md#untrusted-models for more details). In a future release, the default value for `weights_only` will be flipped to `True`. This limits the functions that could be executed during unpickling. Arbitrary objects will no longer be allowed to be loaded via this mode unless they are explicitly allowlisted by the user via `torch.serialization.add_safe_globals`. We recommend you start setting `weights_only=True` for any use case where you don't have full control of the loaded file. Please open an issue on GitHub for any issues related to this experimental feature.\n",
            "  checkpoint = torch.load(fp, map_location=device)\n",
            "  6%|▌         | 15/250 [01:45<24:00,  6.13s/it]"
          ]
        },
        {
          "output_type": "stream",
          "name": "stdout",
          "text": [
            "Transcription of 343.wav:  What nonsense are you talking about?\n"
          ]
        },
        {
          "output_type": "stream",
          "name": "stderr",
          "text": [
            "/usr/local/lib/python3.10/dist-packages/whisper/__init__.py:150: FutureWarning: You are using `torch.load` with `weights_only=False` (the current default value), which uses the default pickle module implicitly. It is possible to construct malicious pickle data which will execute arbitrary code during unpickling (See https://github.com/pytorch/pytorch/blob/main/SECURITY.md#untrusted-models for more details). In a future release, the default value for `weights_only` will be flipped to `True`. This limits the functions that could be executed during unpickling. Arbitrary objects will no longer be allowed to be loaded via this mode unless they are explicitly allowlisted by the user via `torch.serialization.add_safe_globals`. We recommend you start setting `weights_only=True` for any use case where you don't have full control of the loaded file. Please open an issue on GitHub for any issues related to this experimental feature.\n",
            "  checkpoint = torch.load(fp, map_location=device)\n",
            "  6%|▋         | 16/250 [01:50<22:19,  5.72s/it]"
          ]
        },
        {
          "output_type": "stream",
          "name": "stdout",
          "text": [
            "Transcription of 37.wav:  I understood everything you taught me very well.\n"
          ]
        },
        {
          "output_type": "stream",
          "name": "stderr",
          "text": [
            "/usr/local/lib/python3.10/dist-packages/whisper/__init__.py:150: FutureWarning: You are using `torch.load` with `weights_only=False` (the current default value), which uses the default pickle module implicitly. It is possible to construct malicious pickle data which will execute arbitrary code during unpickling (See https://github.com/pytorch/pytorch/blob/main/SECURITY.md#untrusted-models for more details). In a future release, the default value for `weights_only` will be flipped to `True`. This limits the functions that could be executed during unpickling. Arbitrary objects will no longer be allowed to be loaded via this mode unless they are explicitly allowlisted by the user via `torch.serialization.add_safe_globals`. We recommend you start setting `weights_only=True` for any use case where you don't have full control of the loaded file. Please open an issue on GitHub for any issues related to this experimental feature.\n",
            "  checkpoint = torch.load(fp, map_location=device)\n",
            "  7%|▋         | 17/250 [01:56<22:39,  5.83s/it]"
          ]
        },
        {
          "output_type": "stream",
          "name": "stdout",
          "text": [
            "Transcription of 247.wav:  No one likes to talk with you.\n"
          ]
        },
        {
          "output_type": "stream",
          "name": "stderr",
          "text": [
            "/usr/local/lib/python3.10/dist-packages/whisper/__init__.py:150: FutureWarning: You are using `torch.load` with `weights_only=False` (the current default value), which uses the default pickle module implicitly. It is possible to construct malicious pickle data which will execute arbitrary code during unpickling (See https://github.com/pytorch/pytorch/blob/main/SECURITY.md#untrusted-models for more details). In a future release, the default value for `weights_only` will be flipped to `True`. This limits the functions that could be executed during unpickling. Arbitrary objects will no longer be allowed to be loaded via this mode unless they are explicitly allowlisted by the user via `torch.serialization.add_safe_globals`. We recommend you start setting `weights_only=True` for any use case where you don't have full control of the loaded file. Please open an issue on GitHub for any issues related to this experimental feature.\n",
            "  checkpoint = torch.load(fp, map_location=device)\n",
            "  7%|▋         | 18/250 [02:01<21:10,  5.48s/it]"
          ]
        },
        {
          "output_type": "stream",
          "name": "stdout",
          "text": [
            "Transcription of 106.wav:  You have a great ideology.\n"
          ]
        },
        {
          "output_type": "stream",
          "name": "stderr",
          "text": [
            "/usr/local/lib/python3.10/dist-packages/whisper/__init__.py:150: FutureWarning: You are using `torch.load` with `weights_only=False` (the current default value), which uses the default pickle module implicitly. It is possible to construct malicious pickle data which will execute arbitrary code during unpickling (See https://github.com/pytorch/pytorch/blob/main/SECURITY.md#untrusted-models for more details). In a future release, the default value for `weights_only` will be flipped to `True`. This limits the functions that could be executed during unpickling. Arbitrary objects will no longer be allowed to be loaded via this mode unless they are explicitly allowlisted by the user via `torch.serialization.add_safe_globals`. We recommend you start setting `weights_only=True` for any use case where you don't have full control of the loaded file. Please open an issue on GitHub for any issues related to this experimental feature.\n",
            "  checkpoint = torch.load(fp, map_location=device)\n",
            "  8%|▊         | 19/250 [02:07<22:40,  5.89s/it]"
          ]
        },
        {
          "output_type": "stream",
          "name": "stdout",
          "text": [
            "Transcription of 254.wav: you are converter-иться\n"
          ]
        },
        {
          "output_type": "stream",
          "name": "stderr",
          "text": [
            "/usr/local/lib/python3.10/dist-packages/whisper/__init__.py:150: FutureWarning: You are using `torch.load` with `weights_only=False` (the current default value), which uses the default pickle module implicitly. It is possible to construct malicious pickle data which will execute arbitrary code during unpickling (See https://github.com/pytorch/pytorch/blob/main/SECURITY.md#untrusted-models for more details). In a future release, the default value for `weights_only` will be flipped to `True`. This limits the functions that could be executed during unpickling. Arbitrary objects will no longer be allowed to be loaded via this mode unless they are explicitly allowlisted by the user via `torch.serialization.add_safe_globals`. We recommend you start setting `weights_only=True` for any use case where you don't have full control of the loaded file. Please open an issue on GitHub for any issues related to this experimental feature.\n",
            "  checkpoint = torch.load(fp, map_location=device)\n",
            "  8%|▊         | 20/250 [02:12<21:06,  5.51s/it]"
          ]
        },
        {
          "output_type": "stream",
          "name": "stdout",
          "text": [
            "Transcription of 70.wav:  I believe you a lot.\n"
          ]
        },
        {
          "output_type": "stream",
          "name": "stderr",
          "text": [
            "/usr/local/lib/python3.10/dist-packages/whisper/__init__.py:150: FutureWarning: You are using `torch.load` with `weights_only=False` (the current default value), which uses the default pickle module implicitly. It is possible to construct malicious pickle data which will execute arbitrary code during unpickling (See https://github.com/pytorch/pytorch/blob/main/SECURITY.md#untrusted-models for more details). In a future release, the default value for `weights_only` will be flipped to `True`. This limits the functions that could be executed during unpickling. Arbitrary objects will no longer be allowed to be loaded via this mode unless they are explicitly allowlisted by the user via `torch.serialization.add_safe_globals`. We recommend you start setting `weights_only=True` for any use case where you don't have full control of the loaded file. Please open an issue on GitHub for any issues related to this experimental feature.\n",
            "  checkpoint = torch.load(fp, map_location=device)\n",
            "  8%|▊         | 21/250 [02:32<37:22,  9.79s/it]"
          ]
        },
        {
          "output_type": "stream",
          "name": "stdout",
          "text": [
            "Transcription of 149.wav:  We your only refцию cou solidta\n"
          ]
        },
        {
          "output_type": "stream",
          "name": "stderr",
          "text": [
            "/usr/local/lib/python3.10/dist-packages/whisper/__init__.py:150: FutureWarning: You are using `torch.load` with `weights_only=False` (the current default value), which uses the default pickle module implicitly. It is possible to construct malicious pickle data which will execute arbitrary code during unpickling (See https://github.com/pytorch/pytorch/blob/main/SECURITY.md#untrusted-models for more details). In a future release, the default value for `weights_only` will be flipped to `True`. This limits the functions that could be executed during unpickling. Arbitrary objects will no longer be allowed to be loaded via this mode unless they are explicitly allowlisted by the user via `torch.serialization.add_safe_globals`. We recommend you start setting `weights_only=True` for any use case where you don't have full control of the loaded file. Please open an issue on GitHub for any issues related to this experimental feature.\n",
            "  checkpoint = torch.load(fp, map_location=device)\n",
            "  9%|▉         | 22/250 [02:36<31:21,  8.25s/it]"
          ]
        },
        {
          "output_type": "stream",
          "name": "stdout",
          "text": [
            "Transcription of 54.wav:  You cook great.\n"
          ]
        },
        {
          "output_type": "stream",
          "name": "stderr",
          "text": [
            "/usr/local/lib/python3.10/dist-packages/whisper/__init__.py:150: FutureWarning: You are using `torch.load` with `weights_only=False` (the current default value), which uses the default pickle module implicitly. It is possible to construct malicious pickle data which will execute arbitrary code during unpickling (See https://github.com/pytorch/pytorch/blob/main/SECURITY.md#untrusted-models for more details). In a future release, the default value for `weights_only` will be flipped to `True`. This limits the functions that could be executed during unpickling. Arbitrary objects will no longer be allowed to be loaded via this mode unless they are explicitly allowlisted by the user via `torch.serialization.add_safe_globals`. We recommend you start setting `weights_only=True` for any use case where you don't have full control of the loaded file. Please open an issue on GitHub for any issues related to this experimental feature.\n",
            "  checkpoint = torch.load(fp, map_location=device)\n",
            "  9%|▉         | 23/250 [02:41<27:23,  7.24s/it]"
          ]
        },
        {
          "output_type": "stream",
          "name": "stdout",
          "text": [
            "Transcription of 73.wav:  यो अर लेगुलर गाई\n"
          ]
        },
        {
          "output_type": "stream",
          "name": "stderr",
          "text": [
            "/usr/local/lib/python3.10/dist-packages/whisper/__init__.py:150: FutureWarning: You are using `torch.load` with `weights_only=False` (the current default value), which uses the default pickle module implicitly. It is possible to construct malicious pickle data which will execute arbitrary code during unpickling (See https://github.com/pytorch/pytorch/blob/main/SECURITY.md#untrusted-models for more details). In a future release, the default value for `weights_only` will be flipped to `True`. This limits the functions that could be executed during unpickling. Arbitrary objects will no longer be allowed to be loaded via this mode unless they are explicitly allowlisted by the user via `torch.serialization.add_safe_globals`. We recommend you start setting `weights_only=True` for any use case where you don't have full control of the loaded file. Please open an issue on GitHub for any issues related to this experimental feature.\n",
            "  checkpoint = torch.load(fp, map_location=device)\n",
            " 10%|▉         | 24/250 [02:47<25:55,  6.88s/it]"
          ]
        },
        {
          "output_type": "stream",
          "name": "stdout",
          "text": [
            "Transcription of 321.wav:  I am very much ashamed of you.\n"
          ]
        },
        {
          "output_type": "stream",
          "name": "stderr",
          "text": [
            "/usr/local/lib/python3.10/dist-packages/whisper/__init__.py:150: FutureWarning: You are using `torch.load` with `weights_only=False` (the current default value), which uses the default pickle module implicitly. It is possible to construct malicious pickle data which will execute arbitrary code during unpickling (See https://github.com/pytorch/pytorch/blob/main/SECURITY.md#untrusted-models for more details). In a future release, the default value for `weights_only` will be flipped to `True`. This limits the functions that could be executed during unpickling. Arbitrary objects will no longer be allowed to be loaded via this mode unless they are explicitly allowlisted by the user via `torch.serialization.add_safe_globals`. We recommend you start setting `weights_only=True` for any use case where you don't have full control of the loaded file. Please open an issue on GitHub for any issues related to this experimental feature.\n",
            "  checkpoint = torch.load(fp, map_location=device)\n",
            " 10%|█         | 25/250 [02:52<23:26,  6.25s/it]"
          ]
        },
        {
          "output_type": "stream",
          "name": "stdout",
          "text": [
            "Transcription of 302.wav:  I don't do this, I don't do this.\n"
          ]
        },
        {
          "output_type": "stream",
          "name": "stderr",
          "text": [
            "/usr/local/lib/python3.10/dist-packages/whisper/__init__.py:150: FutureWarning: You are using `torch.load` with `weights_only=False` (the current default value), which uses the default pickle module implicitly. It is possible to construct malicious pickle data which will execute arbitrary code during unpickling (See https://github.com/pytorch/pytorch/blob/main/SECURITY.md#untrusted-models for more details). In a future release, the default value for `weights_only` will be flipped to `True`. This limits the functions that could be executed during unpickling. Arbitrary objects will no longer be allowed to be loaded via this mode unless they are explicitly allowlisted by the user via `torch.serialization.add_safe_globals`. We recommend you start setting `weights_only=True` for any use case where you don't have full control of the loaded file. Please open an issue on GitHub for any issues related to this experimental feature.\n",
            "  checkpoint = torch.load(fp, map_location=device)\n",
            " 10%|█         | 26/250 [02:58<22:22,  5.99s/it]"
          ]
        },
        {
          "output_type": "stream",
          "name": "stdout",
          "text": [
            "Transcription of 183.wav:  You should be more loyal.\n"
          ]
        },
        {
          "output_type": "stream",
          "name": "stderr",
          "text": [
            "/usr/local/lib/python3.10/dist-packages/whisper/__init__.py:150: FutureWarning: You are using `torch.load` with `weights_only=False` (the current default value), which uses the default pickle module implicitly. It is possible to construct malicious pickle data which will execute arbitrary code during unpickling (See https://github.com/pytorch/pytorch/blob/main/SECURITY.md#untrusted-models for more details). In a future release, the default value for `weights_only` will be flipped to `True`. This limits the functions that could be executed during unpickling. Arbitrary objects will no longer be allowed to be loaded via this mode unless they are explicitly allowlisted by the user via `torch.serialization.add_safe_globals`. We recommend you start setting `weights_only=True` for any use case where you don't have full control of the loaded file. Please open an issue on GitHub for any issues related to this experimental feature.\n",
            "  checkpoint = torch.load(fp, map_location=device)\n",
            " 11%|█         | 27/250 [03:03<21:13,  5.71s/it]"
          ]
        },
        {
          "output_type": "stream",
          "name": "stdout",
          "text": [
            "Transcription of 160.wav:  Your explanation was good but try to be more precise.\n"
          ]
        },
        {
          "output_type": "stream",
          "name": "stderr",
          "text": [
            "/usr/local/lib/python3.10/dist-packages/whisper/__init__.py:150: FutureWarning: You are using `torch.load` with `weights_only=False` (the current default value), which uses the default pickle module implicitly. It is possible to construct malicious pickle data which will execute arbitrary code during unpickling (See https://github.com/pytorch/pytorch/blob/main/SECURITY.md#untrusted-models for more details). In a future release, the default value for `weights_only` will be flipped to `True`. This limits the functions that could be executed during unpickling. Arbitrary objects will no longer be allowed to be loaded via this mode unless they are explicitly allowlisted by the user via `torch.serialization.add_safe_globals`. We recommend you start setting `weights_only=True` for any use case where you don't have full control of the loaded file. Please open an issue on GitHub for any issues related to this experimental feature.\n",
            "  checkpoint = torch.load(fp, map_location=device)\n",
            " 11%|█         | 28/250 [03:07<20:00,  5.41s/it]"
          ]
        },
        {
          "output_type": "stream",
          "name": "stdout",
          "text": [
            "Transcription of 108.wav:  You have a great ideology.\n"
          ]
        },
        {
          "output_type": "stream",
          "name": "stderr",
          "text": [
            "/usr/local/lib/python3.10/dist-packages/whisper/__init__.py:150: FutureWarning: You are using `torch.load` with `weights_only=False` (the current default value), which uses the default pickle module implicitly. It is possible to construct malicious pickle data which will execute arbitrary code during unpickling (See https://github.com/pytorch/pytorch/blob/main/SECURITY.md#untrusted-models for more details). In a future release, the default value for `weights_only` will be flipped to `True`. This limits the functions that could be executed during unpickling. Arbitrary objects will no longer be allowed to be loaded via this mode unless they are explicitly allowlisted by the user via `torch.serialization.add_safe_globals`. We recommend you start setting `weights_only=True` for any use case where you don't have full control of the loaded file. Please open an issue on GitHub for any issues related to this experimental feature.\n",
            "  checkpoint = torch.load(fp, map_location=device)\n",
            " 12%|█▏        | 29/250 [03:13<20:29,  5.56s/it]"
          ]
        },
        {
          "output_type": "stream",
          "name": "stdout",
          "text": [
            "Transcription of 79.wav:  You are a very responsible person.\n"
          ]
        },
        {
          "output_type": "stream",
          "name": "stderr",
          "text": [
            "/usr/local/lib/python3.10/dist-packages/whisper/__init__.py:150: FutureWarning: You are using `torch.load` with `weights_only=False` (the current default value), which uses the default pickle module implicitly. It is possible to construct malicious pickle data which will execute arbitrary code during unpickling (See https://github.com/pytorch/pytorch/blob/main/SECURITY.md#untrusted-models for more details). In a future release, the default value for `weights_only` will be flipped to `True`. This limits the functions that could be executed during unpickling. Arbitrary objects will no longer be allowed to be loaded via this mode unless they are explicitly allowlisted by the user via `torch.serialization.add_safe_globals`. We recommend you start setting `weights_only=True` for any use case where you don't have full control of the loaded file. Please open an issue on GitHub for any issues related to this experimental feature.\n",
            "  checkpoint = torch.load(fp, map_location=device)\n",
            " 12%|█▏        | 30/250 [03:18<19:27,  5.31s/it]"
          ]
        },
        {
          "output_type": "stream",
          "name": "stdout",
          "text": [
            "Transcription of 355.wav:  You can never be an ideal of someone.\n"
          ]
        },
        {
          "output_type": "stream",
          "name": "stderr",
          "text": [
            "/usr/local/lib/python3.10/dist-packages/whisper/__init__.py:150: FutureWarning: You are using `torch.load` with `weights_only=False` (the current default value), which uses the default pickle module implicitly. It is possible to construct malicious pickle data which will execute arbitrary code during unpickling (See https://github.com/pytorch/pytorch/blob/main/SECURITY.md#untrusted-models for more details). In a future release, the default value for `weights_only` will be flipped to `True`. This limits the functions that could be executed during unpickling. Arbitrary objects will no longer be allowed to be loaded via this mode unless they are explicitly allowlisted by the user via `torch.serialization.add_safe_globals`. We recommend you start setting `weights_only=True` for any use case where you don't have full control of the loaded file. Please open an issue on GitHub for any issues related to this experimental feature.\n",
            "  checkpoint = torch.load(fp, map_location=device)\n",
            " 12%|█▏        | 31/250 [03:23<18:59,  5.20s/it]"
          ]
        },
        {
          "output_type": "stream",
          "name": "stdout",
          "text": [
            "Transcription of 210.wav:  You need to work more on it.\n"
          ]
        },
        {
          "output_type": "stream",
          "name": "stderr",
          "text": [
            "/usr/local/lib/python3.10/dist-packages/whisper/__init__.py:150: FutureWarning: You are using `torch.load` with `weights_only=False` (the current default value), which uses the default pickle module implicitly. It is possible to construct malicious pickle data which will execute arbitrary code during unpickling (See https://github.com/pytorch/pytorch/blob/main/SECURITY.md#untrusted-models for more details). In a future release, the default value for `weights_only` will be flipped to `True`. This limits the functions that could be executed during unpickling. Arbitrary objects will no longer be allowed to be loaded via this mode unless they are explicitly allowlisted by the user via `torch.serialization.add_safe_globals`. We recommend you start setting `weights_only=True` for any use case where you don't have full control of the loaded file. Please open an issue on GitHub for any issues related to this experimental feature.\n",
            "  checkpoint = torch.load(fp, map_location=device)\n",
            " 13%|█▎        | 32/250 [03:29<20:09,  5.55s/it]"
          ]
        },
        {
          "output_type": "stream",
          "name": "stdout",
          "text": [
            "Transcription of 29.wav:  Yo ahora veré que haré un persen\n"
          ]
        },
        {
          "output_type": "stream",
          "name": "stderr",
          "text": [
            "/usr/local/lib/python3.10/dist-packages/whisper/__init__.py:150: FutureWarning: You are using `torch.load` with `weights_only=False` (the current default value), which uses the default pickle module implicitly. It is possible to construct malicious pickle data which will execute arbitrary code during unpickling (See https://github.com/pytorch/pytorch/blob/main/SECURITY.md#untrusted-models for more details). In a future release, the default value for `weights_only` will be flipped to `True`. This limits the functions that could be executed during unpickling. Arbitrary objects will no longer be allowed to be loaded via this mode unless they are explicitly allowlisted by the user via `torch.serialization.add_safe_globals`. We recommend you start setting `weights_only=True` for any use case where you don't have full control of the loaded file. Please open an issue on GitHub for any issues related to this experimental feature.\n",
            "  checkpoint = torch.load(fp, map_location=device)\n",
            " 13%|█▎        | 33/250 [03:34<19:06,  5.28s/it]"
          ]
        },
        {
          "output_type": "stream",
          "name": "stdout",
          "text": [
            "Transcription of 301.wav:  Your attitude is very bad.\n"
          ]
        },
        {
          "output_type": "stream",
          "name": "stderr",
          "text": [
            "/usr/local/lib/python3.10/dist-packages/whisper/__init__.py:150: FutureWarning: You are using `torch.load` with `weights_only=False` (the current default value), which uses the default pickle module implicitly. It is possible to construct malicious pickle data which will execute arbitrary code during unpickling (See https://github.com/pytorch/pytorch/blob/main/SECURITY.md#untrusted-models for more details). In a future release, the default value for `weights_only` will be flipped to `True`. This limits the functions that could be executed during unpickling. Arbitrary objects will no longer be allowed to be loaded via this mode unless they are explicitly allowlisted by the user via `torch.serialization.add_safe_globals`. We recommend you start setting `weights_only=True` for any use case where you don't have full control of the loaded file. Please open an issue on GitHub for any issues related to this experimental feature.\n",
            "  checkpoint = torch.load(fp, map_location=device)\n",
            " 14%|█▎        | 34/250 [03:40<19:43,  5.48s/it]"
          ]
        },
        {
          "output_type": "stream",
          "name": "stdout",
          "text": [
            "Transcription of 243.wav:  You will now be in trouble.\n"
          ]
        },
        {
          "output_type": "stream",
          "name": "stderr",
          "text": [
            "/usr/local/lib/python3.10/dist-packages/whisper/__init__.py:150: FutureWarning: You are using `torch.load` with `weights_only=False` (the current default value), which uses the default pickle module implicitly. It is possible to construct malicious pickle data which will execute arbitrary code during unpickling (See https://github.com/pytorch/pytorch/blob/main/SECURITY.md#untrusted-models for more details). In a future release, the default value for `weights_only` will be flipped to `True`. This limits the functions that could be executed during unpickling. Arbitrary objects will no longer be allowed to be loaded via this mode unless they are explicitly allowlisted by the user via `torch.serialization.add_safe_globals`. We recommend you start setting `weights_only=True` for any use case where you don't have full control of the loaded file. Please open an issue on GitHub for any issues related to this experimental feature.\n",
            "  checkpoint = torch.load(fp, map_location=device)\n",
            " 14%|█▍        | 35/250 [03:45<18:45,  5.23s/it]"
          ]
        },
        {
          "output_type": "stream",
          "name": "stdout",
          "text": [
            "Transcription of 303.wav:  Your attitude is very bad.\n"
          ]
        },
        {
          "output_type": "stream",
          "name": "stderr",
          "text": [
            "/usr/local/lib/python3.10/dist-packages/whisper/__init__.py:150: FutureWarning: You are using `torch.load` with `weights_only=False` (the current default value), which uses the default pickle module implicitly. It is possible to construct malicious pickle data which will execute arbitrary code during unpickling (See https://github.com/pytorch/pytorch/blob/main/SECURITY.md#untrusted-models for more details). In a future release, the default value for `weights_only` will be flipped to `True`. This limits the functions that could be executed during unpickling. Arbitrary objects will no longer be allowed to be loaded via this mode unless they are explicitly allowlisted by the user via `torch.serialization.add_safe_globals`. We recommend you start setting `weights_only=True` for any use case where you don't have full control of the loaded file. Please open an issue on GitHub for any issues related to this experimental feature.\n",
            "  checkpoint = torch.load(fp, map_location=device)\n",
            " 14%|█▍        | 36/250 [03:49<18:14,  5.11s/it]"
          ]
        },
        {
          "output_type": "stream",
          "name": "stdout",
          "text": [
            "Transcription of 324.wav:  Everything you said was useless.\n"
          ]
        },
        {
          "output_type": "stream",
          "name": "stderr",
          "text": [
            "/usr/local/lib/python3.10/dist-packages/whisper/__init__.py:150: FutureWarning: You are using `torch.load` with `weights_only=False` (the current default value), which uses the default pickle module implicitly. It is possible to construct malicious pickle data which will execute arbitrary code during unpickling (See https://github.com/pytorch/pytorch/blob/main/SECURITY.md#untrusted-models for more details). In a future release, the default value for `weights_only` will be flipped to `True`. This limits the functions that could be executed during unpickling. Arbitrary objects will no longer be allowed to be loaded via this mode unless they are explicitly allowlisted by the user via `torch.serialization.add_safe_globals`. We recommend you start setting `weights_only=True` for any use case where you don't have full control of the loaded file. Please open an issue on GitHub for any issues related to this experimental feature.\n",
            "  checkpoint = torch.load(fp, map_location=device)\n",
            " 15%|█▍        | 37/250 [03:55<18:42,  5.27s/it]"
          ]
        },
        {
          "output_type": "stream",
          "name": "stdout",
          "text": [
            "Transcription of 58.wav:  You are a great mentor.\n"
          ]
        },
        {
          "output_type": "stream",
          "name": "stderr",
          "text": [
            "/usr/local/lib/python3.10/dist-packages/whisper/__init__.py:150: FutureWarning: You are using `torch.load` with `weights_only=False` (the current default value), which uses the default pickle module implicitly. It is possible to construct malicious pickle data which will execute arbitrary code during unpickling (See https://github.com/pytorch/pytorch/blob/main/SECURITY.md#untrusted-models for more details). In a future release, the default value for `weights_only` will be flipped to `True`. This limits the functions that could be executed during unpickling. Arbitrary objects will no longer be allowed to be loaded via this mode unless they are explicitly allowlisted by the user via `torch.serialization.add_safe_globals`. We recommend you start setting `weights_only=True` for any use case where you don't have full control of the loaded file. Please open an issue on GitHub for any issues related to this experimental feature.\n",
            "  checkpoint = torch.load(fp, map_location=device)\n",
            " 15%|█▌        | 38/250 [04:00<17:59,  5.09s/it]"
          ]
        },
        {
          "output_type": "stream",
          "name": "stdout",
          "text": [
            "Transcription of 74.wav:  We are at a limit back\n"
          ]
        },
        {
          "output_type": "stream",
          "name": "stderr",
          "text": [
            "/usr/local/lib/python3.10/dist-packages/whisper/__init__.py:150: FutureWarning: You are using `torch.load` with `weights_only=False` (the current default value), which uses the default pickle module implicitly. It is possible to construct malicious pickle data which will execute arbitrary code during unpickling (See https://github.com/pytorch/pytorch/blob/main/SECURITY.md#untrusted-models for more details). In a future release, the default value for `weights_only` will be flipped to `True`. This limits the functions that could be executed during unpickling. Arbitrary objects will no longer be allowed to be loaded via this mode unless they are explicitly allowlisted by the user via `torch.serialization.add_safe_globals`. We recommend you start setting `weights_only=True` for any use case where you don't have full control of the loaded file. Please open an issue on GitHub for any issues related to this experimental feature.\n",
            "  checkpoint = torch.load(fp, map_location=device)\n",
            " 16%|█▌        | 39/250 [04:06<18:50,  5.36s/it]"
          ]
        },
        {
          "output_type": "stream",
          "name": "stdout",
          "text": [
            "Transcription of 145.wav:  Your performance was good but you should improve more.\n"
          ]
        },
        {
          "output_type": "stream",
          "name": "stderr",
          "text": [
            "/usr/local/lib/python3.10/dist-packages/whisper/__init__.py:150: FutureWarning: You are using `torch.load` with `weights_only=False` (the current default value), which uses the default pickle module implicitly. It is possible to construct malicious pickle data which will execute arbitrary code during unpickling (See https://github.com/pytorch/pytorch/blob/main/SECURITY.md#untrusted-models for more details). In a future release, the default value for `weights_only` will be flipped to `True`. This limits the functions that could be executed during unpickling. Arbitrary objects will no longer be allowed to be loaded via this mode unless they are explicitly allowlisted by the user via `torch.serialization.add_safe_globals`. We recommend you start setting `weights_only=True` for any use case where you don't have full control of the loaded file. Please open an issue on GitHub for any issues related to this experimental feature.\n",
            "  checkpoint = torch.load(fp, map_location=device)\n",
            " 16%|█▌        | 40/250 [04:10<18:04,  5.17s/it]"
          ]
        },
        {
          "output_type": "stream",
          "name": "stdout",
          "text": [
            "Transcription of 28.wav:  You are a very caring person.\n"
          ]
        },
        {
          "output_type": "stream",
          "name": "stderr",
          "text": [
            "/usr/local/lib/python3.10/dist-packages/whisper/__init__.py:150: FutureWarning: You are using `torch.load` with `weights_only=False` (the current default value), which uses the default pickle module implicitly. It is possible to construct malicious pickle data which will execute arbitrary code during unpickling (See https://github.com/pytorch/pytorch/blob/main/SECURITY.md#untrusted-models for more details). In a future release, the default value for `weights_only` will be flipped to `True`. This limits the functions that could be executed during unpickling. Arbitrary objects will no longer be allowed to be loaded via this mode unless they are explicitly allowlisted by the user via `torch.serialization.add_safe_globals`. We recommend you start setting `weights_only=True` for any use case where you don't have full control of the loaded file. Please open an issue on GitHub for any issues related to this experimental feature.\n",
            "  checkpoint = torch.load(fp, map_location=device)\n",
            " 16%|█▋        | 41/250 [04:16<17:57,  5.16s/it]"
          ]
        },
        {
          "output_type": "stream",
          "name": "stdout",
          "text": [
            "Transcription of 289.wav:  What rubbish are you talking about?\n"
          ]
        },
        {
          "output_type": "stream",
          "name": "stderr",
          "text": [
            "/usr/local/lib/python3.10/dist-packages/whisper/__init__.py:150: FutureWarning: You are using `torch.load` with `weights_only=False` (the current default value), which uses the default pickle module implicitly. It is possible to construct malicious pickle data which will execute arbitrary code during unpickling (See https://github.com/pytorch/pytorch/blob/main/SECURITY.md#untrusted-models for more details). In a future release, the default value for `weights_only` will be flipped to `True`. This limits the functions that could be executed during unpickling. Arbitrary objects will no longer be allowed to be loaded via this mode unless they are explicitly allowlisted by the user via `torch.serialization.add_safe_globals`. We recommend you start setting `weights_only=True` for any use case where you don't have full control of the loaded file. Please open an issue on GitHub for any issues related to this experimental feature.\n",
            "  checkpoint = torch.load(fp, map_location=device)\n",
            " 17%|█▋        | 42/250 [04:21<18:40,  5.39s/it]"
          ]
        },
        {
          "output_type": "stream",
          "name": "stdout",
          "text": [
            "Transcription of 171.wav:  There has neither been gain nor loss.\n"
          ]
        },
        {
          "output_type": "stream",
          "name": "stderr",
          "text": [
            "/usr/local/lib/python3.10/dist-packages/whisper/__init__.py:150: FutureWarning: You are using `torch.load` with `weights_only=False` (the current default value), which uses the default pickle module implicitly. It is possible to construct malicious pickle data which will execute arbitrary code during unpickling (See https://github.com/pytorch/pytorch/blob/main/SECURITY.md#untrusted-models for more details). In a future release, the default value for `weights_only` will be flipped to `True`. This limits the functions that could be executed during unpickling. Arbitrary objects will no longer be allowed to be loaded via this mode unless they are explicitly allowlisted by the user via `torch.serialization.add_safe_globals`. We recommend you start setting `weights_only=True` for any use case where you don't have full control of the loaded file. Please open an issue on GitHub for any issues related to this experimental feature.\n",
            "  checkpoint = torch.load(fp, map_location=device)\n",
            " 17%|█▋        | 43/250 [04:26<17:50,  5.17s/it]"
          ]
        },
        {
          "output_type": "stream",
          "name": "stdout",
          "text": [
            "Transcription of 261.wav:  Your answers were totally wrong.\n"
          ]
        },
        {
          "output_type": "stream",
          "name": "stderr",
          "text": [
            "/usr/local/lib/python3.10/dist-packages/whisper/__init__.py:150: FutureWarning: You are using `torch.load` with `weights_only=False` (the current default value), which uses the default pickle module implicitly. It is possible to construct malicious pickle data which will execute arbitrary code during unpickling (See https://github.com/pytorch/pytorch/blob/main/SECURITY.md#untrusted-models for more details). In a future release, the default value for `weights_only` will be flipped to `True`. This limits the functions that could be executed during unpickling. Arbitrary objects will no longer be allowed to be loaded via this mode unless they are explicitly allowlisted by the user via `torch.serialization.add_safe_globals`. We recommend you start setting `weights_only=True` for any use case where you don't have full control of the loaded file. Please open an issue on GitHub for any issues related to this experimental feature.\n",
            "  checkpoint = torch.load(fp, map_location=device)\n",
            " 18%|█▊        | 44/250 [04:32<18:23,  5.36s/it]"
          ]
        },
        {
          "output_type": "stream",
          "name": "stdout",
          "text": [
            "Transcription of 168.wav:  You have not won but you have also not lost.\n"
          ]
        },
        {
          "output_type": "stream",
          "name": "stderr",
          "text": [
            "/usr/local/lib/python3.10/dist-packages/whisper/__init__.py:150: FutureWarning: You are using `torch.load` with `weights_only=False` (the current default value), which uses the default pickle module implicitly. It is possible to construct malicious pickle data which will execute arbitrary code during unpickling (See https://github.com/pytorch/pytorch/blob/main/SECURITY.md#untrusted-models for more details). In a future release, the default value for `weights_only` will be flipped to `True`. This limits the functions that could be executed during unpickling. Arbitrary objects will no longer be allowed to be loaded via this mode unless they are explicitly allowlisted by the user via `torch.serialization.add_safe_globals`. We recommend you start setting `weights_only=True` for any use case where you don't have full control of the loaded file. Please open an issue on GitHub for any issues related to this experimental feature.\n",
            "  checkpoint = torch.load(fp, map_location=device)\n",
            " 18%|█▊        | 45/250 [04:37<17:31,  5.13s/it]"
          ]
        },
        {
          "output_type": "stream",
          "name": "stdout",
          "text": [
            "Transcription of 22.wav:  Wow wonderful suggestion\n"
          ]
        },
        {
          "output_type": "stream",
          "name": "stderr",
          "text": [
            "/usr/local/lib/python3.10/dist-packages/whisper/__init__.py:150: FutureWarning: You are using `torch.load` with `weights_only=False` (the current default value), which uses the default pickle module implicitly. It is possible to construct malicious pickle data which will execute arbitrary code during unpickling (See https://github.com/pytorch/pytorch/blob/main/SECURITY.md#untrusted-models for more details). In a future release, the default value for `weights_only` will be flipped to `True`. This limits the functions that could be executed during unpickling. Arbitrary objects will no longer be allowed to be loaded via this mode unless they are explicitly allowlisted by the user via `torch.serialization.add_safe_globals`. We recommend you start setting `weights_only=True` for any use case where you don't have full control of the loaded file. Please open an issue on GitHub for any issues related to this experimental feature.\n",
            "  checkpoint = torch.load(fp, map_location=device)\n",
            " 18%|█▊        | 46/250 [04:41<16:59,  5.00s/it]"
          ]
        },
        {
          "output_type": "stream",
          "name": "stdout",
          "text": [
            "Transcription of 163.wav:  You can do a lot better than this.\n"
          ]
        },
        {
          "output_type": "stream",
          "name": "stderr",
          "text": [
            "/usr/local/lib/python3.10/dist-packages/whisper/__init__.py:150: FutureWarning: You are using `torch.load` with `weights_only=False` (the current default value), which uses the default pickle module implicitly. It is possible to construct malicious pickle data which will execute arbitrary code during unpickling (See https://github.com/pytorch/pytorch/blob/main/SECURITY.md#untrusted-models for more details). In a future release, the default value for `weights_only` will be flipped to `True`. This limits the functions that could be executed during unpickling. Arbitrary objects will no longer be allowed to be loaded via this mode unless they are explicitly allowlisted by the user via `torch.serialization.add_safe_globals`. We recommend you start setting `weights_only=True` for any use case where you don't have full control of the loaded file. Please open an issue on GitHub for any issues related to this experimental feature.\n",
            "  checkpoint = torch.load(fp, map_location=device)\n",
            " 19%|█▉        | 47/250 [04:47<17:57,  5.31s/it]"
          ]
        },
        {
          "output_type": "stream",
          "name": "stdout",
          "text": [
            "Transcription of 20.wav:  I'm doing a great job.\n"
          ]
        },
        {
          "output_type": "stream",
          "name": "stderr",
          "text": [
            "/usr/local/lib/python3.10/dist-packages/whisper/__init__.py:150: FutureWarning: You are using `torch.load` with `weights_only=False` (the current default value), which uses the default pickle module implicitly. It is possible to construct malicious pickle data which will execute arbitrary code during unpickling (See https://github.com/pytorch/pytorch/blob/main/SECURITY.md#untrusted-models for more details). In a future release, the default value for `weights_only` will be flipped to `True`. This limits the functions that could be executed during unpickling. Arbitrary objects will no longer be allowed to be loaded via this mode unless they are explicitly allowlisted by the user via `torch.serialization.add_safe_globals`. We recommend you start setting `weights_only=True` for any use case where you don't have full control of the loaded file. Please open an issue on GitHub for any issues related to this experimental feature.\n",
            "  checkpoint = torch.load(fp, map_location=device)\n",
            " 19%|█▉        | 48/250 [04:52<17:10,  5.10s/it]"
          ]
        },
        {
          "output_type": "stream",
          "name": "stdout",
          "text": [
            "Transcription of 226.wav:  The project was good but it needs more modification.\n"
          ]
        },
        {
          "output_type": "stream",
          "name": "stderr",
          "text": [
            "/usr/local/lib/python3.10/dist-packages/whisper/__init__.py:150: FutureWarning: You are using `torch.load` with `weights_only=False` (the current default value), which uses the default pickle module implicitly. It is possible to construct malicious pickle data which will execute arbitrary code during unpickling (See https://github.com/pytorch/pytorch/blob/main/SECURITY.md#untrusted-models for more details). In a future release, the default value for `weights_only` will be flipped to `True`. This limits the functions that could be executed during unpickling. Arbitrary objects will no longer be allowed to be loaded via this mode unless they are explicitly allowlisted by the user via `torch.serialization.add_safe_globals`. We recommend you start setting `weights_only=True` for any use case where you don't have full control of the loaded file. Please open an issue on GitHub for any issues related to this experimental feature.\n",
            "  checkpoint = torch.load(fp, map_location=device)\n",
            " 20%|█▉        | 49/250 [04:58<18:25,  5.50s/it]"
          ]
        },
        {
          "output_type": "stream",
          "name": "stdout",
          "text": [
            "Transcription of 308.wav:  You are recoil aribile\n"
          ]
        },
        {
          "output_type": "stream",
          "name": "stderr",
          "text": [
            "/usr/local/lib/python3.10/dist-packages/whisper/__init__.py:150: FutureWarning: You are using `torch.load` with `weights_only=False` (the current default value), which uses the default pickle module implicitly. It is possible to construct malicious pickle data which will execute arbitrary code during unpickling (See https://github.com/pytorch/pytorch/blob/main/SECURITY.md#untrusted-models for more details). In a future release, the default value for `weights_only` will be flipped to `True`. This limits the functions that could be executed during unpickling. Arbitrary objects will no longer be allowed to be loaded via this mode unless they are explicitly allowlisted by the user via `torch.serialization.add_safe_globals`. We recommend you start setting `weights_only=True` for any use case where you don't have full control of the loaded file. Please open an issue on GitHub for any issues related to this experimental feature.\n",
            "  checkpoint = torch.load(fp, map_location=device)\n",
            " 20%|██        | 50/250 [05:03<17:50,  5.35s/it]"
          ]
        },
        {
          "output_type": "stream",
          "name": "stdout",
          "text": [
            "Transcription of 266.wav:  நிற்வாய்சியும் வெரியம் தினைக்கிறேன்\n"
          ]
        },
        {
          "output_type": "stream",
          "name": "stderr",
          "text": [
            "/usr/local/lib/python3.10/dist-packages/whisper/__init__.py:150: FutureWarning: You are using `torch.load` with `weights_only=False` (the current default value), which uses the default pickle module implicitly. It is possible to construct malicious pickle data which will execute arbitrary code during unpickling (See https://github.com/pytorch/pytorch/blob/main/SECURITY.md#untrusted-models for more details). In a future release, the default value for `weights_only` will be flipped to `True`. This limits the functions that could be executed during unpickling. Arbitrary objects will no longer be allowed to be loaded via this mode unless they are explicitly allowlisted by the user via `torch.serialization.add_safe_globals`. We recommend you start setting `weights_only=True` for any use case where you don't have full control of the loaded file. Please open an issue on GitHub for any issues related to this experimental feature.\n",
            "  checkpoint = torch.load(fp, map_location=device)\n",
            " 20%|██        | 51/250 [05:08<17:04,  5.15s/it]"
          ]
        },
        {
          "output_type": "stream",
          "name": "stdout",
          "text": [
            "Transcription of 76.wav:  You guided me to the correct path.\n"
          ]
        },
        {
          "output_type": "stream",
          "name": "stderr",
          "text": [
            "/usr/local/lib/python3.10/dist-packages/whisper/__init__.py:150: FutureWarning: You are using `torch.load` with `weights_only=False` (the current default value), which uses the default pickle module implicitly. It is possible to construct malicious pickle data which will execute arbitrary code during unpickling (See https://github.com/pytorch/pytorch/blob/main/SECURITY.md#untrusted-models for more details). In a future release, the default value for `weights_only` will be flipped to `True`. This limits the functions that could be executed during unpickling. Arbitrary objects will no longer be allowed to be loaded via this mode unless they are explicitly allowlisted by the user via `torch.serialization.add_safe_globals`. We recommend you start setting `weights_only=True` for any use case where you don't have full control of the loaded file. Please open an issue on GitHub for any issues related to this experimental feature.\n",
            "  checkpoint = torch.load(fp, map_location=device)\n",
            " 21%|██        | 52/250 [05:15<18:26,  5.59s/it]"
          ]
        },
        {
          "output_type": "stream",
          "name": "stdout",
          "text": [
            "Transcription of 317.wav:  educator\n"
          ]
        },
        {
          "output_type": "stream",
          "name": "stderr",
          "text": [
            "/usr/local/lib/python3.10/dist-packages/whisper/__init__.py:150: FutureWarning: You are using `torch.load` with `weights_only=False` (the current default value), which uses the default pickle module implicitly. It is possible to construct malicious pickle data which will execute arbitrary code during unpickling (See https://github.com/pytorch/pytorch/blob/main/SECURITY.md#untrusted-models for more details). In a future release, the default value for `weights_only` will be flipped to `True`. This limits the functions that could be executed during unpickling. Arbitrary objects will no longer be allowed to be loaded via this mode unless they are explicitly allowlisted by the user via `torch.serialization.add_safe_globals`. We recommend you start setting `weights_only=True` for any use case where you don't have full control of the loaded file. Please open an issue on GitHub for any issues related to this experimental feature.\n",
            "  checkpoint = torch.load(fp, map_location=device)\n",
            " 21%|██        | 53/250 [05:19<17:19,  5.28s/it]"
          ]
        },
        {
          "output_type": "stream",
          "name": "stdout",
          "text": [
            "Transcription of 280.wav:  No one likes to talk about you.\n"
          ]
        },
        {
          "output_type": "stream",
          "name": "stderr",
          "text": [
            "/usr/local/lib/python3.10/dist-packages/whisper/__init__.py:150: FutureWarning: You are using `torch.load` with `weights_only=False` (the current default value), which uses the default pickle module implicitly. It is possible to construct malicious pickle data which will execute arbitrary code during unpickling (See https://github.com/pytorch/pytorch/blob/main/SECURITY.md#untrusted-models for more details). In a future release, the default value for `weights_only` will be flipped to `True`. This limits the functions that could be executed during unpickling. Arbitrary objects will no longer be allowed to be loaded via this mode unless they are explicitly allowlisted by the user via `torch.serialization.add_safe_globals`. We recommend you start setting `weights_only=True` for any use case where you don't have full control of the loaded file. Please open an issue on GitHub for any issues related to this experimental feature.\n",
            "  checkpoint = torch.load(fp, map_location=device)\n",
            " 22%|██▏       | 54/250 [05:25<17:32,  5.37s/it]"
          ]
        },
        {
          "output_type": "stream",
          "name": "stdout",
          "text": [
            "Transcription of 159.wav:  You should be more responsive.\n"
          ]
        },
        {
          "output_type": "stream",
          "name": "stderr",
          "text": [
            "/usr/local/lib/python3.10/dist-packages/whisper/__init__.py:150: FutureWarning: You are using `torch.load` with `weights_only=False` (the current default value), which uses the default pickle module implicitly. It is possible to construct malicious pickle data which will execute arbitrary code during unpickling (See https://github.com/pytorch/pytorch/blob/main/SECURITY.md#untrusted-models for more details). In a future release, the default value for `weights_only` will be flipped to `True`. This limits the functions that could be executed during unpickling. Arbitrary objects will no longer be allowed to be loaded via this mode unless they are explicitly allowlisted by the user via `torch.serialization.add_safe_globals`. We recommend you start setting `weights_only=True` for any use case where you don't have full control of the loaded file. Please open an issue on GitHub for any issues related to this experimental feature.\n",
            "  checkpoint = torch.load(fp, map_location=device)\n",
            " 22%|██▏       | 55/250 [05:30<17:20,  5.34s/it]"
          ]
        },
        {
          "output_type": "stream",
          "name": "stdout",
          "text": [
            "Transcription of 250.wav:  You do not deserve respect.\n"
          ]
        },
        {
          "output_type": "stream",
          "name": "stderr",
          "text": [
            "/usr/local/lib/python3.10/dist-packages/whisper/__init__.py:150: FutureWarning: You are using `torch.load` with `weights_only=False` (the current default value), which uses the default pickle module implicitly. It is possible to construct malicious pickle data which will execute arbitrary code during unpickling (See https://github.com/pytorch/pytorch/blob/main/SECURITY.md#untrusted-models for more details). In a future release, the default value for `weights_only` will be flipped to `True`. This limits the functions that could be executed during unpickling. Arbitrary objects will no longer be allowed to be loaded via this mode unless they are explicitly allowlisted by the user via `torch.serialization.add_safe_globals`. We recommend you start setting `weights_only=True` for any use case where you don't have full control of the loaded file. Please open an issue on GitHub for any issues related to this experimental feature.\n",
            "  checkpoint = torch.load(fp, map_location=device)\n",
            " 22%|██▏       | 56/250 [05:43<24:29,  7.57s/it]"
          ]
        },
        {
          "output_type": "stream",
          "name": "stdout",
          "text": [
            "Transcription of 188.wav:  अदिया साँच्वो प्लीज अलागुलेच मेर्द\n"
          ]
        },
        {
          "output_type": "stream",
          "name": "stderr",
          "text": [
            "/usr/local/lib/python3.10/dist-packages/whisper/__init__.py:150: FutureWarning: You are using `torch.load` with `weights_only=False` (the current default value), which uses the default pickle module implicitly. It is possible to construct malicious pickle data which will execute arbitrary code during unpickling (See https://github.com/pytorch/pytorch/blob/main/SECURITY.md#untrusted-models for more details). In a future release, the default value for `weights_only` will be flipped to `True`. This limits the functions that could be executed during unpickling. Arbitrary objects will no longer be allowed to be loaded via this mode unless they are explicitly allowlisted by the user via `torch.serialization.add_safe_globals`. We recommend you start setting `weights_only=True` for any use case where you don't have full control of the loaded file. Please open an issue on GitHub for any issues related to this experimental feature.\n",
            "  checkpoint = torch.load(fp, map_location=device)\n",
            " 23%|██▎       | 57/250 [05:51<24:43,  7.69s/it]"
          ]
        },
        {
          "output_type": "stream",
          "name": "stdout",
          "text": [
            "Transcription of 18.wav:  I have a great respect for you.\n"
          ]
        },
        {
          "output_type": "stream",
          "name": "stderr",
          "text": [
            "/usr/local/lib/python3.10/dist-packages/whisper/__init__.py:150: FutureWarning: You are using `torch.load` with `weights_only=False` (the current default value), which uses the default pickle module implicitly. It is possible to construct malicious pickle data which will execute arbitrary code during unpickling (See https://github.com/pytorch/pytorch/blob/main/SECURITY.md#untrusted-models for more details). In a future release, the default value for `weights_only` will be flipped to `True`. This limits the functions that could be executed during unpickling. Arbitrary objects will no longer be allowed to be loaded via this mode unless they are explicitly allowlisted by the user via `torch.serialization.add_safe_globals`. We recommend you start setting `weights_only=True` for any use case where you don't have full control of the loaded file. Please open an issue on GitHub for any issues related to this experimental feature.\n",
            "  checkpoint = torch.load(fp, map_location=device)\n",
            " 23%|██▎       | 58/250 [05:56<22:01,  6.88s/it]"
          ]
        },
        {
          "output_type": "stream",
          "name": "stdout",
          "text": [
            "Transcription of 1.wav:  I like talking with you.\n"
          ]
        },
        {
          "output_type": "stream",
          "name": "stderr",
          "text": [
            "/usr/local/lib/python3.10/dist-packages/whisper/__init__.py:150: FutureWarning: You are using `torch.load` with `weights_only=False` (the current default value), which uses the default pickle module implicitly. It is possible to construct malicious pickle data which will execute arbitrary code during unpickling (See https://github.com/pytorch/pytorch/blob/main/SECURITY.md#untrusted-models for more details). In a future release, the default value for `weights_only` will be flipped to `True`. This limits the functions that could be executed during unpickling. Arbitrary objects will no longer be allowed to be loaded via this mode unless they are explicitly allowlisted by the user via `torch.serialization.add_safe_globals`. We recommend you start setting `weights_only=True` for any use case where you don't have full control of the loaded file. Please open an issue on GitHub for any issues related to this experimental feature.\n",
            "  checkpoint = torch.load(fp, map_location=device)\n",
            " 24%|██▎       | 59/250 [06:06<25:35,  8.04s/it]"
          ]
        },
        {
          "output_type": "stream",
          "name": "stdout",
          "text": [
            "Transcription of 122.wav:  آپ کے کے د mình کوئی lidہ شکرہ ہوئی一些 Vishal\n"
          ]
        },
        {
          "output_type": "stream",
          "name": "stderr",
          "text": [
            "/usr/local/lib/python3.10/dist-packages/whisper/__init__.py:150: FutureWarning: You are using `torch.load` with `weights_only=False` (the current default value), which uses the default pickle module implicitly. It is possible to construct malicious pickle data which will execute arbitrary code during unpickling (See https://github.com/pytorch/pytorch/blob/main/SECURITY.md#untrusted-models for more details). In a future release, the default value for `weights_only` will be flipped to `True`. This limits the functions that could be executed during unpickling. Arbitrary objects will no longer be allowed to be loaded via this mode unless they are explicitly allowlisted by the user via `torch.serialization.add_safe_globals`. We recommend you start setting `weights_only=True` for any use case where you don't have full control of the loaded file. Please open an issue on GitHub for any issues related to this experimental feature.\n",
            "  checkpoint = torch.load(fp, map_location=device)\n",
            " 24%|██▍       | 60/250 [06:12<23:04,  7.29s/it]"
          ]
        },
        {
          "output_type": "stream",
          "name": "stdout",
          "text": [
            "Transcription of 62.wav:  Storm Planning\n"
          ]
        },
        {
          "output_type": "stream",
          "name": "stderr",
          "text": [
            "/usr/local/lib/python3.10/dist-packages/whisper/__init__.py:150: FutureWarning: You are using `torch.load` with `weights_only=False` (the current default value), which uses the default pickle module implicitly. It is possible to construct malicious pickle data which will execute arbitrary code during unpickling (See https://github.com/pytorch/pytorch/blob/main/SECURITY.md#untrusted-models for more details). In a future release, the default value for `weights_only` will be flipped to `True`. This limits the functions that could be executed during unpickling. Arbitrary objects will no longer be allowed to be loaded via this mode unless they are explicitly allowlisted by the user via `torch.serialization.add_safe_globals`. We recommend you start setting `weights_only=True` for any use case where you don't have full control of the loaded file. Please open an issue on GitHub for any issues related to this experimental feature.\n",
            "  checkpoint = torch.load(fp, map_location=device)\n",
            " 24%|██▍       | 61/250 [06:17<20:56,  6.65s/it]"
          ]
        },
        {
          "output_type": "stream",
          "name": "stdout",
          "text": [
            "Transcription of 198.wav:  You should think more before you write.\n"
          ]
        },
        {
          "output_type": "stream",
          "name": "stderr",
          "text": [
            "/usr/local/lib/python3.10/dist-packages/whisper/__init__.py:150: FutureWarning: You are using `torch.load` with `weights_only=False` (the current default value), which uses the default pickle module implicitly. It is possible to construct malicious pickle data which will execute arbitrary code during unpickling (See https://github.com/pytorch/pytorch/blob/main/SECURITY.md#untrusted-models for more details). In a future release, the default value for `weights_only` will be flipped to `True`. This limits the functions that could be executed during unpickling. Arbitrary objects will no longer be allowed to be loaded via this mode unless they are explicitly allowlisted by the user via `torch.serialization.add_safe_globals`. We recommend you start setting `weights_only=True` for any use case where you don't have full control of the loaded file. Please open an issue on GitHub for any issues related to this experimental feature.\n",
            "  checkpoint = torch.load(fp, map_location=device)\n",
            " 25%|██▍       | 62/250 [06:22<19:22,  6.18s/it]"
          ]
        },
        {
          "output_type": "stream",
          "name": "stdout",
          "text": [
            "Transcription of 334.wav:  Your idea is very bad.\n"
          ]
        },
        {
          "output_type": "stream",
          "name": "stderr",
          "text": [
            "/usr/local/lib/python3.10/dist-packages/whisper/__init__.py:150: FutureWarning: You are using `torch.load` with `weights_only=False` (the current default value), which uses the default pickle module implicitly. It is possible to construct malicious pickle data which will execute arbitrary code during unpickling (See https://github.com/pytorch/pytorch/blob/main/SECURITY.md#untrusted-models for more details). In a future release, the default value for `weights_only` will be flipped to `True`. This limits the functions that could be executed during unpickling. Arbitrary objects will no longer be allowed to be loaded via this mode unless they are explicitly allowlisted by the user via `torch.serialization.add_safe_globals`. We recommend you start setting `weights_only=True` for any use case where you don't have full control of the loaded file. Please open an issue on GitHub for any issues related to this experimental feature.\n",
            "  checkpoint = torch.load(fp, map_location=device)\n",
            " 25%|██▌       | 63/250 [06:27<17:47,  5.71s/it]"
          ]
        },
        {
          "output_type": "stream",
          "name": "stdout",
          "text": [
            "Transcription of 31.wav:  Everyone loves to talk with you.\n"
          ]
        },
        {
          "output_type": "stream",
          "name": "stderr",
          "text": [
            "/usr/local/lib/python3.10/dist-packages/whisper/__init__.py:150: FutureWarning: You are using `torch.load` with `weights_only=False` (the current default value), which uses the default pickle module implicitly. It is possible to construct malicious pickle data which will execute arbitrary code during unpickling (See https://github.com/pytorch/pytorch/blob/main/SECURITY.md#untrusted-models for more details). In a future release, the default value for `weights_only` will be flipped to `True`. This limits the functions that could be executed during unpickling. Arbitrary objects will no longer be allowed to be loaded via this mode unless they are explicitly allowlisted by the user via `torch.serialization.add_safe_globals`. We recommend you start setting `weights_only=True` for any use case where you don't have full control of the loaded file. Please open an issue on GitHub for any issues related to this experimental feature.\n",
            "  checkpoint = torch.load(fp, map_location=device)\n",
            " 26%|██▌       | 64/250 [06:33<18:02,  5.82s/it]"
          ]
        },
        {
          "output_type": "stream",
          "name": "stdout",
          "text": [
            "Transcription of 203.wav:  If you improve your skills, there is no chance that you will be able to win.\n"
          ]
        },
        {
          "output_type": "stream",
          "name": "stderr",
          "text": [
            "/usr/local/lib/python3.10/dist-packages/whisper/__init__.py:150: FutureWarning: You are using `torch.load` with `weights_only=False` (the current default value), which uses the default pickle module implicitly. It is possible to construct malicious pickle data which will execute arbitrary code during unpickling (See https://github.com/pytorch/pytorch/blob/main/SECURITY.md#untrusted-models for more details). In a future release, the default value for `weights_only` will be flipped to `True`. This limits the functions that could be executed during unpickling. Arbitrary objects will no longer be allowed to be loaded via this mode unless they are explicitly allowlisted by the user via `torch.serialization.add_safe_globals`. We recommend you start setting `weights_only=True` for any use case where you don't have full control of the loaded file. Please open an issue on GitHub for any issues related to this experimental feature.\n",
            "  checkpoint = torch.load(fp, map_location=device)\n",
            " 26%|██▌       | 65/250 [06:38<16:54,  5.48s/it]"
          ]
        },
        {
          "output_type": "stream",
          "name": "stdout",
          "text": [
            "Transcription of 114.wav:  Congratulations, you have won the challenge!\n"
          ]
        },
        {
          "output_type": "stream",
          "name": "stderr",
          "text": [
            "/usr/local/lib/python3.10/dist-packages/whisper/__init__.py:150: FutureWarning: You are using `torch.load` with `weights_only=False` (the current default value), which uses the default pickle module implicitly. It is possible to construct malicious pickle data which will execute arbitrary code during unpickling (See https://github.com/pytorch/pytorch/blob/main/SECURITY.md#untrusted-models for more details). In a future release, the default value for `weights_only` will be flipped to `True`. This limits the functions that could be executed during unpickling. Arbitrary objects will no longer be allowed to be loaded via this mode unless they are explicitly allowlisted by the user via `torch.serialization.add_safe_globals`. We recommend you start setting `weights_only=True` for any use case where you don't have full control of the loaded file. Please open an issue on GitHub for any issues related to this experimental feature.\n",
            "  checkpoint = torch.load(fp, map_location=device)\n",
            " 26%|██▋       | 66/250 [06:48<21:30,  7.01s/it]"
          ]
        },
        {
          "output_type": "stream",
          "name": "stdout",
          "text": [
            "Transcription of 209.wav:  Χρήτη ήχος my private.\n"
          ]
        },
        {
          "output_type": "stream",
          "name": "stderr",
          "text": [
            "/usr/local/lib/python3.10/dist-packages/whisper/__init__.py:150: FutureWarning: You are using `torch.load` with `weights_only=False` (the current default value), which uses the default pickle module implicitly. It is possible to construct malicious pickle data which will execute arbitrary code during unpickling (See https://github.com/pytorch/pytorch/blob/main/SECURITY.md#untrusted-models for more details). In a future release, the default value for `weights_only` will be flipped to `True`. This limits the functions that could be executed during unpickling. Arbitrary objects will no longer be allowed to be loaded via this mode unless they are explicitly allowlisted by the user via `torch.serialization.add_safe_globals`. We recommend you start setting `weights_only=True` for any use case where you don't have full control of the loaded file. Please open an issue on GitHub for any issues related to this experimental feature.\n",
            "  checkpoint = torch.load(fp, map_location=device)\n",
            " 27%|██▋       | 67/250 [06:53<19:14,  6.31s/it]"
          ]
        },
        {
          "output_type": "stream",
          "name": "stdout",
          "text": [
            "Transcription of 197.wav:  You should think more before you wait.\n"
          ]
        },
        {
          "output_type": "stream",
          "name": "stderr",
          "text": [
            "/usr/local/lib/python3.10/dist-packages/whisper/__init__.py:150: FutureWarning: You are using `torch.load` with `weights_only=False` (the current default value), which uses the default pickle module implicitly. It is possible to construct malicious pickle data which will execute arbitrary code during unpickling (See https://github.com/pytorch/pytorch/blob/main/SECURITY.md#untrusted-models for more details). In a future release, the default value for `weights_only` will be flipped to `True`. This limits the functions that could be executed during unpickling. Arbitrary objects will no longer be allowed to be loaded via this mode unless they are explicitly allowlisted by the user via `torch.serialization.add_safe_globals`. We recommend you start setting `weights_only=True` for any use case where you don't have full control of the loaded file. Please open an issue on GitHub for any issues related to this experimental feature.\n",
            "  checkpoint = torch.load(fp, map_location=device)\n",
            " 27%|██▋       | 68/250 [07:00<19:32,  6.44s/it]"
          ]
        },
        {
          "output_type": "stream",
          "name": "stdout",
          "text": [
            "Transcription of 50.wav:  AND IT'S non-man Rita\n"
          ]
        },
        {
          "output_type": "stream",
          "name": "stderr",
          "text": [
            "/usr/local/lib/python3.10/dist-packages/whisper/__init__.py:150: FutureWarning: You are using `torch.load` with `weights_only=False` (the current default value), which uses the default pickle module implicitly. It is possible to construct malicious pickle data which will execute arbitrary code during unpickling (See https://github.com/pytorch/pytorch/blob/main/SECURITY.md#untrusted-models for more details). In a future release, the default value for `weights_only` will be flipped to `True`. This limits the functions that could be executed during unpickling. Arbitrary objects will no longer be allowed to be loaded via this mode unless they are explicitly allowlisted by the user via `torch.serialization.add_safe_globals`. We recommend you start setting `weights_only=True` for any use case where you don't have full control of the loaded file. Please open an issue on GitHub for any issues related to this experimental feature.\n",
            "  checkpoint = torch.load(fp, map_location=device)\n",
            " 28%|██▊       | 69/250 [07:04<17:51,  5.92s/it]"
          ]
        },
        {
          "output_type": "stream",
          "name": "stdout",
          "text": [
            "Transcription of 330.wav:  You should be kicked off from the office.\n"
          ]
        },
        {
          "output_type": "stream",
          "name": "stderr",
          "text": [
            "/usr/local/lib/python3.10/dist-packages/whisper/__init__.py:150: FutureWarning: You are using `torch.load` with `weights_only=False` (the current default value), which uses the default pickle module implicitly. It is possible to construct malicious pickle data which will execute arbitrary code during unpickling (See https://github.com/pytorch/pytorch/blob/main/SECURITY.md#untrusted-models for more details). In a future release, the default value for `weights_only` will be flipped to `True`. This limits the functions that could be executed during unpickling. Arbitrary objects will no longer be allowed to be loaded via this mode unless they are explicitly allowlisted by the user via `torch.serialization.add_safe_globals`. We recommend you start setting `weights_only=True` for any use case where you don't have full control of the loaded file. Please open an issue on GitHub for any issues related to this experimental feature.\n",
            "  checkpoint = torch.load(fp, map_location=device)\n",
            " 28%|██▊       | 70/250 [07:09<16:34,  5.53s/it]"
          ]
        },
        {
          "output_type": "stream",
          "name": "stdout",
          "text": [
            "Transcription of 82.wav:  you are a very caring person\n"
          ]
        },
        {
          "output_type": "stream",
          "name": "stderr",
          "text": [
            "/usr/local/lib/python3.10/dist-packages/whisper/__init__.py:150: FutureWarning: You are using `torch.load` with `weights_only=False` (the current default value), which uses the default pickle module implicitly. It is possible to construct malicious pickle data which will execute arbitrary code during unpickling (See https://github.com/pytorch/pytorch/blob/main/SECURITY.md#untrusted-models for more details). In a future release, the default value for `weights_only` will be flipped to `True`. This limits the functions that could be executed during unpickling. Arbitrary objects will no longer be allowed to be loaded via this mode unless they are explicitly allowlisted by the user via `torch.serialization.add_safe_globals`. We recommend you start setting `weights_only=True` for any use case where you don't have full control of the loaded file. Please open an issue on GitHub for any issues related to this experimental feature.\n",
            "  checkpoint = torch.load(fp, map_location=device)\n",
            " 28%|██▊       | 71/250 [07:15<16:54,  5.67s/it]"
          ]
        },
        {
          "output_type": "stream",
          "name": "stdout",
          "text": [
            "Transcription of 16.wav:  I have a great respect for you.\n"
          ]
        },
        {
          "output_type": "stream",
          "name": "stderr",
          "text": [
            "/usr/local/lib/python3.10/dist-packages/whisper/__init__.py:150: FutureWarning: You are using `torch.load` with `weights_only=False` (the current default value), which uses the default pickle module implicitly. It is possible to construct malicious pickle data which will execute arbitrary code during unpickling (See https://github.com/pytorch/pytorch/blob/main/SECURITY.md#untrusted-models for more details). In a future release, the default value for `weights_only` will be flipped to `True`. This limits the functions that could be executed during unpickling. Arbitrary objects will no longer be allowed to be loaded via this mode unless they are explicitly allowlisted by the user via `torch.serialization.add_safe_globals`. We recommend you start setting `weights_only=True` for any use case where you don't have full control of the loaded file. Please open an issue on GitHub for any issues related to this experimental feature.\n",
            "  checkpoint = torch.load(fp, map_location=device)\n",
            " 29%|██▉       | 72/250 [07:21<16:46,  5.65s/it]"
          ]
        },
        {
          "output_type": "stream",
          "name": "stdout",
          "text": [
            "Transcription of 278.wav:  Listen to this progress and decide\n"
          ]
        },
        {
          "output_type": "stream",
          "name": "stderr",
          "text": [
            "/usr/local/lib/python3.10/dist-packages/whisper/__init__.py:150: FutureWarning: You are using `torch.load` with `weights_only=False` (the current default value), which uses the default pickle module implicitly. It is possible to construct malicious pickle data which will execute arbitrary code during unpickling (See https://github.com/pytorch/pytorch/blob/main/SECURITY.md#untrusted-models for more details). In a future release, the default value for `weights_only` will be flipped to `True`. This limits the functions that could be executed during unpickling. Arbitrary objects will no longer be allowed to be loaded via this mode unless they are explicitly allowlisted by the user via `torch.serialization.add_safe_globals`. We recommend you start setting `weights_only=True` for any use case where you don't have full control of the loaded file. Please open an issue on GitHub for any issues related to this experimental feature.\n",
            "  checkpoint = torch.load(fp, map_location=device)\n",
            " 29%|██▉       | 73/250 [07:27<17:11,  5.83s/it]"
          ]
        },
        {
          "output_type": "stream",
          "name": "stdout",
          "text": [
            "Transcription of 64.wav:  Wow wonderful solution\n"
          ]
        },
        {
          "output_type": "stream",
          "name": "stderr",
          "text": [
            "/usr/local/lib/python3.10/dist-packages/whisper/__init__.py:150: FutureWarning: You are using `torch.load` with `weights_only=False` (the current default value), which uses the default pickle module implicitly. It is possible to construct malicious pickle data which will execute arbitrary code during unpickling (See https://github.com/pytorch/pytorch/blob/main/SECURITY.md#untrusted-models for more details). In a future release, the default value for `weights_only` will be flipped to `True`. This limits the functions that could be executed during unpickling. Arbitrary objects will no longer be allowed to be loaded via this mode unless they are explicitly allowlisted by the user via `torch.serialization.add_safe_globals`. We recommend you start setting `weights_only=True` for any use case where you don't have full control of the loaded file. Please open an issue on GitHub for any issues related to this experimental feature.\n",
            "  checkpoint = torch.load(fp, map_location=device)\n",
            " 30%|██▉       | 74/250 [07:31<16:01,  5.46s/it]"
          ]
        },
        {
          "output_type": "stream",
          "name": "stdout",
          "text": [
            "Transcription of 327.wav:  Your explanation was totally incorrect.\n"
          ]
        },
        {
          "output_type": "stream",
          "name": "stderr",
          "text": [
            "/usr/local/lib/python3.10/dist-packages/whisper/__init__.py:150: FutureWarning: You are using `torch.load` with `weights_only=False` (the current default value), which uses the default pickle module implicitly. It is possible to construct malicious pickle data which will execute arbitrary code during unpickling (See https://github.com/pytorch/pytorch/blob/main/SECURITY.md#untrusted-models for more details). In a future release, the default value for `weights_only` will be flipped to `True`. This limits the functions that could be executed during unpickling. Arbitrary objects will no longer be allowed to be loaded via this mode unless they are explicitly allowlisted by the user via `torch.serialization.add_safe_globals`. We recommend you start setting `weights_only=True` for any use case where you don't have full control of the loaded file. Please open an issue on GitHub for any issues related to this experimental feature.\n",
            "  checkpoint = torch.load(fp, map_location=device)\n",
            " 30%|███       | 75/250 [07:36<15:21,  5.27s/it]"
          ]
        },
        {
          "output_type": "stream",
          "name": "stdout",
          "text": [
            "Transcription of 166.wav:  You have not won but you have also not lost.\n"
          ]
        },
        {
          "output_type": "stream",
          "name": "stderr",
          "text": [
            "/usr/local/lib/python3.10/dist-packages/whisper/__init__.py:150: FutureWarning: You are using `torch.load` with `weights_only=False` (the current default value), which uses the default pickle module implicitly. It is possible to construct malicious pickle data which will execute arbitrary code during unpickling (See https://github.com/pytorch/pytorch/blob/main/SECURITY.md#untrusted-models for more details). In a future release, the default value for `weights_only` will be flipped to `True`. This limits the functions that could be executed during unpickling. Arbitrary objects will no longer be allowed to be loaded via this mode unless they are explicitly allowlisted by the user via `torch.serialization.add_safe_globals`. We recommend you start setting `weights_only=True` for any use case where you don't have full control of the loaded file. Please open an issue on GitHub for any issues related to this experimental feature.\n",
            "  checkpoint = torch.load(fp, map_location=device)\n",
            " 30%|███       | 76/250 [07:43<16:12,  5.59s/it]"
          ]
        },
        {
          "output_type": "stream",
          "name": "stdout",
          "text": [
            "Transcription of 193.wav:  You should be more responsible.\n"
          ]
        },
        {
          "output_type": "stream",
          "name": "stderr",
          "text": [
            "/usr/local/lib/python3.10/dist-packages/whisper/__init__.py:150: FutureWarning: You are using `torch.load` with `weights_only=False` (the current default value), which uses the default pickle module implicitly. It is possible to construct malicious pickle data which will execute arbitrary code during unpickling (See https://github.com/pytorch/pytorch/blob/main/SECURITY.md#untrusted-models for more details). In a future release, the default value for `weights_only` will be flipped to `True`. This limits the functions that could be executed during unpickling. Arbitrary objects will no longer be allowed to be loaded via this mode unless they are explicitly allowlisted by the user via `torch.serialization.add_safe_globals`. We recommend you start setting `weights_only=True` for any use case where you don't have full control of the loaded file. Please open an issue on GitHub for any issues related to this experimental feature.\n",
            "  checkpoint = torch.load(fp, map_location=device)\n",
            " 31%|███       | 77/250 [07:47<15:21,  5.32s/it]"
          ]
        },
        {
          "output_type": "stream",
          "name": "stdout",
          "text": [
            "Transcription of 204.wav:  If you improve more there is high chance that you will win.\n"
          ]
        },
        {
          "output_type": "stream",
          "name": "stderr",
          "text": [
            "/usr/local/lib/python3.10/dist-packages/whisper/__init__.py:150: FutureWarning: You are using `torch.load` with `weights_only=False` (the current default value), which uses the default pickle module implicitly. It is possible to construct malicious pickle data which will execute arbitrary code during unpickling (See https://github.com/pytorch/pytorch/blob/main/SECURITY.md#untrusted-models for more details). In a future release, the default value for `weights_only` will be flipped to `True`. This limits the functions that could be executed during unpickling. Arbitrary objects will no longer be allowed to be loaded via this mode unless they are explicitly allowlisted by the user via `torch.serialization.add_safe_globals`. We recommend you start setting `weights_only=True` for any use case where you don't have full control of the loaded file. Please open an issue on GitHub for any issues related to this experimental feature.\n",
            "  checkpoint = torch.load(fp, map_location=device)\n",
            " 31%|███       | 78/250 [07:53<15:44,  5.49s/it]"
          ]
        },
        {
          "output_type": "stream",
          "name": "stdout",
          "text": [
            "Transcription of 273.wav:  No one likes your suggestions.\n"
          ]
        },
        {
          "output_type": "stream",
          "name": "stderr",
          "text": [
            "/usr/local/lib/python3.10/dist-packages/whisper/__init__.py:150: FutureWarning: You are using `torch.load` with `weights_only=False` (the current default value), which uses the default pickle module implicitly. It is possible to construct malicious pickle data which will execute arbitrary code during unpickling (See https://github.com/pytorch/pytorch/blob/main/SECURITY.md#untrusted-models for more details). In a future release, the default value for `weights_only` will be flipped to `True`. This limits the functions that could be executed during unpickling. Arbitrary objects will no longer be allowed to be loaded via this mode unless they are explicitly allowlisted by the user via `torch.serialization.add_safe_globals`. We recommend you start setting `weights_only=True` for any use case where you don't have full control of the loaded file. Please open an issue on GitHub for any issues related to this experimental feature.\n",
            "  checkpoint = torch.load(fp, map_location=device)\n",
            " 32%|███▏      | 79/250 [07:58<14:51,  5.21s/it]"
          ]
        },
        {
          "output_type": "stream",
          "name": "stdout",
          "text": [
            "Transcription of 297.wav:  your choice is very bad\n"
          ]
        },
        {
          "output_type": "stream",
          "name": "stderr",
          "text": [
            "/usr/local/lib/python3.10/dist-packages/whisper/__init__.py:150: FutureWarning: You are using `torch.load` with `weights_only=False` (the current default value), which uses the default pickle module implicitly. It is possible to construct malicious pickle data which will execute arbitrary code during unpickling (See https://github.com/pytorch/pytorch/blob/main/SECURITY.md#untrusted-models for more details). In a future release, the default value for `weights_only` will be flipped to `True`. This limits the functions that could be executed during unpickling. Arbitrary objects will no longer be allowed to be loaded via this mode unless they are explicitly allowlisted by the user via `torch.serialization.add_safe_globals`. We recommend you start setting `weights_only=True` for any use case where you don't have full control of the loaded file. Please open an issue on GitHub for any issues related to this experimental feature.\n",
            "  checkpoint = torch.load(fp, map_location=device)\n",
            " 32%|███▏      | 80/250 [08:02<14:18,  5.05s/it]"
          ]
        },
        {
          "output_type": "stream",
          "name": "stdout",
          "text": [
            "Transcription of 9.wav:  You are a great leader.\n"
          ]
        },
        {
          "output_type": "stream",
          "name": "stderr",
          "text": [
            "/usr/local/lib/python3.10/dist-packages/whisper/__init__.py:150: FutureWarning: You are using `torch.load` with `weights_only=False` (the current default value), which uses the default pickle module implicitly. It is possible to construct malicious pickle data which will execute arbitrary code during unpickling (See https://github.com/pytorch/pytorch/blob/main/SECURITY.md#untrusted-models for more details). In a future release, the default value for `weights_only` will be flipped to `True`. This limits the functions that could be executed during unpickling. Arbitrary objects will no longer be allowed to be loaded via this mode unless they are explicitly allowlisted by the user via `torch.serialization.add_safe_globals`. We recommend you start setting `weights_only=True` for any use case where you don't have full control of the loaded file. Please open an issue on GitHub for any issues related to this experimental feature.\n",
            "  checkpoint = torch.load(fp, map_location=device)\n",
            " 32%|███▏      | 81/250 [08:08<14:47,  5.25s/it]"
          ]
        },
        {
          "output_type": "stream",
          "name": "stdout",
          "text": [
            "Transcription of 60.wav:  You are a great mentor.\n"
          ]
        },
        {
          "output_type": "stream",
          "name": "stderr",
          "text": [
            "/usr/local/lib/python3.10/dist-packages/whisper/__init__.py:150: FutureWarning: You are using `torch.load` with `weights_only=False` (the current default value), which uses the default pickle module implicitly. It is possible to construct malicious pickle data which will execute arbitrary code during unpickling (See https://github.com/pytorch/pytorch/blob/main/SECURITY.md#untrusted-models for more details). In a future release, the default value for `weights_only` will be flipped to `True`. This limits the functions that could be executed during unpickling. Arbitrary objects will no longer be allowed to be loaded via this mode unless they are explicitly allowlisted by the user via `torch.serialization.add_safe_globals`. We recommend you start setting `weights_only=True` for any use case where you don't have full control of the loaded file. Please open an issue on GitHub for any issues related to this experimental feature.\n",
            "  checkpoint = torch.load(fp, map_location=device)\n",
            " 33%|███▎      | 82/250 [08:13<14:05,  5.03s/it]"
          ]
        },
        {
          "output_type": "stream",
          "name": "stdout",
          "text": [
            "Transcription of 192.wav:  You should explain more.\n"
          ]
        },
        {
          "output_type": "stream",
          "name": "stderr",
          "text": [
            "/usr/local/lib/python3.10/dist-packages/whisper/__init__.py:150: FutureWarning: You are using `torch.load` with `weights_only=False` (the current default value), which uses the default pickle module implicitly. It is possible to construct malicious pickle data which will execute arbitrary code during unpickling (See https://github.com/pytorch/pytorch/blob/main/SECURITY.md#untrusted-models for more details). In a future release, the default value for `weights_only` will be flipped to `True`. This limits the functions that could be executed during unpickling. Arbitrary objects will no longer be allowed to be loaded via this mode unless they are explicitly allowlisted by the user via `torch.serialization.add_safe_globals`. We recommend you start setting `weights_only=True` for any use case where you don't have full control of the loaded file. Please open an issue on GitHub for any issues related to this experimental feature.\n",
            "  checkpoint = torch.load(fp, map_location=device)\n",
            " 33%|███▎      | 83/250 [08:18<14:16,  5.13s/it]"
          ]
        },
        {
          "output_type": "stream",
          "name": "stdout",
          "text": [
            "Transcription of 43.wav:  You are a brilliant student.\n"
          ]
        },
        {
          "output_type": "stream",
          "name": "stderr",
          "text": [
            "/usr/local/lib/python3.10/dist-packages/whisper/__init__.py:150: FutureWarning: You are using `torch.load` with `weights_only=False` (the current default value), which uses the default pickle module implicitly. It is possible to construct malicious pickle data which will execute arbitrary code during unpickling (See https://github.com/pytorch/pytorch/blob/main/SECURITY.md#untrusted-models for more details). In a future release, the default value for `weights_only` will be flipped to `True`. This limits the functions that could be executed during unpickling. Arbitrary objects will no longer be allowed to be loaded via this mode unless they are explicitly allowlisted by the user via `torch.serialization.add_safe_globals`. We recommend you start setting `weights_only=True` for any use case where you don't have full control of the loaded file. Please open an issue on GitHub for any issues related to this experimental feature.\n",
            "  checkpoint = torch.load(fp, map_location=device)\n",
            " 34%|███▎      | 84/250 [08:23<14:00,  5.07s/it]"
          ]
        },
        {
          "output_type": "stream",
          "name": "stdout",
          "text": [
            "Transcription of 3.wav:  I like talking with you.\n"
          ]
        },
        {
          "output_type": "stream",
          "name": "stderr",
          "text": [
            "/usr/local/lib/python3.10/dist-packages/whisper/__init__.py:150: FutureWarning: You are using `torch.load` with `weights_only=False` (the current default value), which uses the default pickle module implicitly. It is possible to construct malicious pickle data which will execute arbitrary code during unpickling (See https://github.com/pytorch/pytorch/blob/main/SECURITY.md#untrusted-models for more details). In a future release, the default value for `weights_only` will be flipped to `True`. This limits the functions that could be executed during unpickling. Arbitrary objects will no longer be allowed to be loaded via this mode unless they are explicitly allowlisted by the user via `torch.serialization.add_safe_globals`. We recommend you start setting `weights_only=True` for any use case where you don't have full control of the loaded file. Please open an issue on GitHub for any issues related to this experimental feature.\n",
            "  checkpoint = torch.load(fp, map_location=device)\n",
            " 34%|███▍      | 85/250 [08:27<13:28,  4.90s/it]"
          ]
        },
        {
          "output_type": "stream",
          "name": "stdout",
          "text": [
            "Transcription of 67.wav:  You have taken the correct decision.\n"
          ]
        },
        {
          "output_type": "stream",
          "name": "stderr",
          "text": [
            "/usr/local/lib/python3.10/dist-packages/whisper/__init__.py:150: FutureWarning: You are using `torch.load` with `weights_only=False` (the current default value), which uses the default pickle module implicitly. It is possible to construct malicious pickle data which will execute arbitrary code during unpickling (See https://github.com/pytorch/pytorch/blob/main/SECURITY.md#untrusted-models for more details). In a future release, the default value for `weights_only` will be flipped to `True`. This limits the functions that could be executed during unpickling. Arbitrary objects will no longer be allowed to be loaded via this mode unless they are explicitly allowlisted by the user via `torch.serialization.add_safe_globals`. We recommend you start setting `weights_only=True` for any use case where you don't have full control of the loaded file. Please open an issue on GitHub for any issues related to this experimental feature.\n",
            "  checkpoint = torch.load(fp, map_location=device)\n",
            " 34%|███▍      | 86/250 [08:33<14:14,  5.21s/it]"
          ]
        },
        {
          "output_type": "stream",
          "name": "stdout",
          "text": [
            "Transcription of 222.wav:  You are very close to the correct answer.\n"
          ]
        },
        {
          "output_type": "stream",
          "name": "stderr",
          "text": [
            "/usr/local/lib/python3.10/dist-packages/whisper/__init__.py:150: FutureWarning: You are using `torch.load` with `weights_only=False` (the current default value), which uses the default pickle module implicitly. It is possible to construct malicious pickle data which will execute arbitrary code during unpickling (See https://github.com/pytorch/pytorch/blob/main/SECURITY.md#untrusted-models for more details). In a future release, the default value for `weights_only` will be flipped to `True`. This limits the functions that could be executed during unpickling. Arbitrary objects will no longer be allowed to be loaded via this mode unless they are explicitly allowlisted by the user via `torch.serialization.add_safe_globals`. We recommend you start setting `weights_only=True` for any use case where you don't have full control of the loaded file. Please open an issue on GitHub for any issues related to this experimental feature.\n",
            "  checkpoint = torch.load(fp, map_location=device)\n",
            " 35%|███▍      | 87/250 [08:38<13:36,  5.01s/it]"
          ]
        },
        {
          "output_type": "stream",
          "name": "stdout",
          "text": [
            "Transcription of 121.wav:  You might be the lucky person.\n"
          ]
        },
        {
          "output_type": "stream",
          "name": "stderr",
          "text": [
            "/usr/local/lib/python3.10/dist-packages/whisper/__init__.py:150: FutureWarning: You are using `torch.load` with `weights_only=False` (the current default value), which uses the default pickle module implicitly. It is possible to construct malicious pickle data which will execute arbitrary code during unpickling (See https://github.com/pytorch/pytorch/blob/main/SECURITY.md#untrusted-models for more details). In a future release, the default value for `weights_only` will be flipped to `True`. This limits the functions that could be executed during unpickling. Arbitrary objects will no longer be allowed to be loaded via this mode unless they are explicitly allowlisted by the user via `torch.serialization.add_safe_globals`. We recommend you start setting `weights_only=True` for any use case where you don't have full control of the loaded file. Please open an issue on GitHub for any issues related to this experimental feature.\n",
            "  checkpoint = torch.load(fp, map_location=device)\n",
            " 35%|███▌      | 88/250 [08:43<13:13,  4.90s/it]"
          ]
        },
        {
          "output_type": "stream",
          "name": "stdout",
          "text": [
            "Transcription of 284.wav:  You are a good lad.\n"
          ]
        },
        {
          "output_type": "stream",
          "name": "stderr",
          "text": [
            "/usr/local/lib/python3.10/dist-packages/whisper/__init__.py:150: FutureWarning: You are using `torch.load` with `weights_only=False` (the current default value), which uses the default pickle module implicitly. It is possible to construct malicious pickle data which will execute arbitrary code during unpickling (See https://github.com/pytorch/pytorch/blob/main/SECURITY.md#untrusted-models for more details). In a future release, the default value for `weights_only` will be flipped to `True`. This limits the functions that could be executed during unpickling. Arbitrary objects will no longer be allowed to be loaded via this mode unless they are explicitly allowlisted by the user via `torch.serialization.add_safe_globals`. We recommend you start setting `weights_only=True` for any use case where you don't have full control of the loaded file. Please open an issue on GitHub for any issues related to this experimental feature.\n",
            "  checkpoint = torch.load(fp, map_location=device)\n",
            " 36%|███▌      | 89/250 [08:49<14:47,  5.51s/it]"
          ]
        },
        {
          "output_type": "stream",
          "name": "stdout",
          "text": [
            "Transcription of 38.wav: kawawaii Animates\n"
          ]
        },
        {
          "output_type": "stream",
          "name": "stderr",
          "text": [
            "/usr/local/lib/python3.10/dist-packages/whisper/__init__.py:150: FutureWarning: You are using `torch.load` with `weights_only=False` (the current default value), which uses the default pickle module implicitly. It is possible to construct malicious pickle data which will execute arbitrary code during unpickling (See https://github.com/pytorch/pytorch/blob/main/SECURITY.md#untrusted-models for more details). In a future release, the default value for `weights_only` will be flipped to `True`. This limits the functions that could be executed during unpickling. Arbitrary objects will no longer be allowed to be loaded via this mode unless they are explicitly allowlisted by the user via `torch.serialization.add_safe_globals`. We recommend you start setting `weights_only=True` for any use case where you don't have full control of the loaded file. Please open an issue on GitHub for any issues related to this experimental feature.\n",
            "  checkpoint = torch.load(fp, map_location=device)\n",
            " 36%|███▌      | 90/250 [08:54<13:57,  5.24s/it]"
          ]
        },
        {
          "output_type": "stream",
          "name": "stdout",
          "text": [
            "Transcription of 274.wav:  No one likes to talk with you.\n"
          ]
        },
        {
          "output_type": "stream",
          "name": "stderr",
          "text": [
            "/usr/local/lib/python3.10/dist-packages/whisper/__init__.py:150: FutureWarning: You are using `torch.load` with `weights_only=False` (the current default value), which uses the default pickle module implicitly. It is possible to construct malicious pickle data which will execute arbitrary code during unpickling (See https://github.com/pytorch/pytorch/blob/main/SECURITY.md#untrusted-models for more details). In a future release, the default value for `weights_only` will be flipped to `True`. This limits the functions that could be executed during unpickling. Arbitrary objects will no longer be allowed to be loaded via this mode unless they are explicitly allowlisted by the user via `torch.serialization.add_safe_globals`. We recommend you start setting `weights_only=True` for any use case where you don't have full control of the loaded file. Please open an issue on GitHub for any issues related to this experimental feature.\n",
            "  checkpoint = torch.load(fp, map_location=device)\n",
            " 36%|███▋      | 91/250 [09:00<14:23,  5.43s/it]"
          ]
        },
        {
          "output_type": "stream",
          "name": "stdout",
          "text": [
            "Transcription of 275.wav:  Мы вон на все похоже.\n"
          ]
        },
        {
          "output_type": "stream",
          "name": "stderr",
          "text": [
            "/usr/local/lib/python3.10/dist-packages/whisper/__init__.py:150: FutureWarning: You are using `torch.load` with `weights_only=False` (the current default value), which uses the default pickle module implicitly. It is possible to construct malicious pickle data which will execute arbitrary code during unpickling (See https://github.com/pytorch/pytorch/blob/main/SECURITY.md#untrusted-models for more details). In a future release, the default value for `weights_only` will be flipped to `True`. This limits the functions that could be executed during unpickling. Arbitrary objects will no longer be allowed to be loaded via this mode unless they are explicitly allowlisted by the user via `torch.serialization.add_safe_globals`. We recommend you start setting `weights_only=True` for any use case where you don't have full control of the loaded file. Please open an issue on GitHub for any issues related to this experimental feature.\n",
            "  checkpoint = torch.load(fp, map_location=device)\n",
            " 37%|███▋      | 92/250 [09:04<13:35,  5.16s/it]"
          ]
        },
        {
          "output_type": "stream",
          "name": "stdout",
          "text": [
            "Transcription of 339.wav:  Get out of my home.\n"
          ]
        },
        {
          "output_type": "stream",
          "name": "stderr",
          "text": [
            "/usr/local/lib/python3.10/dist-packages/whisper/__init__.py:150: FutureWarning: You are using `torch.load` with `weights_only=False` (the current default value), which uses the default pickle module implicitly. It is possible to construct malicious pickle data which will execute arbitrary code during unpickling (See https://github.com/pytorch/pytorch/blob/main/SECURITY.md#untrusted-models for more details). In a future release, the default value for `weights_only` will be flipped to `True`. This limits the functions that could be executed during unpickling. Arbitrary objects will no longer be allowed to be loaded via this mode unless they are explicitly allowlisted by the user via `torch.serialization.add_safe_globals`. We recommend you start setting `weights_only=True` for any use case where you don't have full control of the loaded file. Please open an issue on GitHub for any issues related to this experimental feature.\n",
            "  checkpoint = torch.load(fp, map_location=device)\n",
            " 37%|███▋      | 93/250 [09:09<13:09,  5.03s/it]"
          ]
        },
        {
          "output_type": "stream",
          "name": "stdout",
          "text": [
            "Transcription of 292.wav:  Your ideologies totally wrong.\n"
          ]
        },
        {
          "output_type": "stream",
          "name": "stderr",
          "text": [
            "/usr/local/lib/python3.10/dist-packages/whisper/__init__.py:150: FutureWarning: You are using `torch.load` with `weights_only=False` (the current default value), which uses the default pickle module implicitly. It is possible to construct malicious pickle data which will execute arbitrary code during unpickling (See https://github.com/pytorch/pytorch/blob/main/SECURITY.md#untrusted-models for more details). In a future release, the default value for `weights_only` will be flipped to `True`. This limits the functions that could be executed during unpickling. Arbitrary objects will no longer be allowed to be loaded via this mode unless they are explicitly allowlisted by the user via `torch.serialization.add_safe_globals`. We recommend you start setting `weights_only=True` for any use case where you don't have full control of the loaded file. Please open an issue on GitHub for any issues related to this experimental feature.\n",
            "  checkpoint = torch.load(fp, map_location=device)\n",
            " 38%|███▊      | 94/250 [09:15<13:21,  5.14s/it]"
          ]
        },
        {
          "output_type": "stream",
          "name": "stdout",
          "text": [
            "Transcription of 340.wav:  You have taken wrong decision.\n"
          ]
        },
        {
          "output_type": "stream",
          "name": "stderr",
          "text": [
            "/usr/local/lib/python3.10/dist-packages/whisper/__init__.py:150: FutureWarning: You are using `torch.load` with `weights_only=False` (the current default value), which uses the default pickle module implicitly. It is possible to construct malicious pickle data which will execute arbitrary code during unpickling (See https://github.com/pytorch/pytorch/blob/main/SECURITY.md#untrusted-models for more details). In a future release, the default value for `weights_only` will be flipped to `True`. This limits the functions that could be executed during unpickling. Arbitrary objects will no longer be allowed to be loaded via this mode unless they are explicitly allowlisted by the user via `torch.serialization.add_safe_globals`. We recommend you start setting `weights_only=True` for any use case where you don't have full control of the loaded file. Please open an issue on GitHub for any issues related to this experimental feature.\n",
            "  checkpoint = torch.load(fp, map_location=device)\n",
            " 38%|███▊      | 95/250 [09:19<12:47,  4.95s/it]"
          ]
        },
        {
          "output_type": "stream",
          "name": "stdout",
          "text": [
            "Transcription of 276.wav:  No one likes to talk with you.\n"
          ]
        },
        {
          "output_type": "stream",
          "name": "stderr",
          "text": [
            "/usr/local/lib/python3.10/dist-packages/whisper/__init__.py:150: FutureWarning: You are using `torch.load` with `weights_only=False` (the current default value), which uses the default pickle module implicitly. It is possible to construct malicious pickle data which will execute arbitrary code during unpickling (See https://github.com/pytorch/pytorch/blob/main/SECURITY.md#untrusted-models for more details). In a future release, the default value for `weights_only` will be flipped to `True`. This limits the functions that could be executed during unpickling. Arbitrary objects will no longer be allowed to be loaded via this mode unless they are explicitly allowlisted by the user via `torch.serialization.add_safe_globals`. We recommend you start setting `weights_only=True` for any use case where you don't have full control of the loaded file. Please open an issue on GitHub for any issues related to this experimental feature.\n",
            "  checkpoint = torch.load(fp, map_location=device)\n",
            " 38%|███▊      | 96/250 [09:25<13:16,  5.17s/it]"
          ]
        },
        {
          "output_type": "stream",
          "name": "stdout",
          "text": [
            "Transcription of 352.wav:  You are very irresponsible.\n"
          ]
        },
        {
          "output_type": "stream",
          "name": "stderr",
          "text": [
            "/usr/local/lib/python3.10/dist-packages/whisper/__init__.py:150: FutureWarning: You are using `torch.load` with `weights_only=False` (the current default value), which uses the default pickle module implicitly. It is possible to construct malicious pickle data which will execute arbitrary code during unpickling (See https://github.com/pytorch/pytorch/blob/main/SECURITY.md#untrusted-models for more details). In a future release, the default value for `weights_only` will be flipped to `True`. This limits the functions that could be executed during unpickling. Arbitrary objects will no longer be allowed to be loaded via this mode unless they are explicitly allowlisted by the user via `torch.serialization.add_safe_globals`. We recommend you start setting `weights_only=True` for any use case where you don't have full control of the loaded file. Please open an issue on GitHub for any issues related to this experimental feature.\n",
            "  checkpoint = torch.load(fp, map_location=device)\n",
            " 39%|███▉      | 97/250 [09:29<12:43,  4.99s/it]"
          ]
        },
        {
          "output_type": "stream",
          "name": "stdout",
          "text": [
            "Transcription of 196.wav:  You should think more before you write.\n"
          ]
        },
        {
          "output_type": "stream",
          "name": "stderr",
          "text": [
            "/usr/local/lib/python3.10/dist-packages/whisper/__init__.py:150: FutureWarning: You are using `torch.load` with `weights_only=False` (the current default value), which uses the default pickle module implicitly. It is possible to construct malicious pickle data which will execute arbitrary code during unpickling (See https://github.com/pytorch/pytorch/blob/main/SECURITY.md#untrusted-models for more details). In a future release, the default value for `weights_only` will be flipped to `True`. This limits the functions that could be executed during unpickling. Arbitrary objects will no longer be allowed to be loaded via this mode unless they are explicitly allowlisted by the user via `torch.serialization.add_safe_globals`. We recommend you start setting `weights_only=True` for any use case where you don't have full control of the loaded file. Please open an issue on GitHub for any issues related to this experimental feature.\n",
            "  checkpoint = torch.load(fp, map_location=device)\n",
            " 39%|███▉      | 98/250 [09:35<13:19,  5.26s/it]"
          ]
        },
        {
          "output_type": "stream",
          "name": "stdout",
          "text": [
            "Transcription of 281.wav:  Allahずatesi akariantı\n"
          ]
        },
        {
          "output_type": "stream",
          "name": "stderr",
          "text": [
            "/usr/local/lib/python3.10/dist-packages/whisper/__init__.py:150: FutureWarning: You are using `torch.load` with `weights_only=False` (the current default value), which uses the default pickle module implicitly. It is possible to construct malicious pickle data which will execute arbitrary code during unpickling (See https://github.com/pytorch/pytorch/blob/main/SECURITY.md#untrusted-models for more details). In a future release, the default value for `weights_only` will be flipped to `True`. This limits the functions that could be executed during unpickling. Arbitrary objects will no longer be allowed to be loaded via this mode unless they are explicitly allowlisted by the user via `torch.serialization.add_safe_globals`. We recommend you start setting `weights_only=True` for any use case where you don't have full control of the loaded file. Please open an issue on GitHub for any issues related to this experimental feature.\n",
            "  checkpoint = torch.load(fp, map_location=device)\n",
            " 40%|███▉      | 99/250 [09:41<13:37,  5.41s/it]"
          ]
        },
        {
          "output_type": "stream",
          "name": "stdout",
          "text": [
            "Transcription of 162.wav:  Your explanation was good but try to be more precise.\n"
          ]
        },
        {
          "output_type": "stream",
          "name": "stderr",
          "text": [
            "/usr/local/lib/python3.10/dist-packages/whisper/__init__.py:150: FutureWarning: You are using `torch.load` with `weights_only=False` (the current default value), which uses the default pickle module implicitly. It is possible to construct malicious pickle data which will execute arbitrary code during unpickling (See https://github.com/pytorch/pytorch/blob/main/SECURITY.md#untrusted-models for more details). In a future release, the default value for `weights_only` will be flipped to `True`. This limits the functions that could be executed during unpickling. Arbitrary objects will no longer be allowed to be loaded via this mode unless they are explicitly allowlisted by the user via `torch.serialization.add_safe_globals`. We recommend you start setting `weights_only=True` for any use case where you don't have full control of the loaded file. Please open an issue on GitHub for any issues related to this experimental feature.\n",
            "  checkpoint = torch.load(fp, map_location=device)\n",
            " 40%|████      | 100/250 [09:46<12:50,  5.14s/it]"
          ]
        },
        {
          "output_type": "stream",
          "name": "stdout",
          "text": [
            "Transcription of 283.wav:  you are a great liar\n"
          ]
        },
        {
          "output_type": "stream",
          "name": "stderr",
          "text": [
            "/usr/local/lib/python3.10/dist-packages/whisper/__init__.py:150: FutureWarning: You are using `torch.load` with `weights_only=False` (the current default value), which uses the default pickle module implicitly. It is possible to construct malicious pickle data which will execute arbitrary code during unpickling (See https://github.com/pytorch/pytorch/blob/main/SECURITY.md#untrusted-models for more details). In a future release, the default value for `weights_only` will be flipped to `True`. This limits the functions that could be executed during unpickling. Arbitrary objects will no longer be allowed to be loaded via this mode unless they are explicitly allowlisted by the user via `torch.serialization.add_safe_globals`. We recommend you start setting `weights_only=True` for any use case where you don't have full control of the loaded file. Please open an issue on GitHub for any issues related to this experimental feature.\n",
            "  checkpoint = torch.load(fp, map_location=device)\n",
            " 40%|████      | 101/250 [09:52<13:54,  5.60s/it]"
          ]
        },
        {
          "output_type": "stream",
          "name": "stdout",
          "text": [
            "Transcription of 332.wav:  doing something like that\n"
          ]
        },
        {
          "output_type": "stream",
          "name": "stderr",
          "text": [
            "/usr/local/lib/python3.10/dist-packages/whisper/__init__.py:150: FutureWarning: You are using `torch.load` with `weights_only=False` (the current default value), which uses the default pickle module implicitly. It is possible to construct malicious pickle data which will execute arbitrary code during unpickling (See https://github.com/pytorch/pytorch/blob/main/SECURITY.md#untrusted-models for more details). In a future release, the default value for `weights_only` will be flipped to `True`. This limits the functions that could be executed during unpickling. Arbitrary objects will no longer be allowed to be loaded via this mode unless they are explicitly allowlisted by the user via `torch.serialization.add_safe_globals`. We recommend you start setting `weights_only=True` for any use case where you don't have full control of the loaded file. Please open an issue on GitHub for any issues related to this experimental feature.\n",
            "  checkpoint = torch.load(fp, map_location=device)\n",
            " 41%|████      | 102/250 [09:57<13:01,  5.28s/it]"
          ]
        },
        {
          "output_type": "stream",
          "name": "stdout",
          "text": [
            "Transcription of 264.wav:  You can never be a leader.\n"
          ]
        },
        {
          "output_type": "stream",
          "name": "stderr",
          "text": [
            "/usr/local/lib/python3.10/dist-packages/whisper/__init__.py:150: FutureWarning: You are using `torch.load` with `weights_only=False` (the current default value), which uses the default pickle module implicitly. It is possible to construct malicious pickle data which will execute arbitrary code during unpickling (See https://github.com/pytorch/pytorch/blob/main/SECURITY.md#untrusted-models for more details). In a future release, the default value for `weights_only` will be flipped to `True`. This limits the functions that could be executed during unpickling. Arbitrary objects will no longer be allowed to be loaded via this mode unless they are explicitly allowlisted by the user via `torch.serialization.add_safe_globals`. We recommend you start setting `weights_only=True` for any use case where you don't have full control of the loaded file. Please open an issue on GitHub for any issues related to this experimental feature.\n",
            "  checkpoint = torch.load(fp, map_location=device)\n",
            " 41%|████      | 103/250 [10:01<12:23,  5.05s/it]"
          ]
        },
        {
          "output_type": "stream",
          "name": "stdout",
          "text": [
            "Transcription of 291.wav:  What rubbish are you talking about?\n"
          ]
        },
        {
          "output_type": "stream",
          "name": "stderr",
          "text": [
            "/usr/local/lib/python3.10/dist-packages/whisper/__init__.py:150: FutureWarning: You are using `torch.load` with `weights_only=False` (the current default value), which uses the default pickle module implicitly. It is possible to construct malicious pickle data which will execute arbitrary code during unpickling (See https://github.com/pytorch/pytorch/blob/main/SECURITY.md#untrusted-models for more details). In a future release, the default value for `weights_only` will be flipped to `True`. This limits the functions that could be executed during unpickling. Arbitrary objects will no longer be allowed to be loaded via this mode unless they are explicitly allowlisted by the user via `torch.serialization.add_safe_globals`. We recommend you start setting `weights_only=True` for any use case where you don't have full control of the loaded file. Please open an issue on GitHub for any issues related to this experimental feature.\n",
            "  checkpoint = torch.load(fp, map_location=device)\n",
            " 42%|████▏     | 104/250 [10:08<13:28,  5.54s/it]"
          ]
        },
        {
          "output_type": "stream",
          "name": "stdout",
          "text": [
            "Transcription of 314.wav: やった!\n"
          ]
        },
        {
          "output_type": "stream",
          "name": "stderr",
          "text": [
            "/usr/local/lib/python3.10/dist-packages/whisper/__init__.py:150: FutureWarning: You are using `torch.load` with `weights_only=False` (the current default value), which uses the default pickle module implicitly. It is possible to construct malicious pickle data which will execute arbitrary code during unpickling (See https://github.com/pytorch/pytorch/blob/main/SECURITY.md#untrusted-models for more details). In a future release, the default value for `weights_only` will be flipped to `True`. This limits the functions that could be executed during unpickling. Arbitrary objects will no longer be allowed to be loaded via this mode unless they are explicitly allowlisted by the user via `torch.serialization.add_safe_globals`. We recommend you start setting `weights_only=True` for any use case where you don't have full control of the loaded file. Please open an issue on GitHub for any issues related to this experimental feature.\n",
            "  checkpoint = torch.load(fp, map_location=device)\n",
            " 42%|████▏     | 105/250 [10:14<13:29,  5.58s/it]"
          ]
        },
        {
          "output_type": "stream",
          "name": "stdout",
          "text": [
            "Transcription of 32.wav:  I'll reveal another stupid치는\n"
          ]
        },
        {
          "output_type": "stream",
          "name": "stderr",
          "text": [
            "/usr/local/lib/python3.10/dist-packages/whisper/__init__.py:150: FutureWarning: You are using `torch.load` with `weights_only=False` (the current default value), which uses the default pickle module implicitly. It is possible to construct malicious pickle data which will execute arbitrary code during unpickling (See https://github.com/pytorch/pytorch/blob/main/SECURITY.md#untrusted-models for more details). In a future release, the default value for `weights_only` will be flipped to `True`. This limits the functions that could be executed during unpickling. Arbitrary objects will no longer be allowed to be loaded via this mode unless they are explicitly allowlisted by the user via `torch.serialization.add_safe_globals`. We recommend you start setting `weights_only=True` for any use case where you don't have full control of the loaded file. Please open an issue on GitHub for any issues related to this experimental feature.\n",
            "  checkpoint = torch.load(fp, map_location=device)\n",
            " 42%|████▏     | 106/250 [10:19<13:36,  5.67s/it]"
          ]
        },
        {
          "output_type": "stream",
          "name": "stdout",
          "text": [
            "Transcription of 207.wav:  It was good but it can be more better.\n"
          ]
        },
        {
          "output_type": "stream",
          "name": "stderr",
          "text": [
            "/usr/local/lib/python3.10/dist-packages/whisper/__init__.py:150: FutureWarning: You are using `torch.load` with `weights_only=False` (the current default value), which uses the default pickle module implicitly. It is possible to construct malicious pickle data which will execute arbitrary code during unpickling (See https://github.com/pytorch/pytorch/blob/main/SECURITY.md#untrusted-models for more details). In a future release, the default value for `weights_only` will be flipped to `True`. This limits the functions that could be executed during unpickling. Arbitrary objects will no longer be allowed to be loaded via this mode unless they are explicitly allowlisted by the user via `torch.serialization.add_safe_globals`. We recommend you start setting `weights_only=True` for any use case where you don't have full control of the loaded file. Please open an issue on GitHub for any issues related to this experimental feature.\n",
            "  checkpoint = torch.load(fp, map_location=device)\n",
            " 43%|████▎     | 107/250 [10:24<12:42,  5.33s/it]"
          ]
        },
        {
          "output_type": "stream",
          "name": "stdout",
          "text": [
            "Transcription of 69.wav:  You have taken the correct decision.\n"
          ]
        },
        {
          "output_type": "stream",
          "name": "stderr",
          "text": [
            "/usr/local/lib/python3.10/dist-packages/whisper/__init__.py:150: FutureWarning: You are using `torch.load` with `weights_only=False` (the current default value), which uses the default pickle module implicitly. It is possible to construct malicious pickle data which will execute arbitrary code during unpickling (See https://github.com/pytorch/pytorch/blob/main/SECURITY.md#untrusted-models for more details). In a future release, the default value for `weights_only` will be flipped to `True`. This limits the functions that could be executed during unpickling. Arbitrary objects will no longer be allowed to be loaded via this mode unless they are explicitly allowlisted by the user via `torch.serialization.add_safe_globals`. We recommend you start setting `weights_only=True` for any use case where you don't have full control of the loaded file. Please open an issue on GitHub for any issues related to this experimental feature.\n",
            "  checkpoint = torch.load(fp, map_location=device)\n",
            " 43%|████▎     | 108/250 [10:29<12:11,  5.15s/it]"
          ]
        },
        {
          "output_type": "stream",
          "name": "stdout",
          "text": [
            "Transcription of 14.wav:  I would like you to do it.\n"
          ]
        },
        {
          "output_type": "stream",
          "name": "stderr",
          "text": [
            "/usr/local/lib/python3.10/dist-packages/whisper/__init__.py:150: FutureWarning: You are using `torch.load` with `weights_only=False` (the current default value), which uses the default pickle module implicitly. It is possible to construct malicious pickle data which will execute arbitrary code during unpickling (See https://github.com/pytorch/pytorch/blob/main/SECURITY.md#untrusted-models for more details). In a future release, the default value for `weights_only` will be flipped to `True`. This limits the functions that could be executed during unpickling. Arbitrary objects will no longer be allowed to be loaded via this mode unless they are explicitly allowlisted by the user via `torch.serialization.add_safe_globals`. We recommend you start setting `weights_only=True` for any use case where you don't have full control of the loaded file. Please open an issue on GitHub for any issues related to this experimental feature.\n",
            "  checkpoint = torch.load(fp, map_location=device)\n",
            " 44%|████▎     | 109/250 [10:35<13:07,  5.59s/it]"
          ]
        },
        {
          "output_type": "stream",
          "name": "stdout",
          "text": [
            "Transcription of 323.wav:  Devetem een sylog massage\n"
          ]
        },
        {
          "output_type": "stream",
          "name": "stderr",
          "text": [
            "/usr/local/lib/python3.10/dist-packages/whisper/__init__.py:150: FutureWarning: You are using `torch.load` with `weights_only=False` (the current default value), which uses the default pickle module implicitly. It is possible to construct malicious pickle data which will execute arbitrary code during unpickling (See https://github.com/pytorch/pytorch/blob/main/SECURITY.md#untrusted-models for more details). In a future release, the default value for `weights_only` will be flipped to `True`. This limits the functions that could be executed during unpickling. Arbitrary objects will no longer be allowed to be loaded via this mode unless they are explicitly allowlisted by the user via `torch.serialization.add_safe_globals`. We recommend you start setting `weights_only=True` for any use case where you don't have full control of the loaded file. Please open an issue on GitHub for any issues related to this experimental feature.\n",
            "  checkpoint = torch.load(fp, map_location=device)\n",
            " 44%|████▍     | 110/250 [10:40<12:18,  5.27s/it]"
          ]
        },
        {
          "output_type": "stream",
          "name": "stdout",
          "text": [
            "Transcription of 313.wav:  You are talking very rudely.\n"
          ]
        },
        {
          "output_type": "stream",
          "name": "stderr",
          "text": [
            "/usr/local/lib/python3.10/dist-packages/whisper/__init__.py:150: FutureWarning: You are using `torch.load` with `weights_only=False` (the current default value), which uses the default pickle module implicitly. It is possible to construct malicious pickle data which will execute arbitrary code during unpickling (See https://github.com/pytorch/pytorch/blob/main/SECURITY.md#untrusted-models for more details). In a future release, the default value for `weights_only` will be flipped to `True`. This limits the functions that could be executed during unpickling. Arbitrary objects will no longer be allowed to be loaded via this mode unless they are explicitly allowlisted by the user via `torch.serialization.add_safe_globals`. We recommend you start setting `weights_only=True` for any use case where you don't have full control of the loaded file. Please open an issue on GitHub for any issues related to this experimental feature.\n",
            "  checkpoint = torch.load(fp, map_location=device)\n",
            " 44%|████▍     | 111/250 [10:46<12:37,  5.45s/it]"
          ]
        },
        {
          "output_type": "stream",
          "name": "stdout",
          "text": [
            "Transcription of 227.wav:  The project was good but it needs more modification.\n"
          ]
        },
        {
          "output_type": "stream",
          "name": "stderr",
          "text": [
            "/usr/local/lib/python3.10/dist-packages/whisper/__init__.py:150: FutureWarning: You are using `torch.load` with `weights_only=False` (the current default value), which uses the default pickle module implicitly. It is possible to construct malicious pickle data which will execute arbitrary code during unpickling (See https://github.com/pytorch/pytorch/blob/main/SECURITY.md#untrusted-models for more details). In a future release, the default value for `weights_only` will be flipped to `True`. This limits the functions that could be executed during unpickling. Arbitrary objects will no longer be allowed to be loaded via this mode unless they are explicitly allowlisted by the user via `torch.serialization.add_safe_globals`. We recommend you start setting `weights_only=True` for any use case where you don't have full control of the loaded file. Please open an issue on GitHub for any issues related to this experimental feature.\n",
            "  checkpoint = torch.load(fp, map_location=device)\n",
            " 45%|████▍     | 112/250 [10:50<11:54,  5.18s/it]"
          ]
        },
        {
          "output_type": "stream",
          "name": "stdout",
          "text": [
            "Transcription of 263.wav:  No caminó el día libre\n"
          ]
        },
        {
          "output_type": "stream",
          "name": "stderr",
          "text": [
            "/usr/local/lib/python3.10/dist-packages/whisper/__init__.py:150: FutureWarning: You are using `torch.load` with `weights_only=False` (the current default value), which uses the default pickle module implicitly. It is possible to construct malicious pickle data which will execute arbitrary code during unpickling (See https://github.com/pytorch/pytorch/blob/main/SECURITY.md#untrusted-models for more details). In a future release, the default value for `weights_only` will be flipped to `True`. This limits the functions that could be executed during unpickling. Arbitrary objects will no longer be allowed to be loaded via this mode unless they are explicitly allowlisted by the user via `torch.serialization.add_safe_globals`. We recommend you start setting `weights_only=True` for any use case where you don't have full control of the loaded file. Please open an issue on GitHub for any issues related to this experimental feature.\n",
            "  checkpoint = torch.load(fp, map_location=device)\n",
            " 45%|████▌     | 113/250 [10:55<11:28,  5.02s/it]"
          ]
        },
        {
          "output_type": "stream",
          "name": "stdout",
          "text": [
            "Transcription of 336.wav:  Your idea is very bad.\n"
          ]
        },
        {
          "output_type": "stream",
          "name": "stderr",
          "text": [
            "/usr/local/lib/python3.10/dist-packages/whisper/__init__.py:150: FutureWarning: You are using `torch.load` with `weights_only=False` (the current default value), which uses the default pickle module implicitly. It is possible to construct malicious pickle data which will execute arbitrary code during unpickling (See https://github.com/pytorch/pytorch/blob/main/SECURITY.md#untrusted-models for more details). In a future release, the default value for `weights_only` will be flipped to `True`. This limits the functions that could be executed during unpickling. Arbitrary objects will no longer be allowed to be loaded via this mode unless they are explicitly allowlisted by the user via `torch.serialization.add_safe_globals`. We recommend you start setting `weights_only=True` for any use case where you don't have full control of the loaded file. Please open an issue on GitHub for any issues related to this experimental feature.\n",
            "  checkpoint = torch.load(fp, map_location=device)\n",
            " 46%|████▌     | 114/250 [11:01<11:49,  5.22s/it]"
          ]
        },
        {
          "output_type": "stream",
          "name": "stdout",
          "text": [
            "Transcription of 295.wav:  your choice is very bad\n"
          ]
        },
        {
          "output_type": "stream",
          "name": "stderr",
          "text": [
            "/usr/local/lib/python3.10/dist-packages/whisper/__init__.py:150: FutureWarning: You are using `torch.load` with `weights_only=False` (the current default value), which uses the default pickle module implicitly. It is possible to construct malicious pickle data which will execute arbitrary code during unpickling (See https://github.com/pytorch/pytorch/blob/main/SECURITY.md#untrusted-models for more details). In a future release, the default value for `weights_only` will be flipped to `True`. This limits the functions that could be executed during unpickling. Arbitrary objects will no longer be allowed to be loaded via this mode unless they are explicitly allowlisted by the user via `torch.serialization.add_safe_globals`. We recommend you start setting `weights_only=True` for any use case where you don't have full control of the loaded file. Please open an issue on GitHub for any issues related to this experimental feature.\n",
            "  checkpoint = torch.load(fp, map_location=device)\n",
            " 46%|████▌     | 115/250 [11:05<11:22,  5.06s/it]"
          ]
        },
        {
          "output_type": "stream",
          "name": "stdout",
          "text": [
            "Transcription of 36.wav:  I am very much proud of you.\n"
          ]
        },
        {
          "output_type": "stream",
          "name": "stderr",
          "text": [
            "/usr/local/lib/python3.10/dist-packages/whisper/__init__.py:150: FutureWarning: You are using `torch.load` with `weights_only=False` (the current default value), which uses the default pickle module implicitly. It is possible to construct malicious pickle data which will execute arbitrary code during unpickling (See https://github.com/pytorch/pytorch/blob/main/SECURITY.md#untrusted-models for more details). In a future release, the default value for `weights_only` will be flipped to `True`. This limits the functions that could be executed during unpickling. Arbitrary objects will no longer be allowed to be loaded via this mode unless they are explicitly allowlisted by the user via `torch.serialization.add_safe_globals`. We recommend you start setting `weights_only=True` for any use case where you don't have full control of the loaded file. Please open an issue on GitHub for any issues related to this experimental feature.\n",
            "  checkpoint = torch.load(fp, map_location=device)\n",
            " 46%|████▋     | 116/250 [11:11<11:45,  5.27s/it]"
          ]
        },
        {
          "output_type": "stream",
          "name": "stdout",
          "text": [
            "Transcription of 218.wav:  If you work more hard, you will definitely crack the exam.\n"
          ]
        },
        {
          "output_type": "stream",
          "name": "stderr",
          "text": [
            "/usr/local/lib/python3.10/dist-packages/whisper/__init__.py:150: FutureWarning: You are using `torch.load` with `weights_only=False` (the current default value), which uses the default pickle module implicitly. It is possible to construct malicious pickle data which will execute arbitrary code during unpickling (See https://github.com/pytorch/pytorch/blob/main/SECURITY.md#untrusted-models for more details). In a future release, the default value for `weights_only` will be flipped to `True`. This limits the functions that could be executed during unpickling. Arbitrary objects will no longer be allowed to be loaded via this mode unless they are explicitly allowlisted by the user via `torch.serialization.add_safe_globals`. We recommend you start setting `weights_only=True` for any use case where you don't have full control of the loaded file. Please open an issue on GitHub for any issues related to this experimental feature.\n",
            "  checkpoint = torch.load(fp, map_location=device)\n",
            " 47%|████▋     | 117/250 [11:16<11:15,  5.08s/it]"
          ]
        },
        {
          "output_type": "stream",
          "name": "stdout",
          "text": [
            "Transcription of 236.wav:  You should learn more good manners.\n"
          ]
        },
        {
          "output_type": "stream",
          "name": "stderr",
          "text": [
            "/usr/local/lib/python3.10/dist-packages/whisper/__init__.py:150: FutureWarning: You are using `torch.load` with `weights_only=False` (the current default value), which uses the default pickle module implicitly. It is possible to construct malicious pickle data which will execute arbitrary code during unpickling (See https://github.com/pytorch/pytorch/blob/main/SECURITY.md#untrusted-models for more details). In a future release, the default value for `weights_only` will be flipped to `True`. This limits the functions that could be executed during unpickling. Arbitrary objects will no longer be allowed to be loaded via this mode unless they are explicitly allowlisted by the user via `torch.serialization.add_safe_globals`. We recommend you start setting `weights_only=True` for any use case where you don't have full control of the loaded file. Please open an issue on GitHub for any issues related to this experimental feature.\n",
            "  checkpoint = torch.load(fp, map_location=device)\n",
            " 47%|████▋     | 118/250 [11:20<10:54,  4.96s/it]"
          ]
        },
        {
          "output_type": "stream",
          "name": "stdout",
          "text": [
            "Transcription of 234.wav:  You have done it on time but you can have done it before.\n"
          ]
        },
        {
          "output_type": "stream",
          "name": "stderr",
          "text": [
            "/usr/local/lib/python3.10/dist-packages/whisper/__init__.py:150: FutureWarning: You are using `torch.load` with `weights_only=False` (the current default value), which uses the default pickle module implicitly. It is possible to construct malicious pickle data which will execute arbitrary code during unpickling (See https://github.com/pytorch/pytorch/blob/main/SECURITY.md#untrusted-models for more details). In a future release, the default value for `weights_only` will be flipped to `True`. This limits the functions that could be executed during unpickling. Arbitrary objects will no longer be allowed to be loaded via this mode unless they are explicitly allowlisted by the user via `torch.serialization.add_safe_globals`. We recommend you start setting `weights_only=True` for any use case where you don't have full control of the loaded file. Please open an issue on GitHub for any issues related to this experimental feature.\n",
            "  checkpoint = torch.load(fp, map_location=device)\n",
            " 48%|████▊     | 119/250 [11:27<11:42,  5.36s/it]"
          ]
        },
        {
          "output_type": "stream",
          "name": "stdout",
          "text": [
            "Transcription of 357.wav:  You can never be an ideal of someone.\n"
          ]
        },
        {
          "output_type": "stream",
          "name": "stderr",
          "text": [
            "/usr/local/lib/python3.10/dist-packages/whisper/__init__.py:150: FutureWarning: You are using `torch.load` with `weights_only=False` (the current default value), which uses the default pickle module implicitly. It is possible to construct malicious pickle data which will execute arbitrary code during unpickling (See https://github.com/pytorch/pytorch/blob/main/SECURITY.md#untrusted-models for more details). In a future release, the default value for `weights_only` will be flipped to `True`. This limits the functions that could be executed during unpickling. Arbitrary objects will no longer be allowed to be loaded via this mode unless they are explicitly allowlisted by the user via `torch.serialization.add_safe_globals`. We recommend you start setting `weights_only=True` for any use case where you don't have full control of the loaded file. Please open an issue on GitHub for any issues related to this experimental feature.\n",
            "  checkpoint = torch.load(fp, map_location=device)\n",
            " 48%|████▊     | 120/250 [11:31<11:05,  5.12s/it]"
          ]
        },
        {
          "output_type": "stream",
          "name": "stdout",
          "text": [
            "Transcription of 12.wav:  Thank you for your great help.\n"
          ]
        },
        {
          "output_type": "stream",
          "name": "stderr",
          "text": [
            "/usr/local/lib/python3.10/dist-packages/whisper/__init__.py:150: FutureWarning: You are using `torch.load` with `weights_only=False` (the current default value), which uses the default pickle module implicitly. It is possible to construct malicious pickle data which will execute arbitrary code during unpickling (See https://github.com/pytorch/pytorch/blob/main/SECURITY.md#untrusted-models for more details). In a future release, the default value for `weights_only` will be flipped to `True`. This limits the functions that could be executed during unpickling. Arbitrary objects will no longer be allowed to be loaded via this mode unless they are explicitly allowlisted by the user via `torch.serialization.add_safe_globals`. We recommend you start setting `weights_only=True` for any use case where you don't have full control of the loaded file. Please open an issue on GitHub for any issues related to this experimental feature.\n",
            "  checkpoint = torch.load(fp, map_location=device)\n",
            " 48%|████▊     | 121/250 [11:37<11:07,  5.17s/it]"
          ]
        },
        {
          "output_type": "stream",
          "name": "stdout",
          "text": [
            "Transcription of 170.wav:  There has never been gain from all loss.\n"
          ]
        },
        {
          "output_type": "stream",
          "name": "stderr",
          "text": [
            "/usr/local/lib/python3.10/dist-packages/whisper/__init__.py:150: FutureWarning: You are using `torch.load` with `weights_only=False` (the current default value), which uses the default pickle module implicitly. It is possible to construct malicious pickle data which will execute arbitrary code during unpickling (See https://github.com/pytorch/pytorch/blob/main/SECURITY.md#untrusted-models for more details). In a future release, the default value for `weights_only` will be flipped to `True`. This limits the functions that could be executed during unpickling. Arbitrary objects will no longer be allowed to be loaded via this mode unless they are explicitly allowlisted by the user via `torch.serialization.add_safe_globals`. We recommend you start setting `weights_only=True` for any use case where you don't have full control of the loaded file. Please open an issue on GitHub for any issues related to this experimental feature.\n",
            "  checkpoint = torch.load(fp, map_location=device)\n",
            " 49%|████▉     | 122/250 [11:41<10:43,  5.03s/it]"
          ]
        },
        {
          "output_type": "stream",
          "name": "stdout",
          "text": [
            "Transcription of 346.wav:  How dare you say that?\n"
          ]
        },
        {
          "output_type": "stream",
          "name": "stderr",
          "text": [
            "/usr/local/lib/python3.10/dist-packages/whisper/__init__.py:150: FutureWarning: You are using `torch.load` with `weights_only=False` (the current default value), which uses the default pickle module implicitly. It is possible to construct malicious pickle data which will execute arbitrary code during unpickling (See https://github.com/pytorch/pytorch/blob/main/SECURITY.md#untrusted-models for more details). In a future release, the default value for `weights_only` will be flipped to `True`. This limits the functions that could be executed during unpickling. Arbitrary objects will no longer be allowed to be loaded via this mode unless they are explicitly allowlisted by the user via `torch.serialization.add_safe_globals`. We recommend you start setting `weights_only=True` for any use case where you don't have full control of the loaded file. Please open an issue on GitHub for any issues related to this experimental feature.\n",
            "  checkpoint = torch.load(fp, map_location=device)\n",
            " 49%|████▉     | 123/250 [11:46<10:19,  4.88s/it]"
          ]
        },
        {
          "output_type": "stream",
          "name": "stdout",
          "text": [
            "Transcription of 262.wav:  You can never be a leader.\n"
          ]
        },
        {
          "output_type": "stream",
          "name": "stderr",
          "text": [
            "/usr/local/lib/python3.10/dist-packages/whisper/__init__.py:150: FutureWarning: You are using `torch.load` with `weights_only=False` (the current default value), which uses the default pickle module implicitly. It is possible to construct malicious pickle data which will execute arbitrary code during unpickling (See https://github.com/pytorch/pytorch/blob/main/SECURITY.md#untrusted-models for more details). In a future release, the default value for `weights_only` will be flipped to `True`. This limits the functions that could be executed during unpickling. Arbitrary objects will no longer be allowed to be loaded via this mode unless they are explicitly allowlisted by the user via `torch.serialization.add_safe_globals`. We recommend you start setting `weights_only=True` for any use case where you don't have full control of the loaded file. Please open an issue on GitHub for any issues related to this experimental feature.\n",
            "  checkpoint = torch.load(fp, map_location=device)\n",
            " 50%|████▉     | 124/250 [11:52<10:51,  5.17s/it]"
          ]
        },
        {
          "output_type": "stream",
          "name": "stdout",
          "text": [
            "Transcription of 211.wav:  You should try to be more creative.\n"
          ]
        },
        {
          "output_type": "stream",
          "name": "stderr",
          "text": [
            "/usr/local/lib/python3.10/dist-packages/whisper/__init__.py:150: FutureWarning: You are using `torch.load` with `weights_only=False` (the current default value), which uses the default pickle module implicitly. It is possible to construct malicious pickle data which will execute arbitrary code during unpickling (See https://github.com/pytorch/pytorch/blob/main/SECURITY.md#untrusted-models for more details). In a future release, the default value for `weights_only` will be flipped to `True`. This limits the functions that could be executed during unpickling. Arbitrary objects will no longer be allowed to be loaded via this mode unless they are explicitly allowlisted by the user via `torch.serialization.add_safe_globals`. We recommend you start setting `weights_only=True` for any use case where you don't have full control of the loaded file. Please open an issue on GitHub for any issues related to this experimental feature.\n",
            "  checkpoint = torch.load(fp, map_location=device)\n",
            " 50%|█████     | 125/250 [11:56<10:23,  4.99s/it]"
          ]
        },
        {
          "output_type": "stream",
          "name": "stdout",
          "text": [
            "Transcription of 231.wav:  It is providing me some relief.\n"
          ]
        },
        {
          "output_type": "stream",
          "name": "stderr",
          "text": [
            "/usr/local/lib/python3.10/dist-packages/whisper/__init__.py:150: FutureWarning: You are using `torch.load` with `weights_only=False` (the current default value), which uses the default pickle module implicitly. It is possible to construct malicious pickle data which will execute arbitrary code during unpickling (See https://github.com/pytorch/pytorch/blob/main/SECURITY.md#untrusted-models for more details). In a future release, the default value for `weights_only` will be flipped to `True`. This limits the functions that could be executed during unpickling. Arbitrary objects will no longer be allowed to be loaded via this mode unless they are explicitly allowlisted by the user via `torch.serialization.add_safe_globals`. We recommend you start setting `weights_only=True` for any use case where you don't have full control of the loaded file. Please open an issue on GitHub for any issues related to this experimental feature.\n",
            "  checkpoint = torch.load(fp, map_location=device)\n",
            " 50%|█████     | 126/250 [12:01<10:09,  4.92s/it]"
          ]
        },
        {
          "output_type": "stream",
          "name": "stdout",
          "text": [
            "Transcription of 164.wav:  You can do a lot better than this\n"
          ]
        },
        {
          "output_type": "stream",
          "name": "stderr",
          "text": [
            "/usr/local/lib/python3.10/dist-packages/whisper/__init__.py:150: FutureWarning: You are using `torch.load` with `weights_only=False` (the current default value), which uses the default pickle module implicitly. It is possible to construct malicious pickle data which will execute arbitrary code during unpickling (See https://github.com/pytorch/pytorch/blob/main/SECURITY.md#untrusted-models for more details). In a future release, the default value for `weights_only` will be flipped to `True`. This limits the functions that could be executed during unpickling. Arbitrary objects will no longer be allowed to be loaded via this mode unless they are explicitly allowlisted by the user via `torch.serialization.add_safe_globals`. We recommend you start setting `weights_only=True` for any use case where you don't have full control of the loaded file. Please open an issue on GitHub for any issues related to this experimental feature.\n",
            "  checkpoint = torch.load(fp, map_location=device)\n",
            " 51%|█████     | 127/250 [12:07<10:33,  5.15s/it]"
          ]
        },
        {
          "output_type": "stream",
          "name": "stdout",
          "text": [
            "Transcription of 252.wav:  You do not deserve respect.\n"
          ]
        },
        {
          "output_type": "stream",
          "name": "stderr",
          "text": [
            "/usr/local/lib/python3.10/dist-packages/whisper/__init__.py:150: FutureWarning: You are using `torch.load` with `weights_only=False` (the current default value), which uses the default pickle module implicitly. It is possible to construct malicious pickle data which will execute arbitrary code during unpickling (See https://github.com/pytorch/pytorch/blob/main/SECURITY.md#untrusted-models for more details). In a future release, the default value for `weights_only` will be flipped to `True`. This limits the functions that could be executed during unpickling. Arbitrary objects will no longer be allowed to be loaded via this mode unless they are explicitly allowlisted by the user via `torch.serialization.add_safe_globals`. We recommend you start setting `weights_only=True` for any use case where you don't have full control of the loaded file. Please open an issue on GitHub for any issues related to this experimental feature.\n",
            "  checkpoint = torch.load(fp, map_location=device)\n",
            " 51%|█████     | 128/250 [12:12<10:42,  5.27s/it]"
          ]
        },
        {
          "output_type": "stream",
          "name": "stdout",
          "text": [
            "Transcription of 104.wav:  Which wolf willirts you have never seen\n"
          ]
        },
        {
          "output_type": "stream",
          "name": "stderr",
          "text": [
            "/usr/local/lib/python3.10/dist-packages/whisper/__init__.py:150: FutureWarning: You are using `torch.load` with `weights_only=False` (the current default value), which uses the default pickle module implicitly. It is possible to construct malicious pickle data which will execute arbitrary code during unpickling (See https://github.com/pytorch/pytorch/blob/main/SECURITY.md#untrusted-models for more details). In a future release, the default value for `weights_only` will be flipped to `True`. This limits the functions that could be executed during unpickling. Arbitrary objects will no longer be allowed to be loaded via this mode unless they are explicitly allowlisted by the user via `torch.serialization.add_safe_globals`. We recommend you start setting `weights_only=True` for any use case where you don't have full control of the loaded file. Please open an issue on GitHub for any issues related to this experimental feature.\n",
            "  checkpoint = torch.load(fp, map_location=device)\n",
            " 52%|█████▏    | 129/250 [12:20<12:18,  6.10s/it]"
          ]
        },
        {
          "output_type": "stream",
          "name": "stdout",
          "text": [
            "Transcription of 299.wav:  Had a great time here, 321AH\n"
          ]
        },
        {
          "output_type": "stream",
          "name": "stderr",
          "text": [
            "/usr/local/lib/python3.10/dist-packages/whisper/__init__.py:150: FutureWarning: You are using `torch.load` with `weights_only=False` (the current default value), which uses the default pickle module implicitly. It is possible to construct malicious pickle data which will execute arbitrary code during unpickling (See https://github.com/pytorch/pytorch/blob/main/SECURITY.md#untrusted-models for more details). In a future release, the default value for `weights_only` will be flipped to `True`. This limits the functions that could be executed during unpickling. Arbitrary objects will no longer be allowed to be loaded via this mode unless they are explicitly allowlisted by the user via `torch.serialization.add_safe_globals`. We recommend you start setting `weights_only=True` for any use case where you don't have full control of the loaded file. Please open an issue on GitHub for any issues related to this experimental feature.\n",
            "  checkpoint = torch.load(fp, map_location=device)\n",
            " 52%|█████▏    | 130/250 [12:25<11:17,  5.65s/it]"
          ]
        },
        {
          "output_type": "stream",
          "name": "stdout",
          "text": [
            "Transcription of 241.wav:  You will now be in trouble.\n"
          ]
        },
        {
          "output_type": "stream",
          "name": "stderr",
          "text": [
            "/usr/local/lib/python3.10/dist-packages/whisper/__init__.py:150: FutureWarning: You are using `torch.load` with `weights_only=False` (the current default value), which uses the default pickle module implicitly. It is possible to construct malicious pickle data which will execute arbitrary code during unpickling (See https://github.com/pytorch/pytorch/blob/main/SECURITY.md#untrusted-models for more details). In a future release, the default value for `weights_only` will be flipped to `True`. This limits the functions that could be executed during unpickling. Arbitrary objects will no longer be allowed to be loaded via this mode unless they are explicitly allowlisted by the user via `torch.serialization.add_safe_globals`. We recommend you start setting `weights_only=True` for any use case where you don't have full control of the loaded file. Please open an issue on GitHub for any issues related to this experimental feature.\n",
            "  checkpoint = torch.load(fp, map_location=device)\n",
            " 52%|█████▏    | 131/250 [12:31<11:14,  5.67s/it]"
          ]
        },
        {
          "output_type": "stream",
          "name": "stdout",
          "text": [
            "Transcription of 310.wav:  You are fired.\n"
          ]
        },
        {
          "output_type": "stream",
          "name": "stderr",
          "text": [
            "/usr/local/lib/python3.10/dist-packages/whisper/__init__.py:150: FutureWarning: You are using `torch.load` with `weights_only=False` (the current default value), which uses the default pickle module implicitly. It is possible to construct malicious pickle data which will execute arbitrary code during unpickling (See https://github.com/pytorch/pytorch/blob/main/SECURITY.md#untrusted-models for more details). In a future release, the default value for `weights_only` will be flipped to `True`. This limits the functions that could be executed during unpickling. Arbitrary objects will no longer be allowed to be loaded via this mode unless they are explicitly allowlisted by the user via `torch.serialization.add_safe_globals`. We recommend you start setting `weights_only=True` for any use case where you don't have full control of the loaded file. Please open an issue on GitHub for any issues related to this experimental feature.\n",
            "  checkpoint = torch.load(fp, map_location=device)\n",
            " 53%|█████▎    | 132/250 [12:36<10:54,  5.54s/it]"
          ]
        },
        {
          "output_type": "stream",
          "name": "stdout",
          "text": [
            "Transcription of 189.wav:  योर अड़िया सावन्स भूँड प्लीज इलआबुरेट मोर\n"
          ]
        },
        {
          "output_type": "stream",
          "name": "stderr",
          "text": [
            "/usr/local/lib/python3.10/dist-packages/whisper/__init__.py:150: FutureWarning: You are using `torch.load` with `weights_only=False` (the current default value), which uses the default pickle module implicitly. It is possible to construct malicious pickle data which will execute arbitrary code during unpickling (See https://github.com/pytorch/pytorch/blob/main/SECURITY.md#untrusted-models for more details). In a future release, the default value for `weights_only` will be flipped to `True`. This limits the functions that could be executed during unpickling. Arbitrary objects will no longer be allowed to be loaded via this mode unless they are explicitly allowlisted by the user via `torch.serialization.add_safe_globals`. We recommend you start setting `weights_only=True` for any use case where you don't have full control of the loaded file. Please open an issue on GitHub for any issues related to this experimental feature.\n",
            "  checkpoint = torch.load(fp, map_location=device)\n",
            " 53%|█████▎    | 133/250 [12:56<19:09,  9.82s/it]"
          ]
        },
        {
          "output_type": "stream",
          "name": "stdout",
          "text": [
            "Transcription of 331.wav:  you are very foolish person\n"
          ]
        },
        {
          "output_type": "stream",
          "name": "stderr",
          "text": [
            "/usr/local/lib/python3.10/dist-packages/whisper/__init__.py:150: FutureWarning: You are using `torch.load` with `weights_only=False` (the current default value), which uses the default pickle module implicitly. It is possible to construct malicious pickle data which will execute arbitrary code during unpickling (See https://github.com/pytorch/pytorch/blob/main/SECURITY.md#untrusted-models for more details). In a future release, the default value for `weights_only` will be flipped to `True`. This limits the functions that could be executed during unpickling. Arbitrary objects will no longer be allowed to be loaded via this mode unless they are explicitly allowlisted by the user via `torch.serialization.add_safe_globals`. We recommend you start setting `weights_only=True` for any use case where you don't have full control of the loaded file. Please open an issue on GitHub for any issues related to this experimental feature.\n",
            "  checkpoint = torch.load(fp, map_location=device)\n",
            " 54%|█████▎    | 134/250 [13:02<16:54,  8.74s/it]"
          ]
        },
        {
          "output_type": "stream",
          "name": "stdout",
          "text": [
            "Transcription of 44.wav: P sägaI will never give upI will never give upI will never give upI 3P Black\n"
          ]
        },
        {
          "output_type": "stream",
          "name": "stderr",
          "text": [
            "/usr/local/lib/python3.10/dist-packages/whisper/__init__.py:150: FutureWarning: You are using `torch.load` with `weights_only=False` (the current default value), which uses the default pickle module implicitly. It is possible to construct malicious pickle data which will execute arbitrary code during unpickling (See https://github.com/pytorch/pytorch/blob/main/SECURITY.md#untrusted-models for more details). In a future release, the default value for `weights_only` will be flipped to `True`. This limits the functions that could be executed during unpickling. Arbitrary objects will no longer be allowed to be loaded via this mode unless they are explicitly allowlisted by the user via `torch.serialization.add_safe_globals`. We recommend you start setting `weights_only=True` for any use case where you don't have full control of the loaded file. Please open an issue on GitHub for any issues related to this experimental feature.\n",
            "  checkpoint = torch.load(fp, map_location=device)\n",
            " 54%|█████▍    | 135/250 [13:08<15:15,  7.96s/it]"
          ]
        },
        {
          "output_type": "stream",
          "name": "stdout",
          "text": [
            "Transcription of 248.wav:  Turn the學a bought equipment\n"
          ]
        },
        {
          "output_type": "stream",
          "name": "stderr",
          "text": [
            "/usr/local/lib/python3.10/dist-packages/whisper/__init__.py:150: FutureWarning: You are using `torch.load` with `weights_only=False` (the current default value), which uses the default pickle module implicitly. It is possible to construct malicious pickle data which will execute arbitrary code during unpickling (See https://github.com/pytorch/pytorch/blob/main/SECURITY.md#untrusted-models for more details). In a future release, the default value for `weights_only` will be flipped to `True`. This limits the functions that could be executed during unpickling. Arbitrary objects will no longer be allowed to be loaded via this mode unless they are explicitly allowlisted by the user via `torch.serialization.add_safe_globals`. We recommend you start setting `weights_only=True` for any use case where you don't have full control of the loaded file. Please open an issue on GitHub for any issues related to this experimental feature.\n",
            "  checkpoint = torch.load(fp, map_location=device)\n",
            " 54%|█████▍    | 136/250 [13:14<13:58,  7.36s/it]"
          ]
        },
        {
          "output_type": "stream",
          "name": "stdout",
          "text": [
            "Transcription of 89.wav:  Bυτka\n"
          ]
        },
        {
          "output_type": "stream",
          "name": "stderr",
          "text": [
            "/usr/local/lib/python3.10/dist-packages/whisper/__init__.py:150: FutureWarning: You are using `torch.load` with `weights_only=False` (the current default value), which uses the default pickle module implicitly. It is possible to construct malicious pickle data which will execute arbitrary code during unpickling (See https://github.com/pytorch/pytorch/blob/main/SECURITY.md#untrusted-models for more details). In a future release, the default value for `weights_only` will be flipped to `True`. This limits the functions that could be executed during unpickling. Arbitrary objects will no longer be allowed to be loaded via this mode unless they are explicitly allowlisted by the user via `torch.serialization.add_safe_globals`. We recommend you start setting `weights_only=True` for any use case where you don't have full control of the loaded file. Please open an issue on GitHub for any issues related to this experimental feature.\n",
            "  checkpoint = torch.load(fp, map_location=device)\n",
            " 55%|█████▍    | 137/250 [13:18<12:15,  6.51s/it]"
          ]
        },
        {
          "output_type": "stream",
          "name": "stdout",
          "text": [
            "Transcription of 24.wav:  Wow wonderful suggestion\n"
          ]
        },
        {
          "output_type": "stream",
          "name": "stderr",
          "text": [
            "/usr/local/lib/python3.10/dist-packages/whisper/__init__.py:150: FutureWarning: You are using `torch.load` with `weights_only=False` (the current default value), which uses the default pickle module implicitly. It is possible to construct malicious pickle data which will execute arbitrary code during unpickling (See https://github.com/pytorch/pytorch/blob/main/SECURITY.md#untrusted-models for more details). In a future release, the default value for `weights_only` will be flipped to `True`. This limits the functions that could be executed during unpickling. Arbitrary objects will no longer be allowed to be loaded via this mode unless they are explicitly allowlisted by the user via `torch.serialization.add_safe_globals`. We recommend you start setting `weights_only=True` for any use case where you don't have full control of the loaded file. Please open an issue on GitHub for any issues related to this experimental feature.\n",
            "  checkpoint = torch.load(fp, map_location=device)\n",
            " 55%|█████▌    | 138/250 [13:24<11:46,  6.31s/it]"
          ]
        },
        {
          "output_type": "stream",
          "name": "stdout",
          "text": [
            "Transcription of 246.wav:  You do not have common sense.\n"
          ]
        },
        {
          "output_type": "stream",
          "name": "stderr",
          "text": [
            "/usr/local/lib/python3.10/dist-packages/whisper/__init__.py:150: FutureWarning: You are using `torch.load` with `weights_only=False` (the current default value), which uses the default pickle module implicitly. It is possible to construct malicious pickle data which will execute arbitrary code during unpickling (See https://github.com/pytorch/pytorch/blob/main/SECURITY.md#untrusted-models for more details). In a future release, the default value for `weights_only` will be flipped to `True`. This limits the functions that could be executed during unpickling. Arbitrary objects will no longer be allowed to be loaded via this mode unless they are explicitly allowlisted by the user via `torch.serialization.add_safe_globals`. We recommend you start setting `weights_only=True` for any use case where you don't have full control of the loaded file. Please open an issue on GitHub for any issues related to this experimental feature.\n",
            "  checkpoint = torch.load(fp, map_location=device)\n",
            " 56%|█████▌    | 139/250 [13:29<10:41,  5.78s/it]"
          ]
        },
        {
          "output_type": "stream",
          "name": "stdout",
          "text": [
            "Transcription of 271.wav:  No one likes your suggestions.\n"
          ]
        },
        {
          "output_type": "stream",
          "name": "stderr",
          "text": [
            "/usr/local/lib/python3.10/dist-packages/whisper/__init__.py:150: FutureWarning: You are using `torch.load` with `weights_only=False` (the current default value), which uses the default pickle module implicitly. It is possible to construct malicious pickle data which will execute arbitrary code during unpickling (See https://github.com/pytorch/pytorch/blob/main/SECURITY.md#untrusted-models for more details). In a future release, the default value for `weights_only` will be flipped to `True`. This limits the functions that could be executed during unpickling. Arbitrary objects will no longer be allowed to be loaded via this mode unless they are explicitly allowlisted by the user via `torch.serialization.add_safe_globals`. We recommend you start setting `weights_only=True` for any use case where you don't have full control of the loaded file. Please open an issue on GitHub for any issues related to this experimental feature.\n",
            "  checkpoint = torch.load(fp, map_location=device)\n",
            " 56%|█████▌    | 140/250 [13:34<10:01,  5.47s/it]"
          ]
        },
        {
          "output_type": "stream",
          "name": "stdout",
          "text": [
            "Transcription of 55.wav:  Everyone likes to take your opinion.\n"
          ]
        },
        {
          "output_type": "stream",
          "name": "stderr",
          "text": [
            "/usr/local/lib/python3.10/dist-packages/whisper/__init__.py:150: FutureWarning: You are using `torch.load` with `weights_only=False` (the current default value), which uses the default pickle module implicitly. It is possible to construct malicious pickle data which will execute arbitrary code during unpickling (See https://github.com/pytorch/pytorch/blob/main/SECURITY.md#untrusted-models for more details). In a future release, the default value for `weights_only` will be flipped to `True`. This limits the functions that could be executed during unpickling. Arbitrary objects will no longer be allowed to be loaded via this mode unless they are explicitly allowlisted by the user via `torch.serialization.add_safe_globals`. We recommend you start setting `weights_only=True` for any use case where you don't have full control of the loaded file. Please open an issue on GitHub for any issues related to this experimental feature.\n",
            "  checkpoint = torch.load(fp, map_location=device)\n",
            " 56%|█████▋    | 141/250 [13:40<10:19,  5.68s/it]"
          ]
        },
        {
          "output_type": "stream",
          "name": "stdout",
          "text": [
            "Transcription of 272.wav:  No one likes your solutions\n"
          ]
        },
        {
          "output_type": "stream",
          "name": "stderr",
          "text": [
            "/usr/local/lib/python3.10/dist-packages/whisper/__init__.py:150: FutureWarning: You are using `torch.load` with `weights_only=False` (the current default value), which uses the default pickle module implicitly. It is possible to construct malicious pickle data which will execute arbitrary code during unpickling (See https://github.com/pytorch/pytorch/blob/main/SECURITY.md#untrusted-models for more details). In a future release, the default value for `weights_only` will be flipped to `True`. This limits the functions that could be executed during unpickling. Arbitrary objects will no longer be allowed to be loaded via this mode unless they are explicitly allowlisted by the user via `torch.serialization.add_safe_globals`. We recommend you start setting `weights_only=True` for any use case where you don't have full control of the loaded file. Please open an issue on GitHub for any issues related to this experimental feature.\n",
            "  checkpoint = torch.load(fp, map_location=device)\n",
            " 57%|█████▋    | 142/250 [14:00<18:07, 10.07s/it]"
          ]
        },
        {
          "output_type": "stream",
          "name": "stdout",
          "text": [
            "Transcription of 333.wav:  �� अasty치ukt Chicken Chicken Potato Potato Potato Chicken\n"
          ]
        },
        {
          "output_type": "stream",
          "name": "stderr",
          "text": [
            "/usr/local/lib/python3.10/dist-packages/whisper/__init__.py:150: FutureWarning: You are using `torch.load` with `weights_only=False` (the current default value), which uses the default pickle module implicitly. It is possible to construct malicious pickle data which will execute arbitrary code during unpickling (See https://github.com/pytorch/pytorch/blob/main/SECURITY.md#untrusted-models for more details). In a future release, the default value for `weights_only` will be flipped to `True`. This limits the functions that could be executed during unpickling. Arbitrary objects will no longer be allowed to be loaded via this mode unless they are explicitly allowlisted by the user via `torch.serialization.add_safe_globals`. We recommend you start setting `weights_only=True` for any use case where you don't have full control of the loaded file. Please open an issue on GitHub for any issues related to this experimental feature.\n",
            "  checkpoint = torch.load(fp, map_location=device)\n",
            " 57%|█████▋    | 143/250 [14:06<15:43,  8.82s/it]"
          ]
        },
        {
          "output_type": "stream",
          "name": "stdout",
          "text": [
            "Transcription of 46.wav:  நீங்கள் மிகவும் நிறுவனம் விடும்புகிறாய்.\n"
          ]
        },
        {
          "output_type": "stream",
          "name": "stderr",
          "text": [
            "/usr/local/lib/python3.10/dist-packages/whisper/__init__.py:150: FutureWarning: You are using `torch.load` with `weights_only=False` (the current default value), which uses the default pickle module implicitly. It is possible to construct malicious pickle data which will execute arbitrary code during unpickling (See https://github.com/pytorch/pytorch/blob/main/SECURITY.md#untrusted-models for more details). In a future release, the default value for `weights_only` will be flipped to `True`. This limits the functions that could be executed during unpickling. Arbitrary objects will no longer be allowed to be loaded via this mode unless they are explicitly allowlisted by the user via `torch.serialization.add_safe_globals`. We recommend you start setting `weights_only=True` for any use case where you don't have full control of the loaded file. Please open an issue on GitHub for any issues related to this experimental feature.\n",
            "  checkpoint = torch.load(fp, map_location=device)\n",
            " 58%|█████▊    | 144/250 [14:11<13:19,  7.55s/it]"
          ]
        },
        {
          "output_type": "stream",
          "name": "stdout",
          "text": [
            "Transcription of 151.wav:  Please try to concentrate more.\n"
          ]
        },
        {
          "output_type": "stream",
          "name": "stderr",
          "text": [
            "/usr/local/lib/python3.10/dist-packages/whisper/__init__.py:150: FutureWarning: You are using `torch.load` with `weights_only=False` (the current default value), which uses the default pickle module implicitly. It is possible to construct malicious pickle data which will execute arbitrary code during unpickling (See https://github.com/pytorch/pytorch/blob/main/SECURITY.md#untrusted-models for more details). In a future release, the default value for `weights_only` will be flipped to `True`. This limits the functions that could be executed during unpickling. Arbitrary objects will no longer be allowed to be loaded via this mode unless they are explicitly allowlisted by the user via `torch.serialization.add_safe_globals`. We recommend you start setting `weights_only=True` for any use case where you don't have full control of the loaded file. Please open an issue on GitHub for any issues related to this experimental feature.\n",
            "  checkpoint = torch.load(fp, map_location=device)\n",
            " 58%|█████▊    | 145/250 [14:16<12:19,  7.05s/it]"
          ]
        },
        {
          "output_type": "stream",
          "name": "stdout",
          "text": [
            "Transcription of 133.wav:  You are more likely to be selected.\n"
          ]
        },
        {
          "output_type": "stream",
          "name": "stderr",
          "text": [
            "/usr/local/lib/python3.10/dist-packages/whisper/__init__.py:150: FutureWarning: You are using `torch.load` with `weights_only=False` (the current default value), which uses the default pickle module implicitly. It is possible to construct malicious pickle data which will execute arbitrary code during unpickling (See https://github.com/pytorch/pytorch/blob/main/SECURITY.md#untrusted-models for more details). In a future release, the default value for `weights_only` will be flipped to `True`. This limits the functions that could be executed during unpickling. Arbitrary objects will no longer be allowed to be loaded via this mode unless they are explicitly allowlisted by the user via `torch.serialization.add_safe_globals`. We recommend you start setting `weights_only=True` for any use case where you don't have full control of the loaded file. Please open an issue on GitHub for any issues related to this experimental feature.\n",
            "  checkpoint = torch.load(fp, map_location=device)\n",
            " 58%|█████▊    | 146/250 [14:21<10:54,  6.29s/it]"
          ]
        },
        {
          "output_type": "stream",
          "name": "stdout",
          "text": [
            "Transcription of 150.wav:  You should be more punctual.\n"
          ]
        },
        {
          "output_type": "stream",
          "name": "stderr",
          "text": [
            "/usr/local/lib/python3.10/dist-packages/whisper/__init__.py:150: FutureWarning: You are using `torch.load` with `weights_only=False` (the current default value), which uses the default pickle module implicitly. It is possible to construct malicious pickle data which will execute arbitrary code during unpickling (See https://github.com/pytorch/pytorch/blob/main/SECURITY.md#untrusted-models for more details). In a future release, the default value for `weights_only` will be flipped to `True`. This limits the functions that could be executed during unpickling. Arbitrary objects will no longer be allowed to be loaded via this mode unless they are explicitly allowlisted by the user via `torch.serialization.add_safe_globals`. We recommend you start setting `weights_only=True` for any use case where you don't have full control of the loaded file. Please open an issue on GitHub for any issues related to this experimental feature.\n",
            "  checkpoint = torch.load(fp, map_location=device)\n",
            " 59%|█████▉    | 147/250 [14:26<10:18,  6.00s/it]"
          ]
        },
        {
          "output_type": "stream",
          "name": "stdout",
          "text": [
            "Transcription of 48.wav:  நீங்கள் மிகவும் நிறுவனம் சிறிதுக்கொண்டு இருக்கிறாய்.\n"
          ]
        },
        {
          "output_type": "stream",
          "name": "stderr",
          "text": [
            "/usr/local/lib/python3.10/dist-packages/whisper/__init__.py:150: FutureWarning: You are using `torch.load` with `weights_only=False` (the current default value), which uses the default pickle module implicitly. It is possible to construct malicious pickle data which will execute arbitrary code during unpickling (See https://github.com/pytorch/pytorch/blob/main/SECURITY.md#untrusted-models for more details). In a future release, the default value for `weights_only` will be flipped to `True`. This limits the functions that could be executed during unpickling. Arbitrary objects will no longer be allowed to be loaded via this mode unless they are explicitly allowlisted by the user via `torch.serialization.add_safe_globals`. We recommend you start setting `weights_only=True` for any use case where you don't have full control of the loaded file. Please open an issue on GitHub for any issues related to this experimental feature.\n",
            "  checkpoint = torch.load(fp, map_location=device)\n",
            " 59%|█████▉    | 148/250 [14:32<10:02,  5.91s/it]"
          ]
        },
        {
          "output_type": "stream",
          "name": "stdout",
          "text": [
            "Transcription of 83.wav:  You are a very caring person.\n"
          ]
        },
        {
          "output_type": "stream",
          "name": "stderr",
          "text": [
            "/usr/local/lib/python3.10/dist-packages/whisper/__init__.py:150: FutureWarning: You are using `torch.load` with `weights_only=False` (the current default value), which uses the default pickle module implicitly. It is possible to construct malicious pickle data which will execute arbitrary code during unpickling (See https://github.com/pytorch/pytorch/blob/main/SECURITY.md#untrusted-models for more details). In a future release, the default value for `weights_only` will be flipped to `True`. This limits the functions that could be executed during unpickling. Arbitrary objects will no longer be allowed to be loaded via this mode unless they are explicitly allowlisted by the user via `torch.serialization.add_safe_globals`. We recommend you start setting `weights_only=True` for any use case where you don't have full control of the loaded file. Please open an issue on GitHub for any issues related to this experimental feature.\n",
            "  checkpoint = torch.load(fp, map_location=device)\n",
            " 60%|█████▉    | 149/250 [14:37<09:15,  5.50s/it]"
          ]
        },
        {
          "output_type": "stream",
          "name": "stdout",
          "text": [
            "Transcription of 40.wav:  a great thanks for your support\n"
          ]
        },
        {
          "output_type": "stream",
          "name": "stderr",
          "text": [
            "/usr/local/lib/python3.10/dist-packages/whisper/__init__.py:150: FutureWarning: You are using `torch.load` with `weights_only=False` (the current default value), which uses the default pickle module implicitly. It is possible to construct malicious pickle data which will execute arbitrary code during unpickling (See https://github.com/pytorch/pytorch/blob/main/SECURITY.md#untrusted-models for more details). In a future release, the default value for `weights_only` will be flipped to `True`. This limits the functions that could be executed during unpickling. Arbitrary objects will no longer be allowed to be loaded via this mode unless they are explicitly allowlisted by the user via `torch.serialization.add_safe_globals`. We recommend you start setting `weights_only=True` for any use case where you don't have full control of the loaded file. Please open an issue on GitHub for any issues related to this experimental feature.\n",
            "  checkpoint = torch.load(fp, map_location=device)\n",
            " 60%|██████    | 150/250 [14:42<09:09,  5.49s/it]"
          ]
        },
        {
          "output_type": "stream",
          "name": "stdout",
          "text": [
            "Transcription of 318.wav:  I never trust you.\n"
          ]
        },
        {
          "output_type": "stream",
          "name": "stderr",
          "text": [
            "/usr/local/lib/python3.10/dist-packages/whisper/__init__.py:150: FutureWarning: You are using `torch.load` with `weights_only=False` (the current default value), which uses the default pickle module implicitly. It is possible to construct malicious pickle data which will execute arbitrary code during unpickling (See https://github.com/pytorch/pytorch/blob/main/SECURITY.md#untrusted-models for more details). In a future release, the default value for `weights_only` will be flipped to `True`. This limits the functions that could be executed during unpickling. Arbitrary objects will no longer be allowed to be loaded via this mode unless they are explicitly allowlisted by the user via `torch.serialization.add_safe_globals`. We recommend you start setting `weights_only=True` for any use case where you don't have full control of the loaded file. Please open an issue on GitHub for any issues related to this experimental feature.\n",
            "  checkpoint = torch.load(fp, map_location=device)\n",
            " 60%|██████    | 151/250 [14:47<08:36,  5.22s/it]"
          ]
        },
        {
          "output_type": "stream",
          "name": "stdout",
          "text": [
            "Transcription of 316.wav:  I never trust you.\n"
          ]
        },
        {
          "output_type": "stream",
          "name": "stderr",
          "text": [
            "/usr/local/lib/python3.10/dist-packages/whisper/__init__.py:150: FutureWarning: You are using `torch.load` with `weights_only=False` (the current default value), which uses the default pickle module implicitly. It is possible to construct malicious pickle data which will execute arbitrary code during unpickling (See https://github.com/pytorch/pytorch/blob/main/SECURITY.md#untrusted-models for more details). In a future release, the default value for `weights_only` will be flipped to `True`. This limits the functions that could be executed during unpickling. Arbitrary objects will no longer be allowed to be loaded via this mode unless they are explicitly allowlisted by the user via `torch.serialization.add_safe_globals`. We recommend you start setting `weights_only=True` for any use case where you don't have full control of the loaded file. Please open an issue on GitHub for any issues related to this experimental feature.\n",
            "  checkpoint = torch.load(fp, map_location=device)\n",
            " 61%|██████    | 152/250 [14:51<08:12,  5.03s/it]"
          ]
        },
        {
          "output_type": "stream",
          "name": "stdout",
          "text": [
            "Transcription of 103.wav:  You are a really humble person.\n"
          ]
        },
        {
          "output_type": "stream",
          "name": "stderr",
          "text": [
            "/usr/local/lib/python3.10/dist-packages/whisper/__init__.py:150: FutureWarning: You are using `torch.load` with `weights_only=False` (the current default value), which uses the default pickle module implicitly. It is possible to construct malicious pickle data which will execute arbitrary code during unpickling (See https://github.com/pytorch/pytorch/blob/main/SECURITY.md#untrusted-models for more details). In a future release, the default value for `weights_only` will be flipped to `True`. This limits the functions that could be executed during unpickling. Arbitrary objects will no longer be allowed to be loaded via this mode unless they are explicitly allowlisted by the user via `torch.serialization.add_safe_globals`. We recommend you start setting `weights_only=True` for any use case where you don't have full control of the loaded file. Please open an issue on GitHub for any issues related to this experimental feature.\n",
            "  checkpoint = torch.load(fp, map_location=device)\n",
            " 61%|██████    | 153/250 [14:58<08:57,  5.54s/it]"
          ]
        },
        {
          "output_type": "stream",
          "name": "stdout",
          "text": [
            "Transcription of 251.wav:  BOOM!\n"
          ]
        },
        {
          "output_type": "stream",
          "name": "stderr",
          "text": [
            "/usr/local/lib/python3.10/dist-packages/whisper/__init__.py:150: FutureWarning: You are using `torch.load` with `weights_only=False` (the current default value), which uses the default pickle module implicitly. It is possible to construct malicious pickle data which will execute arbitrary code during unpickling (See https://github.com/pytorch/pytorch/blob/main/SECURITY.md#untrusted-models for more details). In a future release, the default value for `weights_only` will be flipped to `True`. This limits the functions that could be executed during unpickling. Arbitrary objects will no longer be allowed to be loaded via this mode unless they are explicitly allowlisted by the user via `torch.serialization.add_safe_globals`. We recommend you start setting `weights_only=True` for any use case where you don't have full control of the loaded file. Please open an issue on GitHub for any issues related to this experimental feature.\n",
            "  checkpoint = torch.load(fp, map_location=device)\n",
            " 62%|██████▏   | 154/250 [15:02<08:23,  5.24s/it]"
          ]
        },
        {
          "output_type": "stream",
          "name": "stdout",
          "text": [
            "Transcription of 342.wav:  You have taken wrong decision.\n"
          ]
        },
        {
          "output_type": "stream",
          "name": "stderr",
          "text": [
            "/usr/local/lib/python3.10/dist-packages/whisper/__init__.py:150: FutureWarning: You are using `torch.load` with `weights_only=False` (the current default value), which uses the default pickle module implicitly. It is possible to construct malicious pickle data which will execute arbitrary code during unpickling (See https://github.com/pytorch/pytorch/blob/main/SECURITY.md#untrusted-models for more details). In a future release, the default value for `weights_only` will be flipped to `True`. This limits the functions that could be executed during unpickling. Arbitrary objects will no longer be allowed to be loaded via this mode unless they are explicitly allowlisted by the user via `torch.serialization.add_safe_globals`. We recommend you start setting `weights_only=True` for any use case where you don't have full control of the loaded file. Please open an issue on GitHub for any issues related to this experimental feature.\n",
            "  checkpoint = torch.load(fp, map_location=device)\n",
            " 62%|██████▏   | 155/250 [15:08<08:15,  5.21s/it]"
          ]
        },
        {
          "output_type": "stream",
          "name": "stdout",
          "text": [
            "Transcription of 105.wav:  You are a really humble person.\n"
          ]
        },
        {
          "output_type": "stream",
          "name": "stderr",
          "text": [
            "/usr/local/lib/python3.10/dist-packages/whisper/__init__.py:150: FutureWarning: You are using `torch.load` with `weights_only=False` (the current default value), which uses the default pickle module implicitly. It is possible to construct malicious pickle data which will execute arbitrary code during unpickling (See https://github.com/pytorch/pytorch/blob/main/SECURITY.md#untrusted-models for more details). In a future release, the default value for `weights_only` will be flipped to `True`. This limits the functions that could be executed during unpickling. Arbitrary objects will no longer be allowed to be loaded via this mode unless they are explicitly allowlisted by the user via `torch.serialization.add_safe_globals`. We recommend you start setting `weights_only=True` for any use case where you don't have full control of the loaded file. Please open an issue on GitHub for any issues related to this experimental feature.\n",
            "  checkpoint = torch.load(fp, map_location=device)\n",
            " 62%|██████▏   | 156/250 [15:13<08:06,  5.17s/it]"
          ]
        },
        {
          "output_type": "stream",
          "name": "stdout",
          "text": [
            "Transcription of 49.wav:  You are an idol for many people.\n"
          ]
        },
        {
          "output_type": "stream",
          "name": "stderr",
          "text": [
            "/usr/local/lib/python3.10/dist-packages/whisper/__init__.py:150: FutureWarning: You are using `torch.load` with `weights_only=False` (the current default value), which uses the default pickle module implicitly. It is possible to construct malicious pickle data which will execute arbitrary code during unpickling (See https://github.com/pytorch/pytorch/blob/main/SECURITY.md#untrusted-models for more details). In a future release, the default value for `weights_only` will be flipped to `True`. This limits the functions that could be executed during unpickling. Arbitrary objects will no longer be allowed to be loaded via this mode unless they are explicitly allowlisted by the user via `torch.serialization.add_safe_globals`. We recommend you start setting `weights_only=True` for any use case where you don't have full control of the loaded file. Please open an issue on GitHub for any issues related to this experimental feature.\n",
            "  checkpoint = torch.load(fp, map_location=device)\n",
            " 63%|██████▎   | 157/250 [15:17<07:43,  4.98s/it]"
          ]
        },
        {
          "output_type": "stream",
          "name": "stdout",
          "text": [
            "Transcription of 99.wav:  You have a great choice.\n"
          ]
        },
        {
          "output_type": "stream",
          "name": "stderr",
          "text": [
            "/usr/local/lib/python3.10/dist-packages/whisper/__init__.py:150: FutureWarning: You are using `torch.load` with `weights_only=False` (the current default value), which uses the default pickle module implicitly. It is possible to construct malicious pickle data which will execute arbitrary code during unpickling (See https://github.com/pytorch/pytorch/blob/main/SECURITY.md#untrusted-models for more details). In a future release, the default value for `weights_only` will be flipped to `True`. This limits the functions that could be executed during unpickling. Arbitrary objects will no longer be allowed to be loaded via this mode unless they are explicitly allowlisted by the user via `torch.serialization.add_safe_globals`. We recommend you start setting `weights_only=True` for any use case where you don't have full control of the loaded file. Please open an issue on GitHub for any issues related to this experimental feature.\n",
            "  checkpoint = torch.load(fp, map_location=device)\n",
            " 63%|██████▎   | 158/250 [15:24<08:25,  5.49s/it]"
          ]
        },
        {
          "output_type": "stream",
          "name": "stdout",
          "text": [
            "Transcription of 107.wav:  We have Даже\n"
          ]
        },
        {
          "output_type": "stream",
          "name": "stderr",
          "text": [
            "/usr/local/lib/python3.10/dist-packages/whisper/__init__.py:150: FutureWarning: You are using `torch.load` with `weights_only=False` (the current default value), which uses the default pickle module implicitly. It is possible to construct malicious pickle data which will execute arbitrary code during unpickling (See https://github.com/pytorch/pytorch/blob/main/SECURITY.md#untrusted-models for more details). In a future release, the default value for `weights_only` will be flipped to `True`. This limits the functions that could be executed during unpickling. Arbitrary objects will no longer be allowed to be loaded via this mode unless they are explicitly allowlisted by the user via `torch.serialization.add_safe_globals`. We recommend you start setting `weights_only=True` for any use case where you don't have full control of the loaded file. Please open an issue on GitHub for any issues related to this experimental feature.\n",
            "  checkpoint = torch.load(fp, map_location=device)\n",
            " 64%|██████▎   | 159/250 [15:28<07:56,  5.23s/it]"
          ]
        },
        {
          "output_type": "stream",
          "name": "stdout",
          "text": [
            "Transcription of 208.wav:  You need to work more on it.\n"
          ]
        },
        {
          "output_type": "stream",
          "name": "stderr",
          "text": [
            "/usr/local/lib/python3.10/dist-packages/whisper/__init__.py:150: FutureWarning: You are using `torch.load` with `weights_only=False` (the current default value), which uses the default pickle module implicitly. It is possible to construct malicious pickle data which will execute arbitrary code during unpickling (See https://github.com/pytorch/pytorch/blob/main/SECURITY.md#untrusted-models for more details). In a future release, the default value for `weights_only` will be flipped to `True`. This limits the functions that could be executed during unpickling. Arbitrary objects will no longer be allowed to be loaded via this mode unless they are explicitly allowlisted by the user via `torch.serialization.add_safe_globals`. We recommend you start setting `weights_only=True` for any use case where you don't have full control of the loaded file. Please open an issue on GitHub for any issues related to this experimental feature.\n",
            "  checkpoint = torch.load(fp, map_location=device)\n",
            " 64%|██████▍   | 160/250 [15:34<07:47,  5.20s/it]"
          ]
        },
        {
          "output_type": "stream",
          "name": "stdout",
          "text": [
            "Transcription of 85.wav:  वाँ सच्चे गरेत अईटिया\n"
          ]
        },
        {
          "output_type": "stream",
          "name": "stderr",
          "text": [
            "/usr/local/lib/python3.10/dist-packages/whisper/__init__.py:150: FutureWarning: You are using `torch.load` with `weights_only=False` (the current default value), which uses the default pickle module implicitly. It is possible to construct malicious pickle data which will execute arbitrary code during unpickling (See https://github.com/pytorch/pytorch/blob/main/SECURITY.md#untrusted-models for more details). In a future release, the default value for `weights_only` will be flipped to `True`. This limits the functions that could be executed during unpickling. Arbitrary objects will no longer be allowed to be loaded via this mode unless they are explicitly allowlisted by the user via `torch.serialization.add_safe_globals`. We recommend you start setting `weights_only=True` for any use case where you don't have full control of the loaded file. Please open an issue on GitHub for any issues related to this experimental feature.\n",
            "  checkpoint = torch.load(fp, map_location=device)\n",
            " 64%|██████▍   | 161/250 [15:39<07:46,  5.25s/it]"
          ]
        },
        {
          "output_type": "stream",
          "name": "stdout",
          "text": [
            "Transcription of 181.wav:  You should be more loyal.\n"
          ]
        },
        {
          "output_type": "stream",
          "name": "stderr",
          "text": [
            "/usr/local/lib/python3.10/dist-packages/whisper/__init__.py:150: FutureWarning: You are using `torch.load` with `weights_only=False` (the current default value), which uses the default pickle module implicitly. It is possible to construct malicious pickle data which will execute arbitrary code during unpickling (See https://github.com/pytorch/pytorch/blob/main/SECURITY.md#untrusted-models for more details). In a future release, the default value for `weights_only` will be flipped to `True`. This limits the functions that could be executed during unpickling. Arbitrary objects will no longer be allowed to be loaded via this mode unless they are explicitly allowlisted by the user via `torch.serialization.add_safe_globals`. We recommend you start setting `weights_only=True` for any use case where you don't have full control of the loaded file. Please open an issue on GitHub for any issues related to this experimental feature.\n",
            "  checkpoint = torch.load(fp, map_location=device)\n",
            " 65%|██████▍   | 162/250 [15:44<07:48,  5.32s/it]"
          ]
        },
        {
          "output_type": "stream",
          "name": "stdout",
          "text": [
            "Transcription of 350.wav:  referendum en sケ\n"
          ]
        },
        {
          "output_type": "stream",
          "name": "stderr",
          "text": [
            "/usr/local/lib/python3.10/dist-packages/whisper/__init__.py:150: FutureWarning: You are using `torch.load` with `weights_only=False` (the current default value), which uses the default pickle module implicitly. It is possible to construct malicious pickle data which will execute arbitrary code during unpickling (See https://github.com/pytorch/pytorch/blob/main/SECURITY.md#untrusted-models for more details). In a future release, the default value for `weights_only` will be flipped to `True`. This limits the functions that could be executed during unpickling. Arbitrary objects will no longer be allowed to be loaded via this mode unless they are explicitly allowlisted by the user via `torch.serialization.add_safe_globals`. We recommend you start setting `weights_only=True` for any use case where you don't have full control of the loaded file. Please open an issue on GitHub for any issues related to this experimental feature.\n",
            "  checkpoint = torch.load(fp, map_location=device)\n",
            " 65%|██████▌   | 163/250 [15:59<11:39,  8.04s/it]"
          ]
        },
        {
          "output_type": "stream",
          "name": "stdout",
          "text": [
            "Transcription of 155.wav:  you're und้ ora gustado لو belki means no spring machine\n"
          ]
        },
        {
          "output_type": "stream",
          "name": "stderr",
          "text": [
            "/usr/local/lib/python3.10/dist-packages/whisper/__init__.py:150: FutureWarning: You are using `torch.load` with `weights_only=False` (the current default value), which uses the default pickle module implicitly. It is possible to construct malicious pickle data which will execute arbitrary code during unpickling (See https://github.com/pytorch/pytorch/blob/main/SECURITY.md#untrusted-models for more details). In a future release, the default value for `weights_only` will be flipped to `True`. This limits the functions that could be executed during unpickling. Arbitrary objects will no longer be allowed to be loaded via this mode unless they are explicitly allowlisted by the user via `torch.serialization.add_safe_globals`. We recommend you start setting `weights_only=True` for any use case where you don't have full control of the loaded file. Please open an issue on GitHub for any issues related to this experimental feature.\n",
            "  checkpoint = torch.load(fp, map_location=device)\n",
            " 66%|██████▌   | 164/250 [16:05<10:52,  7.59s/it]"
          ]
        },
        {
          "output_type": "stream",
          "name": "stdout",
          "text": [
            "Transcription of 269.wav:  Night Togetherxic\n"
          ]
        },
        {
          "output_type": "stream",
          "name": "stderr",
          "text": [
            "/usr/local/lib/python3.10/dist-packages/whisper/__init__.py:150: FutureWarning: You are using `torch.load` with `weights_only=False` (the current default value), which uses the default pickle module implicitly. It is possible to construct malicious pickle data which will execute arbitrary code during unpickling (See https://github.com/pytorch/pytorch/blob/main/SECURITY.md#untrusted-models for more details). In a future release, the default value for `weights_only` will be flipped to `True`. This limits the functions that could be executed during unpickling. Arbitrary objects will no longer be allowed to be loaded via this mode unless they are explicitly allowlisted by the user via `torch.serialization.add_safe_globals`. We recommend you start setting `weights_only=True` for any use case where you don't have full control of the loaded file. Please open an issue on GitHub for any issues related to this experimental feature.\n",
            "  checkpoint = torch.load(fp, map_location=device)\n",
            " 66%|██████▌   | 165/250 [16:10<09:28,  6.69s/it]"
          ]
        },
        {
          "output_type": "stream",
          "name": "stdout",
          "text": [
            "Transcription of 53.wav:  СПОКОЙНАЯ МУЗЫКА\n"
          ]
        },
        {
          "output_type": "stream",
          "name": "stderr",
          "text": [
            "/usr/local/lib/python3.10/dist-packages/whisper/__init__.py:150: FutureWarning: You are using `torch.load` with `weights_only=False` (the current default value), which uses the default pickle module implicitly. It is possible to construct malicious pickle data which will execute arbitrary code during unpickling (See https://github.com/pytorch/pytorch/blob/main/SECURITY.md#untrusted-models for more details). In a future release, the default value for `weights_only` will be flipped to `True`. This limits the functions that could be executed during unpickling. Arbitrary objects will no longer be allowed to be loaded via this mode unless they are explicitly allowlisted by the user via `torch.serialization.add_safe_globals`. We recommend you start setting `weights_only=True` for any use case where you don't have full control of the loaded file. Please open an issue on GitHub for any issues related to this experimental feature.\n",
            "  checkpoint = torch.load(fp, map_location=device)\n",
            " 66%|██████▋   | 166/250 [16:16<08:54,  6.36s/it]"
          ]
        },
        {
          "output_type": "stream",
          "name": "stdout",
          "text": [
            "Transcription of 288.wav:  No one likes you.\n"
          ]
        },
        {
          "output_type": "stream",
          "name": "stderr",
          "text": [
            "/usr/local/lib/python3.10/dist-packages/whisper/__init__.py:150: FutureWarning: You are using `torch.load` with `weights_only=False` (the current default value), which uses the default pickle module implicitly. It is possible to construct malicious pickle data which will execute arbitrary code during unpickling (See https://github.com/pytorch/pytorch/blob/main/SECURITY.md#untrusted-models for more details). In a future release, the default value for `weights_only` will be flipped to `True`. This limits the functions that could be executed during unpickling. Arbitrary objects will no longer be allowed to be loaded via this mode unless they are explicitly allowlisted by the user via `torch.serialization.add_safe_globals`. We recommend you start setting `weights_only=True` for any use case where you don't have full control of the loaded file. Please open an issue on GitHub for any issues related to this experimental feature.\n",
            "  checkpoint = torch.load(fp, map_location=device)\n",
            " 67%|██████▋   | 167/250 [16:21<08:33,  6.19s/it]"
          ]
        },
        {
          "output_type": "stream",
          "name": "stdout",
          "text": [
            "Transcription of 245.wav:  \"...ilo, do not have supp loh merph.\n"
          ]
        },
        {
          "output_type": "stream",
          "name": "stderr",
          "text": [
            "/usr/local/lib/python3.10/dist-packages/whisper/__init__.py:150: FutureWarning: You are using `torch.load` with `weights_only=False` (the current default value), which uses the default pickle module implicitly. It is possible to construct malicious pickle data which will execute arbitrary code during unpickling (See https://github.com/pytorch/pytorch/blob/main/SECURITY.md#untrusted-models for more details). In a future release, the default value for `weights_only` will be flipped to `True`. This limits the functions that could be executed during unpickling. Arbitrary objects will no longer be allowed to be loaded via this mode unless they are explicitly allowlisted by the user via `torch.serialization.add_safe_globals`. We recommend you start setting `weights_only=True` for any use case where you don't have full control of the loaded file. Please open an issue on GitHub for any issues related to this experimental feature.\n",
            "  checkpoint = torch.load(fp, map_location=device)\n",
            " 67%|██████▋   | 168/250 [16:26<07:53,  5.78s/it]"
          ]
        },
        {
          "output_type": "stream",
          "name": "stdout",
          "text": [
            "Transcription of 177.wav:  If you try to improve you could be a good leader.\n"
          ]
        },
        {
          "output_type": "stream",
          "name": "stderr",
          "text": [
            "/usr/local/lib/python3.10/dist-packages/whisper/__init__.py:150: FutureWarning: You are using `torch.load` with `weights_only=False` (the current default value), which uses the default pickle module implicitly. It is possible to construct malicious pickle data which will execute arbitrary code during unpickling (See https://github.com/pytorch/pytorch/blob/main/SECURITY.md#untrusted-models for more details). In a future release, the default value for `weights_only` will be flipped to `True`. This limits the functions that could be executed during unpickling. Arbitrary objects will no longer be allowed to be loaded via this mode unless they are explicitly allowlisted by the user via `torch.serialization.add_safe_globals`. We recommend you start setting `weights_only=True` for any use case where you don't have full control of the loaded file. Please open an issue on GitHub for any issues related to this experimental feature.\n",
            "  checkpoint = torch.load(fp, map_location=device)\n",
            " 68%|██████▊   | 169/250 [16:32<07:38,  5.66s/it]"
          ]
        },
        {
          "output_type": "stream",
          "name": "stdout",
          "text": [
            "Transcription of 102.wav:  You are my idol.\n"
          ]
        },
        {
          "output_type": "stream",
          "name": "stderr",
          "text": [
            "/usr/local/lib/python3.10/dist-packages/whisper/__init__.py:150: FutureWarning: You are using `torch.load` with `weights_only=False` (the current default value), which uses the default pickle module implicitly. It is possible to construct malicious pickle data which will execute arbitrary code during unpickling (See https://github.com/pytorch/pytorch/blob/main/SECURITY.md#untrusted-models for more details). In a future release, the default value for `weights_only` will be flipped to `True`. This limits the functions that could be executed during unpickling. Arbitrary objects will no longer be allowed to be loaded via this mode unless they are explicitly allowlisted by the user via `torch.serialization.add_safe_globals`. We recommend you start setting `weights_only=True` for any use case where you don't have full control of the loaded file. Please open an issue on GitHub for any issues related to this experimental feature.\n",
            "  checkpoint = torch.load(fp, map_location=device)\n",
            " 68%|██████▊   | 170/250 [16:36<07:06,  5.34s/it]"
          ]
        },
        {
          "output_type": "stream",
          "name": "stdout",
          "text": [
            "Transcription of 184.wav:  You should try to be more regular.\n"
          ]
        },
        {
          "output_type": "stream",
          "name": "stderr",
          "text": [
            "/usr/local/lib/python3.10/dist-packages/whisper/__init__.py:150: FutureWarning: You are using `torch.load` with `weights_only=False` (the current default value), which uses the default pickle module implicitly. It is possible to construct malicious pickle data which will execute arbitrary code during unpickling (See https://github.com/pytorch/pytorch/blob/main/SECURITY.md#untrusted-models for more details). In a future release, the default value for `weights_only` will be flipped to `True`. This limits the functions that could be executed during unpickling. Arbitrary objects will no longer be allowed to be loaded via this mode unless they are explicitly allowlisted by the user via `torch.serialization.add_safe_globals`. We recommend you start setting `weights_only=True` for any use case where you don't have full control of the loaded file. Please open an issue on GitHub for any issues related to this experimental feature.\n",
            "  checkpoint = torch.load(fp, map_location=device)\n",
            " 68%|██████▊   | 171/250 [16:42<07:11,  5.46s/it]"
          ]
        },
        {
          "output_type": "stream",
          "name": "stdout",
          "text": [
            "Transcription of 223.wav:  your voice was good but it could have lower pitch\n"
          ]
        },
        {
          "output_type": "stream",
          "name": "stderr",
          "text": [
            "/usr/local/lib/python3.10/dist-packages/whisper/__init__.py:150: FutureWarning: You are using `torch.load` with `weights_only=False` (the current default value), which uses the default pickle module implicitly. It is possible to construct malicious pickle data which will execute arbitrary code during unpickling (See https://github.com/pytorch/pytorch/blob/main/SECURITY.md#untrusted-models for more details). In a future release, the default value for `weights_only` will be flipped to `True`. This limits the functions that could be executed during unpickling. Arbitrary objects will no longer be allowed to be loaded via this mode unless they are explicitly allowlisted by the user via `torch.serialization.add_safe_globals`. We recommend you start setting `weights_only=True` for any use case where you don't have full control of the loaded file. Please open an issue on GitHub for any issues related to this experimental feature.\n",
            "  checkpoint = torch.load(fp, map_location=device)\n",
            " 69%|██████▉   | 172/250 [16:46<06:44,  5.18s/it]"
          ]
        },
        {
          "output_type": "stream",
          "name": "stdout",
          "text": [
            "Transcription of 169.wav:  There has neither been gain nor loss.\n"
          ]
        },
        {
          "output_type": "stream",
          "name": "stderr",
          "text": [
            "/usr/local/lib/python3.10/dist-packages/whisper/__init__.py:150: FutureWarning: You are using `torch.load` with `weights_only=False` (the current default value), which uses the default pickle module implicitly. It is possible to construct malicious pickle data which will execute arbitrary code during unpickling (See https://github.com/pytorch/pytorch/blob/main/SECURITY.md#untrusted-models for more details). In a future release, the default value for `weights_only` will be flipped to `True`. This limits the functions that could be executed during unpickling. Arbitrary objects will no longer be allowed to be loaded via this mode unless they are explicitly allowlisted by the user via `torch.serialization.add_safe_globals`. We recommend you start setting `weights_only=True` for any use case where you don't have full control of the loaded file. Please open an issue on GitHub for any issues related to this experimental feature.\n",
            "  checkpoint = torch.load(fp, map_location=device)\n",
            " 69%|██████▉   | 173/250 [16:51<06:24,  4.99s/it]"
          ]
        },
        {
          "output_type": "stream",
          "name": "stdout",
          "text": [
            "Transcription of 6.wav:  You have a great piece.\n"
          ]
        },
        {
          "output_type": "stream",
          "name": "stderr",
          "text": [
            "/usr/local/lib/python3.10/dist-packages/whisper/__init__.py:150: FutureWarning: You are using `torch.load` with `weights_only=False` (the current default value), which uses the default pickle module implicitly. It is possible to construct malicious pickle data which will execute arbitrary code during unpickling (See https://github.com/pytorch/pytorch/blob/main/SECURITY.md#untrusted-models for more details). In a future release, the default value for `weights_only` will be flipped to `True`. This limits the functions that could be executed during unpickling. Arbitrary objects will no longer be allowed to be loaded via this mode unless they are explicitly allowlisted by the user via `torch.serialization.add_safe_globals`. We recommend you start setting `weights_only=True` for any use case where you don't have full control of the loaded file. Please open an issue on GitHub for any issues related to this experimental feature.\n",
            "  checkpoint = torch.load(fp, map_location=device)\n",
            " 70%|██████▉   | 174/250 [16:57<06:38,  5.25s/it]"
          ]
        },
        {
          "output_type": "stream",
          "name": "stdout",
          "text": [
            "Transcription of 354.wav:  You are very irresponsible.\n"
          ]
        },
        {
          "output_type": "stream",
          "name": "stderr",
          "text": [
            "/usr/local/lib/python3.10/dist-packages/whisper/__init__.py:150: FutureWarning: You are using `torch.load` with `weights_only=False` (the current default value), which uses the default pickle module implicitly. It is possible to construct malicious pickle data which will execute arbitrary code during unpickling (See https://github.com/pytorch/pytorch/blob/main/SECURITY.md#untrusted-models for more details). In a future release, the default value for `weights_only` will be flipped to `True`. This limits the functions that could be executed during unpickling. Arbitrary objects will no longer be allowed to be loaded via this mode unless they are explicitly allowlisted by the user via `torch.serialization.add_safe_globals`. We recommend you start setting `weights_only=True` for any use case where you don't have full control of the loaded file. Please open an issue on GitHub for any issues related to this experimental feature.\n",
            "  checkpoint = torch.load(fp, map_location=device)\n",
            " 70%|███████   | 175/250 [17:01<06:17,  5.03s/it]"
          ]
        },
        {
          "output_type": "stream",
          "name": "stdout",
          "text": [
            "Transcription of 153.wav:  Please try to concentrate more.\n"
          ]
        },
        {
          "output_type": "stream",
          "name": "stderr",
          "text": [
            "/usr/local/lib/python3.10/dist-packages/whisper/__init__.py:150: FutureWarning: You are using `torch.load` with `weights_only=False` (the current default value), which uses the default pickle module implicitly. It is possible to construct malicious pickle data which will execute arbitrary code during unpickling (See https://github.com/pytorch/pytorch/blob/main/SECURITY.md#untrusted-models for more details). In a future release, the default value for `weights_only` will be flipped to `True`. This limits the functions that could be executed during unpickling. Arbitrary objects will no longer be allowed to be loaded via this mode unless they are explicitly allowlisted by the user via `torch.serialization.add_safe_globals`. We recommend you start setting `weights_only=True` for any use case where you don't have full control of the loaded file. Please open an issue on GitHub for any issues related to this experimental feature.\n",
            "  checkpoint = torch.load(fp, map_location=device)\n",
            " 70%|███████   | 176/250 [17:06<06:06,  4.96s/it]"
          ]
        },
        {
          "output_type": "stream",
          "name": "stdout",
          "text": [
            "Transcription of 21.wav:  You have done a great job.\n"
          ]
        },
        {
          "output_type": "stream",
          "name": "stderr",
          "text": [
            "/usr/local/lib/python3.10/dist-packages/whisper/__init__.py:150: FutureWarning: You are using `torch.load` with `weights_only=False` (the current default value), which uses the default pickle module implicitly. It is possible to construct malicious pickle data which will execute arbitrary code during unpickling (See https://github.com/pytorch/pytorch/blob/main/SECURITY.md#untrusted-models for more details). In a future release, the default value for `weights_only` will be flipped to `True`. This limits the functions that could be executed during unpickling. Arbitrary objects will no longer be allowed to be loaded via this mode unless they are explicitly allowlisted by the user via `torch.serialization.add_safe_globals`. We recommend you start setting `weights_only=True` for any use case where you don't have full control of the loaded file. Please open an issue on GitHub for any issues related to this experimental feature.\n",
            "  checkpoint = torch.load(fp, map_location=device)\n",
            " 71%|███████   | 177/250 [17:12<06:16,  5.16s/it]"
          ]
        },
        {
          "output_type": "stream",
          "name": "stdout",
          "text": [
            "Transcription of 224.wav:  Your rice was good but it should have more fish.\n"
          ]
        },
        {
          "output_type": "stream",
          "name": "stderr",
          "text": [
            "/usr/local/lib/python3.10/dist-packages/whisper/__init__.py:150: FutureWarning: You are using `torch.load` with `weights_only=False` (the current default value), which uses the default pickle module implicitly. It is possible to construct malicious pickle data which will execute arbitrary code during unpickling (See https://github.com/pytorch/pytorch/blob/main/SECURITY.md#untrusted-models for more details). In a future release, the default value for `weights_only` will be flipped to `True`. This limits the functions that could be executed during unpickling. Arbitrary objects will no longer be allowed to be loaded via this mode unless they are explicitly allowlisted by the user via `torch.serialization.add_safe_globals`. We recommend you start setting `weights_only=True` for any use case where you don't have full control of the loaded file. Please open an issue on GitHub for any issues related to this experimental feature.\n",
            "  checkpoint = torch.load(fp, map_location=device)\n",
            " 71%|███████   | 178/250 [17:16<05:58,  4.97s/it]"
          ]
        },
        {
          "output_type": "stream",
          "name": "stdout",
          "text": [
            "Transcription of 286.wav:  No one likes you.\n"
          ]
        },
        {
          "output_type": "stream",
          "name": "stderr",
          "text": [
            "/usr/local/lib/python3.10/dist-packages/whisper/__init__.py:150: FutureWarning: You are using `torch.load` with `weights_only=False` (the current default value), which uses the default pickle module implicitly. It is possible to construct malicious pickle data which will execute arbitrary code during unpickling (See https://github.com/pytorch/pytorch/blob/main/SECURITY.md#untrusted-models for more details). In a future release, the default value for `weights_only` will be flipped to `True`. This limits the functions that could be executed during unpickling. Arbitrary objects will no longer be allowed to be loaded via this mode unless they are explicitly allowlisted by the user via `torch.serialization.add_safe_globals`. We recommend you start setting `weights_only=True` for any use case where you don't have full control of the loaded file. Please open an issue on GitHub for any issues related to this experimental feature.\n",
            "  checkpoint = torch.load(fp, map_location=device)\n",
            " 72%|███████▏  | 179/250 [17:22<06:08,  5.19s/it]"
          ]
        },
        {
          "output_type": "stream",
          "name": "stdout",
          "text": [
            "Transcription of 52.wav:  You cook great.\n"
          ]
        },
        {
          "output_type": "stream",
          "name": "stderr",
          "text": [
            "/usr/local/lib/python3.10/dist-packages/whisper/__init__.py:150: FutureWarning: You are using `torch.load` with `weights_only=False` (the current default value), which uses the default pickle module implicitly. It is possible to construct malicious pickle data which will execute arbitrary code during unpickling (See https://github.com/pytorch/pytorch/blob/main/SECURITY.md#untrusted-models for more details). In a future release, the default value for `weights_only` will be flipped to `True`. This limits the functions that could be executed during unpickling. Arbitrary objects will no longer be allowed to be loaded via this mode unless they are explicitly allowlisted by the user via `torch.serialization.add_safe_globals`. We recommend you start setting `weights_only=True` for any use case where you don't have full control of the loaded file. Please open an issue on GitHub for any issues related to this experimental feature.\n",
            "  checkpoint = torch.load(fp, map_location=device)\n",
            " 72%|███████▏  | 180/250 [17:37<09:23,  8.05s/it]"
          ]
        },
        {
          "output_type": "stream",
          "name": "stdout",
          "text": [
            "Transcription of 111.wav:  � fır илли achsen LP ඈossing  swelling  発呆\n"
          ]
        },
        {
          "output_type": "stream",
          "name": "stderr",
          "text": [
            "/usr/local/lib/python3.10/dist-packages/whisper/__init__.py:150: FutureWarning: You are using `torch.load` with `weights_only=False` (the current default value), which uses the default pickle module implicitly. It is possible to construct malicious pickle data which will execute arbitrary code during unpickling (See https://github.com/pytorch/pytorch/blob/main/SECURITY.md#untrusted-models for more details). In a future release, the default value for `weights_only` will be flipped to `True`. This limits the functions that could be executed during unpickling. Arbitrary objects will no longer be allowed to be loaded via this mode unless they are explicitly allowlisted by the user via `torch.serialization.add_safe_globals`. We recommend you start setting `weights_only=True` for any use case where you don't have full control of the loaded file. Please open an issue on GitHub for any issues related to this experimental feature.\n",
            "  checkpoint = torch.load(fp, map_location=device)\n",
            " 72%|███████▏  | 181/250 [17:41<08:03,  7.01s/it]"
          ]
        },
        {
          "output_type": "stream",
          "name": "stdout",
          "text": [
            "Transcription of 347.wav:  How will we save them?\n"
          ]
        },
        {
          "output_type": "stream",
          "name": "stderr",
          "text": [
            "/usr/local/lib/python3.10/dist-packages/whisper/__init__.py:150: FutureWarning: You are using `torch.load` with `weights_only=False` (the current default value), which uses the default pickle module implicitly. It is possible to construct malicious pickle data which will execute arbitrary code during unpickling (See https://github.com/pytorch/pytorch/blob/main/SECURITY.md#untrusted-models for more details). In a future release, the default value for `weights_only` will be flipped to `True`. This limits the functions that could be executed during unpickling. Arbitrary objects will no longer be allowed to be loaded via this mode unless they are explicitly allowlisted by the user via `torch.serialization.add_safe_globals`. We recommend you start setting `weights_only=True` for any use case where you don't have full control of the loaded file. Please open an issue on GitHub for any issues related to this experimental feature.\n",
            "  checkpoint = torch.load(fp, map_location=device)\n",
            " 73%|███████▎  | 182/250 [17:46<07:16,  6.41s/it]"
          ]
        },
        {
          "output_type": "stream",
          "name": "stdout",
          "text": [
            "Transcription of 154.wav:  Your answer is correct but it needs more explanation.\n"
          ]
        },
        {
          "output_type": "stream",
          "name": "stderr",
          "text": [
            "/usr/local/lib/python3.10/dist-packages/whisper/__init__.py:150: FutureWarning: You are using `torch.load` with `weights_only=False` (the current default value), which uses the default pickle module implicitly. It is possible to construct malicious pickle data which will execute arbitrary code during unpickling (See https://github.com/pytorch/pytorch/blob/main/SECURITY.md#untrusted-models for more details). In a future release, the default value for `weights_only` will be flipped to `True`. This limits the functions that could be executed during unpickling. Arbitrary objects will no longer be allowed to be loaded via this mode unless they are explicitly allowlisted by the user via `torch.serialization.add_safe_globals`. We recommend you start setting `weights_only=True` for any use case where you don't have full control of the loaded file. Please open an issue on GitHub for any issues related to this experimental feature.\n",
            "  checkpoint = torch.load(fp, map_location=device)\n",
            " 73%|███████▎  | 183/250 [17:51<06:44,  6.04s/it]"
          ]
        },
        {
          "output_type": "stream",
          "name": "stdout",
          "text": [
            "Transcription of 11.wav:  Thank you for the great help.\n"
          ]
        },
        {
          "output_type": "stream",
          "name": "stderr",
          "text": [
            "/usr/local/lib/python3.10/dist-packages/whisper/__init__.py:150: FutureWarning: You are using `torch.load` with `weights_only=False` (the current default value), which uses the default pickle module implicitly. It is possible to construct malicious pickle data which will execute arbitrary code during unpickling (See https://github.com/pytorch/pytorch/blob/main/SECURITY.md#untrusted-models for more details). In a future release, the default value for `weights_only` will be flipped to `True`. This limits the functions that could be executed during unpickling. Arbitrary objects will no longer be allowed to be loaded via this mode unless they are explicitly allowlisted by the user via `torch.serialization.add_safe_globals`. We recommend you start setting `weights_only=True` for any use case where you don't have full control of the loaded file. Please open an issue on GitHub for any issues related to this experimental feature.\n",
            "  checkpoint = torch.load(fp, map_location=device)\n",
            " 74%|███████▎  | 184/250 [17:56<06:09,  5.59s/it]"
          ]
        },
        {
          "output_type": "stream",
          "name": "stdout",
          "text": [
            "Transcription of 77.wav:  Move out of the way through the platform.\n"
          ]
        },
        {
          "output_type": "stream",
          "name": "stderr",
          "text": [
            "/usr/local/lib/python3.10/dist-packages/whisper/__init__.py:150: FutureWarning: You are using `torch.load` with `weights_only=False` (the current default value), which uses the default pickle module implicitly. It is possible to construct malicious pickle data which will execute arbitrary code during unpickling (See https://github.com/pytorch/pytorch/blob/main/SECURITY.md#untrusted-models for more details). In a future release, the default value for `weights_only` will be flipped to `True`. This limits the functions that could be executed during unpickling. Arbitrary objects will no longer be allowed to be loaded via this mode unless they are explicitly allowlisted by the user via `torch.serialization.add_safe_globals`. We recommend you start setting `weights_only=True` for any use case where you don't have full control of the loaded file. Please open an issue on GitHub for any issues related to this experimental feature.\n",
            "  checkpoint = torch.load(fp, map_location=device)\n",
            " 74%|███████▍  | 185/250 [18:02<06:08,  5.67s/it]"
          ]
        },
        {
          "output_type": "stream",
          "name": "stdout",
          "text": [
            "Transcription of 216.wav:  you should try more\n"
          ]
        },
        {
          "output_type": "stream",
          "name": "stderr",
          "text": [
            "/usr/local/lib/python3.10/dist-packages/whisper/__init__.py:150: FutureWarning: You are using `torch.load` with `weights_only=False` (the current default value), which uses the default pickle module implicitly. It is possible to construct malicious pickle data which will execute arbitrary code during unpickling (See https://github.com/pytorch/pytorch/blob/main/SECURITY.md#untrusted-models for more details). In a future release, the default value for `weights_only` will be flipped to `True`. This limits the functions that could be executed during unpickling. Arbitrary objects will no longer be allowed to be loaded via this mode unless they are explicitly allowlisted by the user via `torch.serialization.add_safe_globals`. We recommend you start setting `weights_only=True` for any use case where you don't have full control of the loaded file. Please open an issue on GitHub for any issues related to this experimental feature.\n",
            "  checkpoint = torch.load(fp, map_location=device)\n",
            " 74%|███████▍  | 186/250 [18:07<05:43,  5.37s/it]"
          ]
        },
        {
          "output_type": "stream",
          "name": "stdout",
          "text": [
            "Transcription of 167.wav:  Do you have a mark 1, but you have a similar fuse?\n"
          ]
        },
        {
          "output_type": "stream",
          "name": "stderr",
          "text": [
            "/usr/local/lib/python3.10/dist-packages/whisper/__init__.py:150: FutureWarning: You are using `torch.load` with `weights_only=False` (the current default value), which uses the default pickle module implicitly. It is possible to construct malicious pickle data which will execute arbitrary code during unpickling (See https://github.com/pytorch/pytorch/blob/main/SECURITY.md#untrusted-models for more details). In a future release, the default value for `weights_only` will be flipped to `True`. This limits the functions that could be executed during unpickling. Arbitrary objects will no longer be allowed to be loaded via this mode unless they are explicitly allowlisted by the user via `torch.serialization.add_safe_globals`. We recommend you start setting `weights_only=True` for any use case where you don't have full control of the loaded file. Please open an issue on GitHub for any issues related to this experimental feature.\n",
            "  checkpoint = torch.load(fp, map_location=device)\n",
            " 75%|███████▍  | 187/250 [18:12<05:32,  5.28s/it]"
          ]
        },
        {
          "output_type": "stream",
          "name": "stdout",
          "text": [
            "Transcription of 328.wav:  You should be kicked off from the office.\n"
          ]
        },
        {
          "output_type": "stream",
          "name": "stderr",
          "text": [
            "/usr/local/lib/python3.10/dist-packages/whisper/__init__.py:150: FutureWarning: You are using `torch.load` with `weights_only=False` (the current default value), which uses the default pickle module implicitly. It is possible to construct malicious pickle data which will execute arbitrary code during unpickling (See https://github.com/pytorch/pytorch/blob/main/SECURITY.md#untrusted-models for more details). In a future release, the default value for `weights_only` will be flipped to `True`. This limits the functions that could be executed during unpickling. Arbitrary objects will no longer be allowed to be loaded via this mode unless they are explicitly allowlisted by the user via `torch.serialization.add_safe_globals`. We recommend you start setting `weights_only=True` for any use case where you don't have full control of the loaded file. Please open an issue on GitHub for any issues related to this experimental feature.\n",
            "  checkpoint = torch.load(fp, map_location=device)\n",
            " 75%|███████▌  | 188/250 [18:17<05:33,  5.39s/it]"
          ]
        },
        {
          "output_type": "stream",
          "name": "stdout",
          "text": [
            "Transcription of 214.wav:  you should try more\n"
          ]
        },
        {
          "output_type": "stream",
          "name": "stderr",
          "text": [
            "/usr/local/lib/python3.10/dist-packages/whisper/__init__.py:150: FutureWarning: You are using `torch.load` with `weights_only=False` (the current default value), which uses the default pickle module implicitly. It is possible to construct malicious pickle data which will execute arbitrary code during unpickling (See https://github.com/pytorch/pytorch/blob/main/SECURITY.md#untrusted-models for more details). In a future release, the default value for `weights_only` will be flipped to `True`. This limits the functions that could be executed during unpickling. Arbitrary objects will no longer be allowed to be loaded via this mode unless they are explicitly allowlisted by the user via `torch.serialization.add_safe_globals`. We recommend you start setting `weights_only=True` for any use case where you don't have full control of the loaded file. Please open an issue on GitHub for any issues related to this experimental feature.\n",
            "  checkpoint = torch.load(fp, map_location=device)\n",
            " 76%|███████▌  | 189/250 [18:22<05:13,  5.14s/it]"
          ]
        },
        {
          "output_type": "stream",
          "name": "stdout",
          "text": [
            "Transcription of 186.wav:  You should try to be more regular.\n"
          ]
        },
        {
          "output_type": "stream",
          "name": "stderr",
          "text": [
            "/usr/local/lib/python3.10/dist-packages/whisper/__init__.py:150: FutureWarning: You are using `torch.load` with `weights_only=False` (the current default value), which uses the default pickle module implicitly. It is possible to construct malicious pickle data which will execute arbitrary code during unpickling (See https://github.com/pytorch/pytorch/blob/main/SECURITY.md#untrusted-models for more details). In a future release, the default value for `weights_only` will be flipped to `True`. This limits the functions that could be executed during unpickling. Arbitrary objects will no longer be allowed to be loaded via this mode unless they are explicitly allowlisted by the user via `torch.serialization.add_safe_globals`. We recommend you start setting `weights_only=True` for any use case where you don't have full control of the loaded file. Please open an issue on GitHub for any issues related to this experimental feature.\n",
            "  checkpoint = torch.load(fp, map_location=device)\n",
            " 76%|███████▌  | 190/250 [18:27<05:12,  5.22s/it]"
          ]
        },
        {
          "output_type": "stream",
          "name": "stdout",
          "text": [
            "Transcription of 191.wav:  You should explain now.\n"
          ]
        },
        {
          "output_type": "stream",
          "name": "stderr",
          "text": [
            "/usr/local/lib/python3.10/dist-packages/whisper/__init__.py:150: FutureWarning: You are using `torch.load` with `weights_only=False` (the current default value), which uses the default pickle module implicitly. It is possible to construct malicious pickle data which will execute arbitrary code during unpickling (See https://github.com/pytorch/pytorch/blob/main/SECURITY.md#untrusted-models for more details). In a future release, the default value for `weights_only` will be flipped to `True`. This limits the functions that could be executed during unpickling. Arbitrary objects will no longer be allowed to be loaded via this mode unless they are explicitly allowlisted by the user via `torch.serialization.add_safe_globals`. We recommend you start setting `weights_only=True` for any use case where you don't have full control of the loaded file. Please open an issue on GitHub for any issues related to this experimental feature.\n",
            "  checkpoint = torch.load(fp, map_location=device)\n",
            " 76%|███████▋  | 191/250 [18:32<04:59,  5.08s/it]"
          ]
        },
        {
          "output_type": "stream",
          "name": "stdout",
          "text": [
            "Transcription of 179.wav:  You should do him no respect.\n"
          ]
        },
        {
          "output_type": "stream",
          "name": "stderr",
          "text": [
            "/usr/local/lib/python3.10/dist-packages/whisper/__init__.py:150: FutureWarning: You are using `torch.load` with `weights_only=False` (the current default value), which uses the default pickle module implicitly. It is possible to construct malicious pickle data which will execute arbitrary code during unpickling (See https://github.com/pytorch/pytorch/blob/main/SECURITY.md#untrusted-models for more details). In a future release, the default value for `weights_only` will be flipped to `True`. This limits the functions that could be executed during unpickling. Arbitrary objects will no longer be allowed to be loaded via this mode unless they are explicitly allowlisted by the user via `torch.serialization.add_safe_globals`. We recommend you start setting `weights_only=True` for any use case where you don't have full control of the loaded file. Please open an issue on GitHub for any issues related to this experimental feature.\n",
            "  checkpoint = torch.load(fp, map_location=device)\n",
            " 77%|███████▋  | 192/250 [18:38<05:14,  5.43s/it]"
          ]
        },
        {
          "output_type": "stream",
          "name": "stdout",
          "text": [
            "Transcription of 68.wav:  Уachmentวашка не будет passiert!\n"
          ]
        },
        {
          "output_type": "stream",
          "name": "stderr",
          "text": [
            "/usr/local/lib/python3.10/dist-packages/whisper/__init__.py:150: FutureWarning: You are using `torch.load` with `weights_only=False` (the current default value), which uses the default pickle module implicitly. It is possible to construct malicious pickle data which will execute arbitrary code during unpickling (See https://github.com/pytorch/pytorch/blob/main/SECURITY.md#untrusted-models for more details). In a future release, the default value for `weights_only` will be flipped to `True`. This limits the functions that could be executed during unpickling. Arbitrary objects will no longer be allowed to be loaded via this mode unless they are explicitly allowlisted by the user via `torch.serialization.add_safe_globals`. We recommend you start setting `weights_only=True` for any use case where you don't have full control of the loaded file. Please open an issue on GitHub for any issues related to this experimental feature.\n",
            "  checkpoint = torch.load(fp, map_location=device)\n",
            " 77%|███████▋  | 193/250 [18:44<05:15,  5.53s/it]"
          ]
        },
        {
          "output_type": "stream",
          "name": "stdout",
          "text": [
            "Transcription of 279.wav:  You should be punished for this act.\n"
          ]
        },
        {
          "output_type": "stream",
          "name": "stderr",
          "text": [
            "/usr/local/lib/python3.10/dist-packages/whisper/__init__.py:150: FutureWarning: You are using `torch.load` with `weights_only=False` (the current default value), which uses the default pickle module implicitly. It is possible to construct malicious pickle data which will execute arbitrary code during unpickling (See https://github.com/pytorch/pytorch/blob/main/SECURITY.md#untrusted-models for more details). In a future release, the default value for `weights_only` will be flipped to `True`. This limits the functions that could be executed during unpickling. Arbitrary objects will no longer be allowed to be loaded via this mode unless they are explicitly allowlisted by the user via `torch.serialization.add_safe_globals`. We recommend you start setting `weights_only=True` for any use case where you don't have full control of the loaded file. Please open an issue on GitHub for any issues related to this experimental feature.\n",
            "  checkpoint = torch.load(fp, map_location=device)\n",
            " 78%|███████▊  | 194/250 [18:49<04:53,  5.25s/it]"
          ]
        },
        {
          "output_type": "stream",
          "name": "stdout",
          "text": [
            "Transcription of 200.wav:  You can be selected but can also be rejected.\n"
          ]
        },
        {
          "output_type": "stream",
          "name": "stderr",
          "text": [
            "/usr/local/lib/python3.10/dist-packages/whisper/__init__.py:150: FutureWarning: You are using `torch.load` with `weights_only=False` (the current default value), which uses the default pickle module implicitly. It is possible to construct malicious pickle data which will execute arbitrary code during unpickling (See https://github.com/pytorch/pytorch/blob/main/SECURITY.md#untrusted-models for more details). In a future release, the default value for `weights_only` will be flipped to `True`. This limits the functions that could be executed during unpickling. Arbitrary objects will no longer be allowed to be loaded via this mode unless they are explicitly allowlisted by the user via `torch.serialization.add_safe_globals`. We recommend you start setting `weights_only=True` for any use case where you don't have full control of the loaded file. Please open an issue on GitHub for any issues related to this experimental feature.\n",
            "  checkpoint = torch.load(fp, map_location=device)\n",
            " 78%|███████▊  | 195/250 [18:54<04:52,  5.32s/it]"
          ]
        },
        {
          "output_type": "stream",
          "name": "stdout",
          "text": [
            "Transcription of 101.wav:  Hello, hello, hello, hello.\n"
          ]
        },
        {
          "output_type": "stream",
          "name": "stderr",
          "text": [
            "/usr/local/lib/python3.10/dist-packages/whisper/__init__.py:150: FutureWarning: You are using `torch.load` with `weights_only=False` (the current default value), which uses the default pickle module implicitly. It is possible to construct malicious pickle data which will execute arbitrary code during unpickling (See https://github.com/pytorch/pytorch/blob/main/SECURITY.md#untrusted-models for more details). In a future release, the default value for `weights_only` will be flipped to `True`. This limits the functions that could be executed during unpickling. Arbitrary objects will no longer be allowed to be loaded via this mode unless they are explicitly allowlisted by the user via `torch.serialization.add_safe_globals`. We recommend you start setting `weights_only=True` for any use case where you don't have full control of the loaded file. Please open an issue on GitHub for any issues related to this experimental feature.\n",
            "  checkpoint = torch.load(fp, map_location=device)\n",
            " 78%|███████▊  | 196/250 [18:59<04:38,  5.15s/it]"
          ]
        },
        {
          "output_type": "stream",
          "name": "stdout",
          "text": [
            "Transcription of 156.wav:  Your answer is correct but it needs more explanation.\n"
          ]
        },
        {
          "output_type": "stream",
          "name": "stderr",
          "text": [
            "/usr/local/lib/python3.10/dist-packages/whisper/__init__.py:150: FutureWarning: You are using `torch.load` with `weights_only=False` (the current default value), which uses the default pickle module implicitly. It is possible to construct malicious pickle data which will execute arbitrary code during unpickling (See https://github.com/pytorch/pytorch/blob/main/SECURITY.md#untrusted-models for more details). In a future release, the default value for `weights_only` will be flipped to `True`. This limits the functions that could be executed during unpickling. Arbitrary objects will no longer be allowed to be loaded via this mode unless they are explicitly allowlisted by the user via `torch.serialization.add_safe_globals`. We recommend you start setting `weights_only=True` for any use case where you don't have full control of the loaded file. Please open an issue on GitHub for any issues related to this experimental feature.\n",
            "  checkpoint = torch.load(fp, map_location=device)\n",
            " 79%|███████▉  | 197/250 [19:03<04:23,  4.98s/it]"
          ]
        },
        {
          "output_type": "stream",
          "name": "stdout",
          "text": [
            "Transcription of 148.wav:  You should be more punctual.\n"
          ]
        },
        {
          "output_type": "stream",
          "name": "stderr",
          "text": [
            "/usr/local/lib/python3.10/dist-packages/whisper/__init__.py:150: FutureWarning: You are using `torch.load` with `weights_only=False` (the current default value), which uses the default pickle module implicitly. It is possible to construct malicious pickle data which will execute arbitrary code during unpickling (See https://github.com/pytorch/pytorch/blob/main/SECURITY.md#untrusted-models for more details). In a future release, the default value for `weights_only` will be flipped to `True`. This limits the functions that could be executed during unpickling. Arbitrary objects will no longer be allowed to be loaded via this mode unless they are explicitly allowlisted by the user via `torch.serialization.add_safe_globals`. We recommend you start setting `weights_only=True` for any use case where you don't have full control of the loaded file. Please open an issue on GitHub for any issues related to this experimental feature.\n",
            "  checkpoint = torch.load(fp, map_location=device)\n",
            " 79%|███████▉  | 198/250 [19:09<04:33,  5.25s/it]"
          ]
        },
        {
          "output_type": "stream",
          "name": "stdout",
          "text": [
            "Transcription of 221.wav:  We are very close to the cancer.\n"
          ]
        },
        {
          "output_type": "stream",
          "name": "stderr",
          "text": [
            "/usr/local/lib/python3.10/dist-packages/whisper/__init__.py:150: FutureWarning: You are using `torch.load` with `weights_only=False` (the current default value), which uses the default pickle module implicitly. It is possible to construct malicious pickle data which will execute arbitrary code during unpickling (See https://github.com/pytorch/pytorch/blob/main/SECURITY.md#untrusted-models for more details). In a future release, the default value for `weights_only` will be flipped to `True`. This limits the functions that could be executed during unpickling. Arbitrary objects will no longer be allowed to be loaded via this mode unless they are explicitly allowlisted by the user via `torch.serialization.add_safe_globals`. We recommend you start setting `weights_only=True` for any use case where you don't have full control of the loaded file. Please open an issue on GitHub for any issues related to this experimental feature.\n",
            "  checkpoint = torch.load(fp, map_location=device)\n",
            " 80%|███████▉  | 199/250 [19:14<04:17,  5.04s/it]"
          ]
        },
        {
          "output_type": "stream",
          "name": "stdout",
          "text": [
            "Transcription of 305.wav:  I'm not a sandwich person.\n"
          ]
        },
        {
          "output_type": "stream",
          "name": "stderr",
          "text": [
            "/usr/local/lib/python3.10/dist-packages/whisper/__init__.py:150: FutureWarning: You are using `torch.load` with `weights_only=False` (the current default value), which uses the default pickle module implicitly. It is possible to construct malicious pickle data which will execute arbitrary code during unpickling (See https://github.com/pytorch/pytorch/blob/main/SECURITY.md#untrusted-models for more details). In a future release, the default value for `weights_only` will be flipped to `True`. This limits the functions that could be executed during unpickling. Arbitrary objects will no longer be allowed to be loaded via this mode unless they are explicitly allowlisted by the user via `torch.serialization.add_safe_globals`. We recommend you start setting `weights_only=True` for any use case where you don't have full control of the loaded file. Please open an issue on GitHub for any issues related to this experimental feature.\n",
            "  checkpoint = torch.load(fp, map_location=device)\n",
            " 80%|████████  | 200/250 [19:19<04:07,  4.95s/it]"
          ]
        },
        {
          "output_type": "stream",
          "name": "stdout",
          "text": [
            "Transcription of 100.wav:  You are my idol.\n"
          ]
        },
        {
          "output_type": "stream",
          "name": "stderr",
          "text": [
            "/usr/local/lib/python3.10/dist-packages/whisper/__init__.py:150: FutureWarning: You are using `torch.load` with `weights_only=False` (the current default value), which uses the default pickle module implicitly. It is possible to construct malicious pickle data which will execute arbitrary code during unpickling (See https://github.com/pytorch/pytorch/blob/main/SECURITY.md#untrusted-models for more details). In a future release, the default value for `weights_only` will be flipped to `True`. This limits the functions that could be executed during unpickling. Arbitrary objects will no longer be allowed to be loaded via this mode unless they are explicitly allowlisted by the user via `torch.serialization.add_safe_globals`. We recommend you start setting `weights_only=True` for any use case where you don't have full control of the loaded file. Please open an issue on GitHub for any issues related to this experimental feature.\n",
            "  checkpoint = torch.load(fp, map_location=device)\n",
            " 80%|████████  | 201/250 [19:24<04:12,  5.16s/it]"
          ]
        },
        {
          "output_type": "stream",
          "name": "stdout",
          "text": [
            "Transcription of 140.wav:  Please start to improve your attitude.\n"
          ]
        },
        {
          "output_type": "stream",
          "name": "stderr",
          "text": [
            "/usr/local/lib/python3.10/dist-packages/whisper/__init__.py:150: FutureWarning: You are using `torch.load` with `weights_only=False` (the current default value), which uses the default pickle module implicitly. It is possible to construct malicious pickle data which will execute arbitrary code during unpickling (See https://github.com/pytorch/pytorch/blob/main/SECURITY.md#untrusted-models for more details). In a future release, the default value for `weights_only` will be flipped to `True`. This limits the functions that could be executed during unpickling. Arbitrary objects will no longer be allowed to be loaded via this mode unless they are explicitly allowlisted by the user via `torch.serialization.add_safe_globals`. We recommend you start setting `weights_only=True` for any use case where you don't have full control of the loaded file. Please open an issue on GitHub for any issues related to this experimental feature.\n",
            "  checkpoint = torch.load(fp, map_location=device)\n",
            " 81%|████████  | 202/250 [19:29<03:58,  4.97s/it]"
          ]
        },
        {
          "output_type": "stream",
          "name": "stdout",
          "text": [
            "Transcription of 63.wav:  Your answers are absolutely correct.\n"
          ]
        },
        {
          "output_type": "stream",
          "name": "stderr",
          "text": [
            "/usr/local/lib/python3.10/dist-packages/whisper/__init__.py:150: FutureWarning: You are using `torch.load` with `weights_only=False` (the current default value), which uses the default pickle module implicitly. It is possible to construct malicious pickle data which will execute arbitrary code during unpickling (See https://github.com/pytorch/pytorch/blob/main/SECURITY.md#untrusted-models for more details). In a future release, the default value for `weights_only` will be flipped to `True`. This limits the functions that could be executed during unpickling. Arbitrary objects will no longer be allowed to be loaded via this mode unless they are explicitly allowlisted by the user via `torch.serialization.add_safe_globals`. We recommend you start setting `weights_only=True` for any use case where you don't have full control of the loaded file. Please open an issue on GitHub for any issues related to this experimental feature.\n",
            "  checkpoint = torch.load(fp, map_location=device)\n",
            " 81%|████████  | 203/250 [19:36<04:21,  5.55s/it]"
          ]
        },
        {
          "output_type": "stream",
          "name": "stdout",
          "text": [
            "Transcription of 233.wav:  this is it.\n"
          ]
        },
        {
          "output_type": "stream",
          "name": "stderr",
          "text": [
            "/usr/local/lib/python3.10/dist-packages/whisper/__init__.py:150: FutureWarning: You are using `torch.load` with `weights_only=False` (the current default value), which uses the default pickle module implicitly. It is possible to construct malicious pickle data which will execute arbitrary code during unpickling (See https://github.com/pytorch/pytorch/blob/main/SECURITY.md#untrusted-models for more details). In a future release, the default value for `weights_only` will be flipped to `True`. This limits the functions that could be executed during unpickling. Arbitrary objects will no longer be allowed to be loaded via this mode unless they are explicitly allowlisted by the user via `torch.serialization.add_safe_globals`. We recommend you start setting `weights_only=True` for any use case where you don't have full control of the loaded file. Please open an issue on GitHub for any issues related to this experimental feature.\n",
            "  checkpoint = torch.load(fp, map_location=device)\n",
            " 82%|████████▏ | 204/250 [19:40<04:03,  5.29s/it]"
          ]
        },
        {
          "output_type": "stream",
          "name": "stdout",
          "text": [
            "Transcription of 129.wav:  The voice was clear but it was very laggy.\n"
          ]
        },
        {
          "output_type": "stream",
          "name": "stderr",
          "text": [
            "/usr/local/lib/python3.10/dist-packages/whisper/__init__.py:150: FutureWarning: You are using `torch.load` with `weights_only=False` (the current default value), which uses the default pickle module implicitly. It is possible to construct malicious pickle data which will execute arbitrary code during unpickling (See https://github.com/pytorch/pytorch/blob/main/SECURITY.md#untrusted-models for more details). In a future release, the default value for `weights_only` will be flipped to `True`. This limits the functions that could be executed during unpickling. Arbitrary objects will no longer be allowed to be loaded via this mode unless they are explicitly allowlisted by the user via `torch.serialization.add_safe_globals`. We recommend you start setting `weights_only=True` for any use case where you don't have full control of the loaded file. Please open an issue on GitHub for any issues related to this experimental feature.\n",
            "  checkpoint = torch.load(fp, map_location=device)\n",
            " 82%|████████▏ | 205/250 [19:46<04:02,  5.39s/it]"
          ]
        },
        {
          "output_type": "stream",
          "name": "stdout",
          "text": [
            "Transcription of 187.wav:  योर आड़े सावन्स भूड प्लीस इलआबुरेट मोर\n"
          ]
        },
        {
          "output_type": "stream",
          "name": "stderr",
          "text": [
            "/usr/local/lib/python3.10/dist-packages/whisper/__init__.py:150: FutureWarning: You are using `torch.load` with `weights_only=False` (the current default value), which uses the default pickle module implicitly. It is possible to construct malicious pickle data which will execute arbitrary code during unpickling (See https://github.com/pytorch/pytorch/blob/main/SECURITY.md#untrusted-models for more details). In a future release, the default value for `weights_only` will be flipped to `True`. This limits the functions that could be executed during unpickling. Arbitrary objects will no longer be allowed to be loaded via this mode unless they are explicitly allowlisted by the user via `torch.serialization.add_safe_globals`. We recommend you start setting `weights_only=True` for any use case where you don't have full control of the loaded file. Please open an issue on GitHub for any issues related to this experimental feature.\n",
            "  checkpoint = torch.load(fp, map_location=device)\n",
            " 82%|████████▏ | 206/250 [20:04<06:42,  9.14s/it]"
          ]
        },
        {
          "output_type": "stream",
          "name": "stdout",
          "text": [
            "Transcription of 139.wav:  � mo worthwhileitt try to improve your attitude\n"
          ]
        },
        {
          "output_type": "stream",
          "name": "stderr",
          "text": [
            "/usr/local/lib/python3.10/dist-packages/whisper/__init__.py:150: FutureWarning: You are using `torch.load` with `weights_only=False` (the current default value), which uses the default pickle module implicitly. It is possible to construct malicious pickle data which will execute arbitrary code during unpickling (See https://github.com/pytorch/pytorch/blob/main/SECURITY.md#untrusted-models for more details). In a future release, the default value for `weights_only` will be flipped to `True`. This limits the functions that could be executed during unpickling. Arbitrary objects will no longer be allowed to be loaded via this mode unless they are explicitly allowlisted by the user via `torch.serialization.add_safe_globals`. We recommend you start setting `weights_only=True` for any use case where you don't have full control of the loaded file. Please open an issue on GitHub for any issues related to this experimental feature.\n",
            "  checkpoint = torch.load(fp, map_location=device)\n",
            " 83%|████████▎ | 207/250 [20:08<05:34,  7.77s/it]"
          ]
        },
        {
          "output_type": "stream",
          "name": "stdout",
          "text": [
            "Transcription of 93.wav:  you have done a great work\n"
          ]
        },
        {
          "output_type": "stream",
          "name": "stderr",
          "text": [
            "/usr/local/lib/python3.10/dist-packages/whisper/__init__.py:150: FutureWarning: You are using `torch.load` with `weights_only=False` (the current default value), which uses the default pickle module implicitly. It is possible to construct malicious pickle data which will execute arbitrary code during unpickling (See https://github.com/pytorch/pytorch/blob/main/SECURITY.md#untrusted-models for more details). In a future release, the default value for `weights_only` will be flipped to `True`. This limits the functions that could be executed during unpickling. Arbitrary objects will no longer be allowed to be loaded via this mode unless they are explicitly allowlisted by the user via `torch.serialization.add_safe_globals`. We recommend you start setting `weights_only=True` for any use case where you don't have full control of the loaded file. Please open an issue on GitHub for any issues related to this experimental feature.\n",
            "  checkpoint = torch.load(fp, map_location=device)\n",
            " 83%|████████▎ | 208/250 [20:14<04:59,  7.12s/it]"
          ]
        },
        {
          "output_type": "stream",
          "name": "stdout",
          "text": [
            "Transcription of 244.wav:  You do not have common sense.\n"
          ]
        },
        {
          "output_type": "stream",
          "name": "stderr",
          "text": [
            "/usr/local/lib/python3.10/dist-packages/whisper/__init__.py:150: FutureWarning: You are using `torch.load` with `weights_only=False` (the current default value), which uses the default pickle module implicitly. It is possible to construct malicious pickle data which will execute arbitrary code during unpickling (See https://github.com/pytorch/pytorch/blob/main/SECURITY.md#untrusted-models for more details). In a future release, the default value for `weights_only` will be flipped to `True`. This limits the functions that could be executed during unpickling. Arbitrary objects will no longer be allowed to be loaded via this mode unless they are explicitly allowlisted by the user via `torch.serialization.add_safe_globals`. We recommend you start setting `weights_only=True` for any use case where you don't have full control of the loaded file. Please open an issue on GitHub for any issues related to this experimental feature.\n",
            "  checkpoint = torch.load(fp, map_location=device)\n",
            " 84%|████████▎ | 209/250 [20:19<04:20,  6.35s/it]"
          ]
        },
        {
          "output_type": "stream",
          "name": "stdout",
          "text": [
            "Transcription of 90.wav:  Your idea is great.\n"
          ]
        },
        {
          "output_type": "stream",
          "name": "stderr",
          "text": [
            "/usr/local/lib/python3.10/dist-packages/whisper/__init__.py:150: FutureWarning: You are using `torch.load` with `weights_only=False` (the current default value), which uses the default pickle module implicitly. It is possible to construct malicious pickle data which will execute arbitrary code during unpickling (See https://github.com/pytorch/pytorch/blob/main/SECURITY.md#untrusted-models for more details). In a future release, the default value for `weights_only` will be flipped to `True`. This limits the functions that could be executed during unpickling. Arbitrary objects will no longer be allowed to be loaded via this mode unless they are explicitly allowlisted by the user via `torch.serialization.add_safe_globals`. We recommend you start setting `weights_only=True` for any use case where you don't have full control of the loaded file. Please open an issue on GitHub for any issues related to this experimental feature.\n",
            "  checkpoint = torch.load(fp, map_location=device)\n",
            " 84%|████████▍ | 210/250 [20:23<03:54,  5.87s/it]"
          ]
        },
        {
          "output_type": "stream",
          "name": "stdout",
          "text": [
            "Transcription of 172.wav:  your choice was good but not great\n"
          ]
        },
        {
          "output_type": "stream",
          "name": "stderr",
          "text": [
            "/usr/local/lib/python3.10/dist-packages/whisper/__init__.py:150: FutureWarning: You are using `torch.load` with `weights_only=False` (the current default value), which uses the default pickle module implicitly. It is possible to construct malicious pickle data which will execute arbitrary code during unpickling (See https://github.com/pytorch/pytorch/blob/main/SECURITY.md#untrusted-models for more details). In a future release, the default value for `weights_only` will be flipped to `True`. This limits the functions that could be executed during unpickling. Arbitrary objects will no longer be allowed to be loaded via this mode unless they are explicitly allowlisted by the user via `torch.serialization.add_safe_globals`. We recommend you start setting `weights_only=True` for any use case where you don't have full control of the loaded file. Please open an issue on GitHub for any issues related to this experimental feature.\n",
            "  checkpoint = torch.load(fp, map_location=device)\n",
            " 84%|████████▍ | 211/250 [20:29<03:45,  5.79s/it]"
          ]
        },
        {
          "output_type": "stream",
          "name": "stdout",
          "text": [
            "Transcription of 118.wav:  You always help the person in need.\n"
          ]
        },
        {
          "output_type": "stream",
          "name": "stderr",
          "text": [
            "/usr/local/lib/python3.10/dist-packages/whisper/__init__.py:150: FutureWarning: You are using `torch.load` with `weights_only=False` (the current default value), which uses the default pickle module implicitly. It is possible to construct malicious pickle data which will execute arbitrary code during unpickling (See https://github.com/pytorch/pytorch/blob/main/SECURITY.md#untrusted-models for more details). In a future release, the default value for `weights_only` will be flipped to `True`. This limits the functions that could be executed during unpickling. Arbitrary objects will no longer be allowed to be loaded via this mode unless they are explicitly allowlisted by the user via `torch.serialization.add_safe_globals`. We recommend you start setting `weights_only=True` for any use case where you don't have full control of the loaded file. Please open an issue on GitHub for any issues related to this experimental feature.\n",
            "  checkpoint = torch.load(fp, map_location=device)\n",
            " 85%|████████▍ | 212/250 [20:34<03:32,  5.59s/it]"
          ]
        },
        {
          "output_type": "stream",
          "name": "stdout",
          "text": [
            "Transcription of 293.wav:  I have no idea what you're talking about.\n"
          ]
        },
        {
          "output_type": "stream",
          "name": "stderr",
          "text": [
            "/usr/local/lib/python3.10/dist-packages/whisper/__init__.py:150: FutureWarning: You are using `torch.load` with `weights_only=False` (the current default value), which uses the default pickle module implicitly. It is possible to construct malicious pickle data which will execute arbitrary code during unpickling (See https://github.com/pytorch/pytorch/blob/main/SECURITY.md#untrusted-models for more details). In a future release, the default value for `weights_only` will be flipped to `True`. This limits the functions that could be executed during unpickling. Arbitrary objects will no longer be allowed to be loaded via this mode unless they are explicitly allowlisted by the user via `torch.serialization.add_safe_globals`. We recommend you start setting `weights_only=True` for any use case where you don't have full control of the loaded file. Please open an issue on GitHub for any issues related to this experimental feature.\n",
            "  checkpoint = torch.load(fp, map_location=device)\n",
            " 85%|████████▌ | 213/250 [20:40<03:29,  5.67s/it]"
          ]
        },
        {
          "output_type": "stream",
          "name": "stdout",
          "text": [
            "Transcription of 270.wav:  Mind your language.\n"
          ]
        },
        {
          "output_type": "stream",
          "name": "stderr",
          "text": [
            "/usr/local/lib/python3.10/dist-packages/whisper/__init__.py:150: FutureWarning: You are using `torch.load` with `weights_only=False` (the current default value), which uses the default pickle module implicitly. It is possible to construct malicious pickle data which will execute arbitrary code during unpickling (See https://github.com/pytorch/pytorch/blob/main/SECURITY.md#untrusted-models for more details). In a future release, the default value for `weights_only` will be flipped to `True`. This limits the functions that could be executed during unpickling. Arbitrary objects will no longer be allowed to be loaded via this mode unless they are explicitly allowlisted by the user via `torch.serialization.add_safe_globals`. We recommend you start setting `weights_only=True` for any use case where you don't have full control of the loaded file. Please open an issue on GitHub for any issues related to this experimental feature.\n",
            "  checkpoint = torch.load(fp, map_location=device)\n",
            " 86%|████████▌ | 214/250 [20:45<03:13,  5.37s/it]"
          ]
        },
        {
          "output_type": "stream",
          "name": "stdout",
          "text": [
            "Transcription of 232.wav:  You have done it on time but you can have done it before.\n"
          ]
        },
        {
          "output_type": "stream",
          "name": "stderr",
          "text": [
            "/usr/local/lib/python3.10/dist-packages/whisper/__init__.py:150: FutureWarning: You are using `torch.load` with `weights_only=False` (the current default value), which uses the default pickle module implicitly. It is possible to construct malicious pickle data which will execute arbitrary code during unpickling (See https://github.com/pytorch/pytorch/blob/main/SECURITY.md#untrusted-models for more details). In a future release, the default value for `weights_only` will be flipped to `True`. This limits the functions that could be executed during unpickling. Arbitrary objects will no longer be allowed to be loaded via this mode unless they are explicitly allowlisted by the user via `torch.serialization.add_safe_globals`. We recommend you start setting `weights_only=True` for any use case where you don't have full control of the loaded file. Please open an issue on GitHub for any issues related to this experimental feature.\n",
            "  checkpoint = torch.load(fp, map_location=device)\n",
            " 86%|████████▌ | 215/250 [21:03<05:22,  9.20s/it]"
          ]
        },
        {
          "output_type": "stream",
          "name": "stdout",
          "text": [
            "Transcription of 47.wav:   venge  LIAMți  під-f imprisoned\n"
          ]
        },
        {
          "output_type": "stream",
          "name": "stderr",
          "text": [
            "/usr/local/lib/python3.10/dist-packages/whisper/__init__.py:150: FutureWarning: You are using `torch.load` with `weights_only=False` (the current default value), which uses the default pickle module implicitly. It is possible to construct malicious pickle data which will execute arbitrary code during unpickling (See https://github.com/pytorch/pytorch/blob/main/SECURITY.md#untrusted-models for more details). In a future release, the default value for `weights_only` will be flipped to `True`. This limits the functions that could be executed during unpickling. Arbitrary objects will no longer be allowed to be loaded via this mode unless they are explicitly allowlisted by the user via `torch.serialization.add_safe_globals`. We recommend you start setting `weights_only=True` for any use case where you don't have full control of the loaded file. Please open an issue on GitHub for any issues related to this experimental feature.\n",
            "  checkpoint = torch.load(fp, map_location=device)\n",
            " 86%|████████▋ | 216/250 [21:09<04:40,  8.25s/it]"
          ]
        },
        {
          "output_type": "stream",
          "name": "stdout",
          "text": [
            "Transcription of 147.wav:  Your performance was good but you should improve more.\n"
          ]
        },
        {
          "output_type": "stream",
          "name": "stderr",
          "text": [
            "/usr/local/lib/python3.10/dist-packages/whisper/__init__.py:150: FutureWarning: You are using `torch.load` with `weights_only=False` (the current default value), which uses the default pickle module implicitly. It is possible to construct malicious pickle data which will execute arbitrary code during unpickling (See https://github.com/pytorch/pytorch/blob/main/SECURITY.md#untrusted-models for more details). In a future release, the default value for `weights_only` will be flipped to `True`. This limits the functions that could be executed during unpickling. Arbitrary objects will no longer be allowed to be loaded via this mode unless they are explicitly allowlisted by the user via `torch.serialization.add_safe_globals`. We recommend you start setting `weights_only=True` for any use case where you don't have full control of the loaded file. Please open an issue on GitHub for any issues related to this experimental feature.\n",
            "  checkpoint = torch.load(fp, map_location=device)\n",
            " 87%|████████▋ | 217/250 [21:13<03:56,  7.16s/it]"
          ]
        },
        {
          "output_type": "stream",
          "name": "stdout",
          "text": [
            "Transcription of 306.wav:  E agora sempre a dispersão.\n"
          ]
        },
        {
          "output_type": "stream",
          "name": "stderr",
          "text": [
            "/usr/local/lib/python3.10/dist-packages/whisper/__init__.py:150: FutureWarning: You are using `torch.load` with `weights_only=False` (the current default value), which uses the default pickle module implicitly. It is possible to construct malicious pickle data which will execute arbitrary code during unpickling (See https://github.com/pytorch/pytorch/blob/main/SECURITY.md#untrusted-models for more details). In a future release, the default value for `weights_only` will be flipped to `True`. This limits the functions that could be executed during unpickling. Arbitrary objects will no longer be allowed to be loaded via this mode unless they are explicitly allowlisted by the user via `torch.serialization.add_safe_globals`. We recommend you start setting `weights_only=True` for any use case where you don't have full control of the loaded file. Please open an issue on GitHub for any issues related to this experimental feature.\n",
            "  checkpoint = torch.load(fp, map_location=device)\n",
            " 87%|████████▋ | 218/250 [21:19<03:34,  6.69s/it]"
          ]
        },
        {
          "output_type": "stream",
          "name": "stdout",
          "text": [
            "Transcription of 117.wav:  Everyone respects you a lot.\n"
          ]
        },
        {
          "output_type": "stream",
          "name": "stderr",
          "text": [
            "/usr/local/lib/python3.10/dist-packages/whisper/__init__.py:150: FutureWarning: You are using `torch.load` with `weights_only=False` (the current default value), which uses the default pickle module implicitly. It is possible to construct malicious pickle data which will execute arbitrary code during unpickling (See https://github.com/pytorch/pytorch/blob/main/SECURITY.md#untrusted-models for more details). In a future release, the default value for `weights_only` will be flipped to `True`. This limits the functions that could be executed during unpickling. Arbitrary objects will no longer be allowed to be loaded via this mode unless they are explicitly allowlisted by the user via `torch.serialization.add_safe_globals`. We recommend you start setting `weights_only=True` for any use case where you don't have full control of the loaded file. Please open an issue on GitHub for any issues related to this experimental feature.\n",
            "  checkpoint = torch.load(fp, map_location=device)\n",
            " 88%|████████▊ | 219/250 [21:24<03:08,  6.09s/it]"
          ]
        },
        {
          "output_type": "stream",
          "name": "stdout",
          "text": [
            "Transcription of 78.wav:  You guided me to the correct path.\n"
          ]
        },
        {
          "output_type": "stream",
          "name": "stderr",
          "text": [
            "/usr/local/lib/python3.10/dist-packages/whisper/__init__.py:150: FutureWarning: You are using `torch.load` with `weights_only=False` (the current default value), which uses the default pickle module implicitly. It is possible to construct malicious pickle data which will execute arbitrary code during unpickling (See https://github.com/pytorch/pytorch/blob/main/SECURITY.md#untrusted-models for more details). In a future release, the default value for `weights_only` will be flipped to `True`. This limits the functions that could be executed during unpickling. Arbitrary objects will no longer be allowed to be loaded via this mode unless they are explicitly allowlisted by the user via `torch.serialization.add_safe_globals`. We recommend you start setting `weights_only=True` for any use case where you don't have full control of the loaded file. Please open an issue on GitHub for any issues related to this experimental feature.\n",
            "  checkpoint = torch.load(fp, map_location=device)\n",
            " 88%|████████▊ | 220/250 [21:28<02:49,  5.64s/it]"
          ]
        },
        {
          "output_type": "stream",
          "name": "stdout",
          "text": [
            "Transcription of 96.wav:  Your voice is wonderful.\n"
          ]
        },
        {
          "output_type": "stream",
          "name": "stderr",
          "text": [
            "/usr/local/lib/python3.10/dist-packages/whisper/__init__.py:150: FutureWarning: You are using `torch.load` with `weights_only=False` (the current default value), which uses the default pickle module implicitly. It is possible to construct malicious pickle data which will execute arbitrary code during unpickling (See https://github.com/pytorch/pytorch/blob/main/SECURITY.md#untrusted-models for more details). In a future release, the default value for `weights_only` will be flipped to `True`. This limits the functions that could be executed during unpickling. Arbitrary objects will no longer be allowed to be loaded via this mode unless they are explicitly allowlisted by the user via `torch.serialization.add_safe_globals`. We recommend you start setting `weights_only=True` for any use case where you don't have full control of the loaded file. Please open an issue on GitHub for any issues related to this experimental feature.\n",
            "  checkpoint = torch.load(fp, map_location=device)\n",
            " 88%|████████▊ | 221/250 [21:34<02:45,  5.70s/it]"
          ]
        },
        {
          "output_type": "stream",
          "name": "stdout",
          "text": [
            "Transcription of 242.wav:  I'm gonna be in trouble\n"
          ]
        },
        {
          "output_type": "stream",
          "name": "stderr",
          "text": [
            "/usr/local/lib/python3.10/dist-packages/whisper/__init__.py:150: FutureWarning: You are using `torch.load` with `weights_only=False` (the current default value), which uses the default pickle module implicitly. It is possible to construct malicious pickle data which will execute arbitrary code during unpickling (See https://github.com/pytorch/pytorch/blob/main/SECURITY.md#untrusted-models for more details). In a future release, the default value for `weights_only` will be flipped to `True`. This limits the functions that could be executed during unpickling. Arbitrary objects will no longer be allowed to be loaded via this mode unless they are explicitly allowlisted by the user via `torch.serialization.add_safe_globals`. We recommend you start setting `weights_only=True` for any use case where you don't have full control of the loaded file. Please open an issue on GitHub for any issues related to this experimental feature.\n",
            "  checkpoint = torch.load(fp, map_location=device)\n",
            " 89%|████████▉ | 222/250 [21:39<02:31,  5.39s/it]"
          ]
        },
        {
          "output_type": "stream",
          "name": "stdout",
          "text": [
            "Transcription of 127.wav:  The voice was clear but it was very laggy.\n"
          ]
        },
        {
          "output_type": "stream",
          "name": "stderr",
          "text": [
            "/usr/local/lib/python3.10/dist-packages/whisper/__init__.py:150: FutureWarning: You are using `torch.load` with `weights_only=False` (the current default value), which uses the default pickle module implicitly. It is possible to construct malicious pickle data which will execute arbitrary code during unpickling (See https://github.com/pytorch/pytorch/blob/main/SECURITY.md#untrusted-models for more details). In a future release, the default value for `weights_only` will be flipped to `True`. This limits the functions that could be executed during unpickling. Arbitrary objects will no longer be allowed to be loaded via this mode unless they are explicitly allowlisted by the user via `torch.serialization.add_safe_globals`. We recommend you start setting `weights_only=True` for any use case where you don't have full control of the loaded file. Please open an issue on GitHub for any issues related to this experimental feature.\n",
            "  checkpoint = torch.load(fp, map_location=device)\n",
            " 89%|████████▉ | 223/250 [22:01<04:41, 10.44s/it]"
          ]
        },
        {
          "output_type": "stream",
          "name": "stdout",
          "text": [
            "Transcription of 344.wav:  ዌologic.\n"
          ]
        },
        {
          "output_type": "stream",
          "name": "stderr",
          "text": [
            "/usr/local/lib/python3.10/dist-packages/whisper/__init__.py:150: FutureWarning: You are using `torch.load` with `weights_only=False` (the current default value), which uses the default pickle module implicitly. It is possible to construct malicious pickle data which will execute arbitrary code during unpickling (See https://github.com/pytorch/pytorch/blob/main/SECURITY.md#untrusted-models for more details). In a future release, the default value for `weights_only` will be flipped to `True`. This limits the functions that could be executed during unpickling. Arbitrary objects will no longer be allowed to be loaded via this mode unless they are explicitly allowlisted by the user via `torch.serialization.add_safe_globals`. We recommend you start setting `weights_only=True` for any use case where you don't have full control of the loaded file. Please open an issue on GitHub for any issues related to this experimental feature.\n",
            "  checkpoint = torch.load(fp, map_location=device)\n",
            " 90%|████████▉ | 224/250 [22:06<03:46,  8.69s/it]"
          ]
        },
        {
          "output_type": "stream",
          "name": "stdout",
          "text": [
            "Transcription of 237.wav:  You should learn more good manners.\n"
          ]
        },
        {
          "output_type": "stream",
          "name": "stderr",
          "text": [
            "/usr/local/lib/python3.10/dist-packages/whisper/__init__.py:150: FutureWarning: You are using `torch.load` with `weights_only=False` (the current default value), which uses the default pickle module implicitly. It is possible to construct malicious pickle data which will execute arbitrary code during unpickling (See https://github.com/pytorch/pytorch/blob/main/SECURITY.md#untrusted-models for more details). In a future release, the default value for `weights_only` will be flipped to `True`. This limits the functions that could be executed during unpickling. Arbitrary objects will no longer be allowed to be loaded via this mode unless they are explicitly allowlisted by the user via `torch.serialization.add_safe_globals`. We recommend you start setting `weights_only=True` for any use case where you don't have full control of the loaded file. Please open an issue on GitHub for any issues related to this experimental feature.\n",
            "  checkpoint = torch.load(fp, map_location=device)\n",
            " 90%|█████████ | 225/250 [22:11<03:12,  7.71s/it]"
          ]
        },
        {
          "output_type": "stream",
          "name": "stdout",
          "text": [
            "Transcription of 201.wav:  You can be selected but can also be rejected.\n"
          ]
        },
        {
          "output_type": "stream",
          "name": "stderr",
          "text": [
            "/usr/local/lib/python3.10/dist-packages/whisper/__init__.py:150: FutureWarning: You are using `torch.load` with `weights_only=False` (the current default value), which uses the default pickle module implicitly. It is possible to construct malicious pickle data which will execute arbitrary code during unpickling (See https://github.com/pytorch/pytorch/blob/main/SECURITY.md#untrusted-models for more details). In a future release, the default value for `weights_only` will be flipped to `True`. This limits the functions that could be executed during unpickling. Arbitrary objects will no longer be allowed to be loaded via this mode unless they are explicitly allowlisted by the user via `torch.serialization.add_safe_globals`. We recommend you start setting `weights_only=True` for any use case where you don't have full control of the loaded file. Please open an issue on GitHub for any issues related to this experimental feature.\n",
            "  checkpoint = torch.load(fp, map_location=device)\n",
            " 90%|█████████ | 226/250 [22:16<02:44,  6.87s/it]"
          ]
        },
        {
          "output_type": "stream",
          "name": "stdout",
          "text": [
            "Transcription of 220.wav:  You are very close to the correct answer.\n"
          ]
        },
        {
          "output_type": "stream",
          "name": "stderr",
          "text": [
            "/usr/local/lib/python3.10/dist-packages/whisper/__init__.py:150: FutureWarning: You are using `torch.load` with `weights_only=False` (the current default value), which uses the default pickle module implicitly. It is possible to construct malicious pickle data which will execute arbitrary code during unpickling (See https://github.com/pytorch/pytorch/blob/main/SECURITY.md#untrusted-models for more details). In a future release, the default value for `weights_only` will be flipped to `True`. This limits the functions that could be executed during unpickling. Arbitrary objects will no longer be allowed to be loaded via this mode unless they are explicitly allowlisted by the user via `torch.serialization.add_safe_globals`. We recommend you start setting `weights_only=True` for any use case where you don't have full control of the loaded file. Please open an issue on GitHub for any issues related to this experimental feature.\n",
            "  checkpoint = torch.load(fp, map_location=device)\n",
            " 91%|█████████ | 227/250 [22:21<02:22,  6.19s/it]"
          ]
        },
        {
          "output_type": "stream",
          "name": "stdout",
          "text": [
            "Transcription of 10.wav:  Thank you for your great help.\n"
          ]
        },
        {
          "output_type": "stream",
          "name": "stderr",
          "text": [
            "/usr/local/lib/python3.10/dist-packages/whisper/__init__.py:150: FutureWarning: You are using `torch.load` with `weights_only=False` (the current default value), which uses the default pickle module implicitly. It is possible to construct malicious pickle data which will execute arbitrary code during unpickling (See https://github.com/pytorch/pytorch/blob/main/SECURITY.md#untrusted-models for more details). In a future release, the default value for `weights_only` will be flipped to `True`. This limits the functions that could be executed during unpickling. Arbitrary objects will no longer be allowed to be loaded via this mode unless they are explicitly allowlisted by the user via `torch.serialization.add_safe_globals`. We recommend you start setting `weights_only=True` for any use case where you don't have full control of the loaded file. Please open an issue on GitHub for any issues related to this experimental feature.\n",
            "  checkpoint = torch.load(fp, map_location=device)\n",
            " 91%|█████████ | 228/250 [22:42<03:57, 10.81s/it]"
          ]
        },
        {
          "output_type": "stream",
          "name": "stdout",
          "text": [
            "Transcription of 109.wav:   crucifixing of subtle\n"
          ]
        },
        {
          "output_type": "stream",
          "name": "stderr",
          "text": [
            "/usr/local/lib/python3.10/dist-packages/whisper/__init__.py:150: FutureWarning: You are using `torch.load` with `weights_only=False` (the current default value), which uses the default pickle module implicitly. It is possible to construct malicious pickle data which will execute arbitrary code during unpickling (See https://github.com/pytorch/pytorch/blob/main/SECURITY.md#untrusted-models for more details). In a future release, the default value for `weights_only` will be flipped to `True`. This limits the functions that could be executed during unpickling. Arbitrary objects will no longer be allowed to be loaded via this mode unless they are explicitly allowlisted by the user via `torch.serialization.add_safe_globals`. We recommend you start setting `weights_only=True` for any use case where you don't have full control of the loaded file. Please open an issue on GitHub for any issues related to this experimental feature.\n",
            "  checkpoint = torch.load(fp, map_location=device)\n",
            " 92%|█████████▏| 229/250 [22:47<03:07,  8.95s/it]"
          ]
        },
        {
          "output_type": "stream",
          "name": "stdout",
          "text": [
            "Transcription of 126.wav:  The food was tasty but it should be less salty.\n"
          ]
        },
        {
          "output_type": "stream",
          "name": "stderr",
          "text": [
            "/usr/local/lib/python3.10/dist-packages/whisper/__init__.py:150: FutureWarning: You are using `torch.load` with `weights_only=False` (the current default value), which uses the default pickle module implicitly. It is possible to construct malicious pickle data which will execute arbitrary code during unpickling (See https://github.com/pytorch/pytorch/blob/main/SECURITY.md#untrusted-models for more details). In a future release, the default value for `weights_only` will be flipped to `True`. This limits the functions that could be executed during unpickling. Arbitrary objects will no longer be allowed to be loaded via this mode unless they are explicitly allowlisted by the user via `torch.serialization.add_safe_globals`. We recommend you start setting `weights_only=True` for any use case where you don't have full control of the loaded file. Please open an issue on GitHub for any issues related to this experimental feature.\n",
            "  checkpoint = torch.load(fp, map_location=device)\n",
            " 92%|█████████▏| 230/250 [22:53<02:40,  8.01s/it]"
          ]
        },
        {
          "output_type": "stream",
          "name": "stdout",
          "text": [
            "Transcription of 337.wav:  Get out of my home.\n"
          ]
        },
        {
          "output_type": "stream",
          "name": "stderr",
          "text": [
            "/usr/local/lib/python3.10/dist-packages/whisper/__init__.py:150: FutureWarning: You are using `torch.load` with `weights_only=False` (the current default value), which uses the default pickle module implicitly. It is possible to construct malicious pickle data which will execute arbitrary code during unpickling (See https://github.com/pytorch/pytorch/blob/main/SECURITY.md#untrusted-models for more details). In a future release, the default value for `weights_only` will be flipped to `True`. This limits the functions that could be executed during unpickling. Arbitrary objects will no longer be allowed to be loaded via this mode unless they are explicitly allowlisted by the user via `torch.serialization.add_safe_globals`. We recommend you start setting `weights_only=True` for any use case where you don't have full control of the loaded file. Please open an issue on GitHub for any issues related to this experimental feature.\n",
            "  checkpoint = torch.load(fp, map_location=device)\n",
            " 92%|█████████▏| 231/250 [23:13<03:45, 11.86s/it]"
          ]
        },
        {
          "output_type": "stream",
          "name": "stdout",
          "text": [
            "Transcription of 161.wav:   crian g monks clay\n"
          ]
        },
        {
          "output_type": "stream",
          "name": "stderr",
          "text": [
            "/usr/local/lib/python3.10/dist-packages/whisper/__init__.py:150: FutureWarning: You are using `torch.load` with `weights_only=False` (the current default value), which uses the default pickle module implicitly. It is possible to construct malicious pickle data which will execute arbitrary code during unpickling (See https://github.com/pytorch/pytorch/blob/main/SECURITY.md#untrusted-models for more details). In a future release, the default value for `weights_only` will be flipped to `True`. This limits the functions that could be executed during unpickling. Arbitrary objects will no longer be allowed to be loaded via this mode unless they are explicitly allowlisted by the user via `torch.serialization.add_safe_globals`. We recommend you start setting `weights_only=True` for any use case where you don't have full control of the loaded file. Please open an issue on GitHub for any issues related to this experimental feature.\n",
            "  checkpoint = torch.load(fp, map_location=device)\n",
            " 93%|█████████▎| 232/250 [23:19<03:01, 10.09s/it]"
          ]
        },
        {
          "output_type": "stream",
          "name": "stdout",
          "text": [
            "Transcription of 30.wav:  You are a very caring person.\n"
          ]
        },
        {
          "output_type": "stream",
          "name": "stderr",
          "text": [
            "/usr/local/lib/python3.10/dist-packages/whisper/__init__.py:150: FutureWarning: You are using `torch.load` with `weights_only=False` (the current default value), which uses the default pickle module implicitly. It is possible to construct malicious pickle data which will execute arbitrary code during unpickling (See https://github.com/pytorch/pytorch/blob/main/SECURITY.md#untrusted-models for more details). In a future release, the default value for `weights_only` will be flipped to `True`. This limits the functions that could be executed during unpickling. Arbitrary objects will no longer be allowed to be loaded via this mode unless they are explicitly allowlisted by the user via `torch.serialization.add_safe_globals`. We recommend you start setting `weights_only=True` for any use case where you don't have full control of the loaded file. Please open an issue on GitHub for any issues related to this experimental feature.\n",
            "  checkpoint = torch.load(fp, map_location=device)\n",
            " 93%|█████████▎| 233/250 [23:25<02:27,  8.68s/it]"
          ]
        },
        {
          "output_type": "stream",
          "name": "stdout",
          "text": [
            "Transcription of 5.wav:  In the deephelst\n"
          ]
        },
        {
          "output_type": "stream",
          "name": "stderr",
          "text": [
            "/usr/local/lib/python3.10/dist-packages/whisper/__init__.py:150: FutureWarning: You are using `torch.load` with `weights_only=False` (the current default value), which uses the default pickle module implicitly. It is possible to construct malicious pickle data which will execute arbitrary code during unpickling (See https://github.com/pytorch/pytorch/blob/main/SECURITY.md#untrusted-models for more details). In a future release, the default value for `weights_only` will be flipped to `True`. This limits the functions that could be executed during unpickling. Arbitrary objects will no longer be allowed to be loaded via this mode unless they are explicitly allowlisted by the user via `torch.serialization.add_safe_globals`. We recommend you start setting `weights_only=True` for any use case where you don't have full control of the loaded file. Please open an issue on GitHub for any issues related to this experimental feature.\n",
            "  checkpoint = torch.load(fp, map_location=device)\n",
            " 94%|█████████▎| 234/250 [23:30<02:04,  7.76s/it]"
          ]
        },
        {
          "output_type": "stream",
          "name": "stdout",
          "text": [
            "Transcription of 329.wav:  We're sure we'll get the R from the office.\n"
          ]
        },
        {
          "output_type": "stream",
          "name": "stderr",
          "text": [
            "/usr/local/lib/python3.10/dist-packages/whisper/__init__.py:150: FutureWarning: You are using `torch.load` with `weights_only=False` (the current default value), which uses the default pickle module implicitly. It is possible to construct malicious pickle data which will execute arbitrary code during unpickling (See https://github.com/pytorch/pytorch/blob/main/SECURITY.md#untrusted-models for more details). In a future release, the default value for `weights_only` will be flipped to `True`. This limits the functions that could be executed during unpickling. Arbitrary objects will no longer be allowed to be loaded via this mode unless they are explicitly allowlisted by the user via `torch.serialization.add_safe_globals`. We recommend you start setting `weights_only=True` for any use case where you don't have full control of the loaded file. Please open an issue on GitHub for any issues related to this experimental feature.\n",
            "  checkpoint = torch.load(fp, map_location=device)\n",
            " 94%|█████████▍| 235/250 [23:35<01:41,  6.80s/it]"
          ]
        },
        {
          "output_type": "stream",
          "name": "stdout",
          "text": [
            "Transcription of 258.wav:  You have done a big mistake.\n"
          ]
        },
        {
          "output_type": "stream",
          "name": "stderr",
          "text": [
            "/usr/local/lib/python3.10/dist-packages/whisper/__init__.py:150: FutureWarning: You are using `torch.load` with `weights_only=False` (the current default value), which uses the default pickle module implicitly. It is possible to construct malicious pickle data which will execute arbitrary code during unpickling (See https://github.com/pytorch/pytorch/blob/main/SECURITY.md#untrusted-models for more details). In a future release, the default value for `weights_only` will be flipped to `True`. This limits the functions that could be executed during unpickling. Arbitrary objects will no longer be allowed to be loaded via this mode unless they are explicitly allowlisted by the user via `torch.serialization.add_safe_globals`. We recommend you start setting `weights_only=True` for any use case where you don't have full control of the loaded file. Please open an issue on GitHub for any issues related to this experimental feature.\n",
            "  checkpoint = torch.load(fp, map_location=device)\n",
            " 94%|█████████▍| 236/250 [23:39<01:25,  6.13s/it]"
          ]
        },
        {
          "output_type": "stream",
          "name": "stdout",
          "text": [
            "Transcription of 256.wav:  You have done a big mistake.\n"
          ]
        },
        {
          "output_type": "stream",
          "name": "stderr",
          "text": [
            "/usr/local/lib/python3.10/dist-packages/whisper/__init__.py:150: FutureWarning: You are using `torch.load` with `weights_only=False` (the current default value), which uses the default pickle module implicitly. It is possible to construct malicious pickle data which will execute arbitrary code during unpickling (See https://github.com/pytorch/pytorch/blob/main/SECURITY.md#untrusted-models for more details). In a future release, the default value for `weights_only` will be flipped to `True`. This limits the functions that could be executed during unpickling. Arbitrary objects will no longer be allowed to be loaded via this mode unless they are explicitly allowlisted by the user via `torch.serialization.add_safe_globals`. We recommend you start setting `weights_only=True` for any use case where you don't have full control of the loaded file. Please open an issue on GitHub for any issues related to this experimental feature.\n",
            "  checkpoint = torch.load(fp, map_location=device)\n",
            " 95%|█████████▍| 237/250 [23:45<01:18,  6.06s/it]"
          ]
        },
        {
          "output_type": "stream",
          "name": "stdout",
          "text": [
            "Transcription of 80.wav:  You are the least fundamental person.\n"
          ]
        },
        {
          "output_type": "stream",
          "name": "stderr",
          "text": [
            "/usr/local/lib/python3.10/dist-packages/whisper/__init__.py:150: FutureWarning: You are using `torch.load` with `weights_only=False` (the current default value), which uses the default pickle module implicitly. It is possible to construct malicious pickle data which will execute arbitrary code during unpickling (See https://github.com/pytorch/pytorch/blob/main/SECURITY.md#untrusted-models for more details). In a future release, the default value for `weights_only` will be flipped to `True`. This limits the functions that could be executed during unpickling. Arbitrary objects will no longer be allowed to be loaded via this mode unless they are explicitly allowlisted by the user via `torch.serialization.add_safe_globals`. We recommend you start setting `weights_only=True` for any use case where you don't have full control of the loaded file. Please open an issue on GitHub for any issues related to this experimental feature.\n",
            "  checkpoint = torch.load(fp, map_location=device)\n",
            " 95%|█████████▌| 238/250 [23:50<01:07,  5.62s/it]"
          ]
        },
        {
          "output_type": "stream",
          "name": "stdout",
          "text": [
            "Transcription of 39.wav:  I understood everything you taught me very well.\n"
          ]
        },
        {
          "output_type": "stream",
          "name": "stderr",
          "text": [
            "/usr/local/lib/python3.10/dist-packages/whisper/__init__.py:150: FutureWarning: You are using `torch.load` with `weights_only=False` (the current default value), which uses the default pickle module implicitly. It is possible to construct malicious pickle data which will execute arbitrary code during unpickling (See https://github.com/pytorch/pytorch/blob/main/SECURITY.md#untrusted-models for more details). In a future release, the default value for `weights_only` will be flipped to `True`. This limits the functions that could be executed during unpickling. Arbitrary objects will no longer be allowed to be loaded via this mode unless they are explicitly allowlisted by the user via `torch.serialization.add_safe_globals`. We recommend you start setting `weights_only=True` for any use case where you don't have full control of the loaded file. Please open an issue on GitHub for any issues related to this experimental feature.\n",
            "  checkpoint = torch.load(fp, map_location=device)\n",
            " 96%|█████████▌| 239/250 [23:55<00:59,  5.37s/it]"
          ]
        },
        {
          "output_type": "stream",
          "name": "stdout",
          "text": [
            "Transcription of 120.wav:  You always help the person in need.\n"
          ]
        },
        {
          "output_type": "stream",
          "name": "stderr",
          "text": [
            "/usr/local/lib/python3.10/dist-packages/whisper/__init__.py:150: FutureWarning: You are using `torch.load` with `weights_only=False` (the current default value), which uses the default pickle module implicitly. It is possible to construct malicious pickle data which will execute arbitrary code during unpickling (See https://github.com/pytorch/pytorch/blob/main/SECURITY.md#untrusted-models for more details). In a future release, the default value for `weights_only` will be flipped to `True`. This limits the functions that could be executed during unpickling. Arbitrary objects will no longer be allowed to be loaded via this mode unless they are explicitly allowlisted by the user via `torch.serialization.add_safe_globals`. We recommend you start setting `weights_only=True` for any use case where you don't have full control of the loaded file. Please open an issue on GitHub for any issues related to this experimental feature.\n",
            "  checkpoint = torch.load(fp, map_location=device)\n",
            " 96%|█████████▌| 240/250 [24:00<00:53,  5.37s/it]"
          ]
        },
        {
          "output_type": "stream",
          "name": "stdout",
          "text": [
            "Transcription of 307.wav:  You cook very bad food.\n"
          ]
        },
        {
          "output_type": "stream",
          "name": "stderr",
          "text": [
            "/usr/local/lib/python3.10/dist-packages/whisper/__init__.py:150: FutureWarning: You are using `torch.load` with `weights_only=False` (the current default value), which uses the default pickle module implicitly. It is possible to construct malicious pickle data which will execute arbitrary code during unpickling (See https://github.com/pytorch/pytorch/blob/main/SECURITY.md#untrusted-models for more details). In a future release, the default value for `weights_only` will be flipped to `True`. This limits the functions that could be executed during unpickling. Arbitrary objects will no longer be allowed to be loaded via this mode unless they are explicitly allowlisted by the user via `torch.serialization.add_safe_globals`. We recommend you start setting `weights_only=True` for any use case where you don't have full control of the loaded file. Please open an issue on GitHub for any issues related to this experimental feature.\n",
            "  checkpoint = torch.load(fp, map_location=device)\n",
            " 96%|█████████▋| 241/250 [24:05<00:46,  5.16s/it]"
          ]
        },
        {
          "output_type": "stream",
          "name": "stdout",
          "text": [
            "Transcription of 217.wav:  If you work more hard, you will definitely crack the exam.\n"
          ]
        },
        {
          "output_type": "stream",
          "name": "stderr",
          "text": [
            "/usr/local/lib/python3.10/dist-packages/whisper/__init__.py:150: FutureWarning: You are using `torch.load` with `weights_only=False` (the current default value), which uses the default pickle module implicitly. It is possible to construct malicious pickle data which will execute arbitrary code during unpickling (See https://github.com/pytorch/pytorch/blob/main/SECURITY.md#untrusted-models for more details). In a future release, the default value for `weights_only` will be flipped to `True`. This limits the functions that could be executed during unpickling. Arbitrary objects will no longer be allowed to be loaded via this mode unless they are explicitly allowlisted by the user via `torch.serialization.add_safe_globals`. We recommend you start setting `weights_only=True` for any use case where you don't have full control of the loaded file. Please open an issue on GitHub for any issues related to this experimental feature.\n",
            "  checkpoint = torch.load(fp, map_location=device)\n",
            " 97%|█████████▋| 242/250 [24:11<00:42,  5.37s/it]"
          ]
        },
        {
          "output_type": "stream",
          "name": "stdout",
          "text": [
            "Transcription of 240.wav:  Your result was good but you should do more hard work.\n"
          ]
        },
        {
          "output_type": "stream",
          "name": "stderr",
          "text": [
            "/usr/local/lib/python3.10/dist-packages/whisper/__init__.py:150: FutureWarning: You are using `torch.load` with `weights_only=False` (the current default value), which uses the default pickle module implicitly. It is possible to construct malicious pickle data which will execute arbitrary code during unpickling (See https://github.com/pytorch/pytorch/blob/main/SECURITY.md#untrusted-models for more details). In a future release, the default value for `weights_only` will be flipped to `True`. This limits the functions that could be executed during unpickling. Arbitrary objects will no longer be allowed to be loaded via this mode unless they are explicitly allowlisted by the user via `torch.serialization.add_safe_globals`. We recommend you start setting `weights_only=True` for any use case where you don't have full control of the loaded file. Please open an issue on GitHub for any issues related to this experimental feature.\n",
            "  checkpoint = torch.load(fp, map_location=device)\n",
            " 97%|█████████▋| 243/250 [24:15<00:35,  5.13s/it]"
          ]
        },
        {
          "output_type": "stream",
          "name": "stdout",
          "text": [
            "Transcription of 255.wav:  You are a very lazy person.\n"
          ]
        },
        {
          "output_type": "stream",
          "name": "stderr",
          "text": [
            "/usr/local/lib/python3.10/dist-packages/whisper/__init__.py:150: FutureWarning: You are using `torch.load` with `weights_only=False` (the current default value), which uses the default pickle module implicitly. It is possible to construct malicious pickle data which will execute arbitrary code during unpickling (See https://github.com/pytorch/pytorch/blob/main/SECURITY.md#untrusted-models for more details). In a future release, the default value for `weights_only` will be flipped to `True`. This limits the functions that could be executed during unpickling. Arbitrary objects will no longer be allowed to be loaded via this mode unless they are explicitly allowlisted by the user via `torch.serialization.add_safe_globals`. We recommend you start setting `weights_only=True` for any use case where you don't have full control of the loaded file. Please open an issue on GitHub for any issues related to this experimental feature.\n",
            "  checkpoint = torch.load(fp, map_location=device)\n",
            " 98%|█████████▊| 244/250 [24:20<00:29,  4.95s/it]"
          ]
        },
        {
          "output_type": "stream",
          "name": "stdout",
          "text": [
            "Transcription of 91.wav:  you have done a great work\n"
          ]
        },
        {
          "output_type": "stream",
          "name": "stderr",
          "text": [
            "/usr/local/lib/python3.10/dist-packages/whisper/__init__.py:150: FutureWarning: You are using `torch.load` with `weights_only=False` (the current default value), which uses the default pickle module implicitly. It is possible to construct malicious pickle data which will execute arbitrary code during unpickling (See https://github.com/pytorch/pytorch/blob/main/SECURITY.md#untrusted-models for more details). In a future release, the default value for `weights_only` will be flipped to `True`. This limits the functions that could be executed during unpickling. Arbitrary objects will no longer be allowed to be loaded via this mode unless they are explicitly allowlisted by the user via `torch.serialization.add_safe_globals`. We recommend you start setting `weights_only=True` for any use case where you don't have full control of the loaded file. Please open an issue on GitHub for any issues related to this experimental feature.\n",
            "  checkpoint = torch.load(fp, map_location=device)\n",
            " 98%|█████████▊| 245/250 [24:26<00:26,  5.23s/it]"
          ]
        },
        {
          "output_type": "stream",
          "name": "stdout",
          "text": [
            "Transcription of 215.wav:  You should come up.\n"
          ]
        },
        {
          "output_type": "stream",
          "name": "stderr",
          "text": [
            "/usr/local/lib/python3.10/dist-packages/whisper/__init__.py:150: FutureWarning: You are using `torch.load` with `weights_only=False` (the current default value), which uses the default pickle module implicitly. It is possible to construct malicious pickle data which will execute arbitrary code during unpickling (See https://github.com/pytorch/pytorch/blob/main/SECURITY.md#untrusted-models for more details). In a future release, the default value for `weights_only` will be flipped to `True`. This limits the functions that could be executed during unpickling. Arbitrary objects will no longer be allowed to be loaded via this mode unless they are explicitly allowlisted by the user via `torch.serialization.add_safe_globals`. We recommend you start setting `weights_only=True` for any use case where you don't have full control of the loaded file. Please open an issue on GitHub for any issues related to this experimental feature.\n",
            "  checkpoint = torch.load(fp, map_location=device)\n",
            " 98%|█████████▊| 246/250 [24:30<00:20,  5.04s/it]"
          ]
        },
        {
          "output_type": "stream",
          "name": "stdout",
          "text": [
            "Transcription of 319.wav:  I am very much ashamed of you.\n"
          ]
        },
        {
          "output_type": "stream",
          "name": "stderr",
          "text": [
            "/usr/local/lib/python3.10/dist-packages/whisper/__init__.py:150: FutureWarning: You are using `torch.load` with `weights_only=False` (the current default value), which uses the default pickle module implicitly. It is possible to construct malicious pickle data which will execute arbitrary code during unpickling (See https://github.com/pytorch/pytorch/blob/main/SECURITY.md#untrusted-models for more details). In a future release, the default value for `weights_only` will be flipped to `True`. This limits the functions that could be executed during unpickling. Arbitrary objects will no longer be allowed to be loaded via this mode unless they are explicitly allowlisted by the user via `torch.serialization.add_safe_globals`. We recommend you start setting `weights_only=True` for any use case where you don't have full control of the loaded file. Please open an issue on GitHub for any issues related to this experimental feature.\n",
            "  checkpoint = torch.load(fp, map_location=device)\n",
            " 99%|█████████▉| 247/250 [24:35<00:14,  4.97s/it]"
          ]
        },
        {
          "output_type": "stream",
          "name": "stdout",
          "text": [
            "Transcription of 228.wav:  The project was good but it needs more modification.\n"
          ]
        },
        {
          "output_type": "stream",
          "name": "stderr",
          "text": [
            "/usr/local/lib/python3.10/dist-packages/whisper/__init__.py:150: FutureWarning: You are using `torch.load` with `weights_only=False` (the current default value), which uses the default pickle module implicitly. It is possible to construct malicious pickle data which will execute arbitrary code during unpickling (See https://github.com/pytorch/pytorch/blob/main/SECURITY.md#untrusted-models for more details). In a future release, the default value for `weights_only` will be flipped to `True`. This limits the functions that could be executed during unpickling. Arbitrary objects will no longer be allowed to be loaded via this mode unless they are explicitly allowlisted by the user via `torch.serialization.add_safe_globals`. We recommend you start setting `weights_only=True` for any use case where you don't have full control of the loaded file. Please open an issue on GitHub for any issues related to this experimental feature.\n",
            "  checkpoint = torch.load(fp, map_location=device)\n",
            " 99%|█████████▉| 248/250 [24:40<00:10,  5.10s/it]"
          ]
        },
        {
          "output_type": "stream",
          "name": "stdout",
          "text": [
            "Transcription of 235.wav:  You should learn more good manners.\n"
          ]
        },
        {
          "output_type": "stream",
          "name": "stderr",
          "text": [
            "/usr/local/lib/python3.10/dist-packages/whisper/__init__.py:150: FutureWarning: You are using `torch.load` with `weights_only=False` (the current default value), which uses the default pickle module implicitly. It is possible to construct malicious pickle data which will execute arbitrary code during unpickling (See https://github.com/pytorch/pytorch/blob/main/SECURITY.md#untrusted-models for more details). In a future release, the default value for `weights_only` will be flipped to `True`. This limits the functions that could be executed during unpickling. Arbitrary objects will no longer be allowed to be loaded via this mode unless they are explicitly allowlisted by the user via `torch.serialization.add_safe_globals`. We recommend you start setting `weights_only=True` for any use case where you don't have full control of the loaded file. Please open an issue on GitHub for any issues related to this experimental feature.\n",
            "  checkpoint = torch.load(fp, map_location=device)\n",
            "100%|█████████▉| 249/250 [24:45<00:04,  4.97s/it]"
          ]
        },
        {
          "output_type": "stream",
          "name": "stdout",
          "text": [
            "Transcription of 137.wav:  That sounds great but please tell me more on this.\n"
          ]
        },
        {
          "output_type": "stream",
          "name": "stderr",
          "text": [
            "/usr/local/lib/python3.10/dist-packages/whisper/__init__.py:150: FutureWarning: You are using `torch.load` with `weights_only=False` (the current default value), which uses the default pickle module implicitly. It is possible to construct malicious pickle data which will execute arbitrary code during unpickling (See https://github.com/pytorch/pytorch/blob/main/SECURITY.md#untrusted-models for more details). In a future release, the default value for `weights_only` will be flipped to `True`. This limits the functions that could be executed during unpickling. Arbitrary objects will no longer be allowed to be loaded via this mode unless they are explicitly allowlisted by the user via `torch.serialization.add_safe_globals`. We recommend you start setting `weights_only=True` for any use case where you don't have full control of the loaded file. Please open an issue on GitHub for any issues related to this experimental feature.\n",
            "  checkpoint = torch.load(fp, map_location=device)\n",
            "100%|██████████| 250/250 [24:52<00:00,  5.97s/it]"
          ]
        },
        {
          "output_type": "stream",
          "name": "stdout",
          "text": [
            "Transcription of 353.wav:  you have noticed the擊��ำ c\n"
          ]
        },
        {
          "output_type": "stream",
          "name": "stderr",
          "text": [
            "\n"
          ]
        }
      ]
    },
    {
      "cell_type": "code",
      "source": [
        "# Load datasets\n",
        "transcriptions = pd.read_csv(\"/content/transcription_dataset.csv\")  # Contains filename, transcription\n",
        "transcriptions.columns = ['Filename', 'transcription']\n",
        "sentiments = pd.read_csv(\"/content/TRAIN.csv\")  # Contains filename, sentiment\n",
        "\n"
      ],
      "metadata": {
        "id": "q0V3cjJo0g8c"
      },
      "id": "q0V3cjJo0g8c",
      "execution_count": null,
      "outputs": []
    },
    {
      "cell_type": "code",
      "source": [
        "transcriptions.info()"
      ],
      "metadata": {
        "colab": {
          "base_uri": "https://localhost:8080/"
        },
        "id": "2cVqZ8nW_l7S",
        "outputId": "df870b02-cab6-4727-f8c7-c8a66aec30a9"
      },
      "id": "2cVqZ8nW_l7S",
      "execution_count": null,
      "outputs": [
        {
          "output_type": "stream",
          "name": "stdout",
          "text": [
            "<class 'pandas.core.frame.DataFrame'>\n",
            "RangeIndex: 250 entries, 0 to 249\n",
            "Data columns (total 2 columns):\n",
            " #   Column         Non-Null Count  Dtype \n",
            "---  ------         --------------  ----- \n",
            " 0   Filename       250 non-null    object\n",
            " 1   transcription  250 non-null    object\n",
            "dtypes: object(2)\n",
            "memory usage: 4.0+ KB\n"
          ]
        }
      ]
    },
    {
      "cell_type": "code",
      "source": [
        "# Merge datasets on 'filename'\n",
        "data = pd.merge(transcriptions, sentiments, on=\"Filename\")\n"
      ],
      "metadata": {
        "id": "Ojz4Y6cr0sgX"
      },
      "id": "Ojz4Y6cr0sgX",
      "execution_count": null,
      "outputs": []
    },
    {
      "cell_type": "code",
      "source": [
        "data.info()"
      ],
      "metadata": {
        "colab": {
          "base_uri": "https://localhost:8080/"
        },
        "id": "CL35jg6P_9e8",
        "outputId": "844cf36e-7f7b-4e7b-bea0-ceb6f85924d1"
      },
      "id": "CL35jg6P_9e8",
      "execution_count": null,
      "outputs": [
        {
          "output_type": "stream",
          "name": "stdout",
          "text": [
            "<class 'pandas.core.frame.DataFrame'>\n",
            "RangeIndex: 250 entries, 0 to 249\n",
            "Data columns (total 3 columns):\n",
            " #   Column         Non-Null Count  Dtype \n",
            "---  ------         --------------  ----- \n",
            " 0   Filename       250 non-null    object\n",
            " 1   transcription  250 non-null    object\n",
            " 2   Class          250 non-null    object\n",
            "dtypes: object(3)\n",
            "memory usage: 6.0+ KB\n"
          ]
        }
      ]
    },
    {
      "cell_type": "code",
      "source": [
        "# Preprocess the data\n",
        "data.dropna(inplace=True)  # Drop rows with missing values\n",
        "label_encoder = LabelEncoder()\n",
        "data[\"sentiment_label\"] = label_encoder.fit_transform(data[\"Class\"])\n"
      ],
      "metadata": {
        "id": "aBzjmqoG0v6s"
      },
      "id": "aBzjmqoG0v6s",
      "execution_count": null,
      "outputs": []
    },
    {
      "cell_type": "code",
      "source": [
        "data.to_csv(\"sentiment_data.csv\", index=False)"
      ],
      "metadata": {
        "id": "KgFQAtPoo8n-"
      },
      "id": "KgFQAtPoo8n-",
      "execution_count": null,
      "outputs": []
    },
    {
      "cell_type": "code",
      "source": [
        "# Train-test split\n",
        "train_texts, test_texts, train_labels, test_labels = train_test_split(\n",
        "    data[\"transcription\"].tolist(),\n",
        "    data[\"sentiment_label\"].tolist(),\n",
        "    test_size=0.2,\n",
        "    random_state=42\n",
        ")\n"
      ],
      "metadata": {
        "id": "t1P-YYsk0340"
      },
      "id": "t1P-YYsk0340",
      "execution_count": null,
      "outputs": []
    },
    {
      "cell_type": "code",
      "source": [
        "# Tokenization\n",
        "tokenizer = BertTokenizer.from_pretrained(\"bert-base-uncased\")\n",
        "train_encodings = tokenizer(train_texts, truncation=True, padding=True, max_length=512)\n",
        "test_encodings = tokenizer(test_texts, truncation=True, padding=True, max_length=512)\n"
      ],
      "metadata": {
        "colab": {
          "base_uri": "https://localhost:8080/",
          "height": 269,
          "referenced_widgets": [
            "fc949a6514784ca6b821ecd6467638f8",
            "3e1592ac867445caa86d020b43b45665",
            "1e644cb48d88466198b2bab9a4a71277",
            "a4fc59eb732c4e84a47c34265ef7f15d",
            "fa16c7f831184352942d726cd1916b2f",
            "ea161e1a63cb499893adbc0b546b031d",
            "03a41dac86d7476ea28d14e6a7a80441",
            "bb44b42bca91437c89b2969f3e975317",
            "13eb0a42b54d4e7d89abe1d7b6f5f33e",
            "56202be968174a7d9ec33f1c1f66a615",
            "32c73a1c0a22407c9234876b7fb174af",
            "f81c17cb103544ed9cd46fc02f12ccf4",
            "8261ed81b4664a8b9ed9ab4e91e4ad55",
            "97578f87b584405ba79cc758909e9b8f",
            "a23eb62313c64b8a8038f7e21fb2c05d",
            "9bb4daca2a6649fbb89620b7fad8ef41",
            "408c67f5a59d4ea3b159041fb0170e2c",
            "55f7ccff6b59484ca755c3a02e0bb110",
            "32dfcc03caad40b4aae8f8c23d937076",
            "9072d50846ad4b9e9ab1312fb4faf065",
            "8a1a432ef9504ca690435efe1b5c79b3",
            "9722686faeeb4086a72fcab47a6e199b",
            "c58ebebbaeb14c168e5bf26927ca6054",
            "d71bc5c2d85949b68130ec5ae9414d05",
            "4df9fc3d862f495fb64a3611806a21f2",
            "9c562bc3011a4a4a8da7add0a74a1405",
            "1157273c130c490e8646c56dcf4b5adb",
            "d18270a553494d1cb77016a1536bdf2f",
            "cf081b673bed4b349eb3da9af4951206",
            "726b4b13eafa4a60a516045e58b686ce",
            "7a2a2c3bfa614e8b965fe256eb85484f",
            "d2e1d18cf8e442df8b78c0f7fb87c10b",
            "cda658e181d64aeb9c8569d7b8ee7f9a",
            "b3a1a8fcc6df464a9b99331173a189a9",
            "1c16101ac9854256a7c62815444e734a",
            "24b9c4bd55104061b4e7749f1ba32c36",
            "692065f9253f4dada241e6703a311922",
            "5350276087b648eba119a8eff59befba",
            "95ab96a5239c4c76bda0180caf410d5d",
            "ffc3ab4641af4a59929f5cab4c7b1704",
            "aa158a1f30694a5f841ead06a383d53e",
            "e332965d2df74f15847caaf0f40c4cb1",
            "1df62ef5872341df99cfda8c5b4ad235",
            "51cc28dc759c4aaf89e4735bb082e2e6"
          ]
        },
        "id": "zeS5tEH208_D",
        "outputId": "859f062a-760b-4753-a136-70bbe6ba6d3c"
      },
      "id": "zeS5tEH208_D",
      "execution_count": null,
      "outputs": [
        {
          "output_type": "stream",
          "name": "stderr",
          "text": [
            "/usr/local/lib/python3.10/dist-packages/huggingface_hub/utils/_auth.py:94: UserWarning: \n",
            "The secret `HF_TOKEN` does not exist in your Colab secrets.\n",
            "To authenticate with the Hugging Face Hub, create a token in your settings tab (https://huggingface.co/settings/tokens), set it as secret in your Google Colab and restart your session.\n",
            "You will be able to reuse this secret in all of your notebooks.\n",
            "Please note that authentication is recommended but still optional to access public models or datasets.\n",
            "  warnings.warn(\n"
          ]
        },
        {
          "output_type": "display_data",
          "data": {
            "text/plain": [
              "tokenizer_config.json:   0%|          | 0.00/48.0 [00:00<?, ?B/s]"
            ],
            "application/vnd.jupyter.widget-view+json": {
              "version_major": 2,
              "version_minor": 0,
              "model_id": "fc949a6514784ca6b821ecd6467638f8"
            }
          },
          "metadata": {}
        },
        {
          "output_type": "display_data",
          "data": {
            "text/plain": [
              "vocab.txt:   0%|          | 0.00/232k [00:00<?, ?B/s]"
            ],
            "application/vnd.jupyter.widget-view+json": {
              "version_major": 2,
              "version_minor": 0,
              "model_id": "f81c17cb103544ed9cd46fc02f12ccf4"
            }
          },
          "metadata": {}
        },
        {
          "output_type": "display_data",
          "data": {
            "text/plain": [
              "tokenizer.json:   0%|          | 0.00/466k [00:00<?, ?B/s]"
            ],
            "application/vnd.jupyter.widget-view+json": {
              "version_major": 2,
              "version_minor": 0,
              "model_id": "c58ebebbaeb14c168e5bf26927ca6054"
            }
          },
          "metadata": {}
        },
        {
          "output_type": "display_data",
          "data": {
            "text/plain": [
              "config.json:   0%|          | 0.00/570 [00:00<?, ?B/s]"
            ],
            "application/vnd.jupyter.widget-view+json": {
              "version_major": 2,
              "version_minor": 0,
              "model_id": "b3a1a8fcc6df464a9b99331173a189a9"
            }
          },
          "metadata": {}
        }
      ]
    },
    {
      "cell_type": "code",
      "source": [
        "# Convert to Hugging Face Dataset format\n",
        "train_dataset = Dataset.from_dict({\"input_ids\": train_encodings[\"input_ids\"],\n",
        "                                   \"attention_mask\": train_encodings[\"attention_mask\"],\n",
        "                                   \"labels\": train_labels})\n",
        "test_dataset = Dataset.from_dict({\"input_ids\": test_encodings[\"input_ids\"],\n",
        "                                  \"attention_mask\": test_encodings[\"attention_mask\"],\n",
        "                                  \"labels\": test_labels})\n"
      ],
      "metadata": {
        "id": "PwpbHBjh1CBN"
      },
      "id": "PwpbHBjh1CBN",
      "execution_count": null,
      "outputs": []
    },
    {
      "cell_type": "code",
      "source": [
        "# Load pre-trained BERT model for sequence classification\n",
        "model = BertForSequenceClassification.from_pretrained(\"bert-base-uncased\", num_labels=len(label_encoder.classes_))\n",
        "\n"
      ],
      "metadata": {
        "colab": {
          "base_uri": "https://localhost:8080/",
          "height": 104,
          "referenced_widgets": [
            "e25f8c885a234452ae5a6cb634d6acbc",
            "7065958a5a284ba98bbac2a8d52e2295",
            "dbde5b8c2cce443bb224dc24ce02b0d2",
            "08dc6cf6d37b448793bd69b83909ac5e",
            "5cb3979a04df4e1fbef902cb0c04ed08",
            "ace05a724bbc4193afb0f1838b74728f",
            "6e9d2ab6107b4b349446aeeb91b9d3ad",
            "aa8314e6bf1c4488a8ce9a87fd475258",
            "8f30b30689e548b4897afca20f87b536",
            "42906019d7574f9ea2e19c65a5310a4b",
            "2502f7b884be42248fd4ecff02187429"
          ]
        },
        "id": "M8fPYDiY1FAe",
        "outputId": "37b72e67-642b-454e-93c2-be9fc5e6a73c"
      },
      "id": "M8fPYDiY1FAe",
      "execution_count": null,
      "outputs": [
        {
          "output_type": "display_data",
          "data": {
            "text/plain": [
              "model.safetensors:   0%|          | 0.00/440M [00:00<?, ?B/s]"
            ],
            "application/vnd.jupyter.widget-view+json": {
              "version_major": 2,
              "version_minor": 0,
              "model_id": "e25f8c885a234452ae5a6cb634d6acbc"
            }
          },
          "metadata": {}
        },
        {
          "output_type": "stream",
          "name": "stderr",
          "text": [
            "Some weights of BertForSequenceClassification were not initialized from the model checkpoint at bert-base-uncased and are newly initialized: ['classifier.bias', 'classifier.weight']\n",
            "You should probably TRAIN this model on a down-stream task to be able to use it for predictions and inference.\n"
          ]
        }
      ]
    },
    {
      "cell_type": "code",
      "source": [
        "# Training arguments\n",
        "training_args = TrainingArguments(\n",
        "    output_dir=\"./results\",\n",
        "    evaluation_strategy=\"epoch\",\n",
        "    save_strategy=\"epoch\",\n",
        "    learning_rate=2e-5,\n",
        "    per_device_train_batch_size=16,\n",
        "    per_device_eval_batch_size=16,\n",
        "    num_train_epochs=5,\n",
        "    weight_decay=0.01,\n",
        "    logging_dir=\"./logs\",\n",
        "    logging_steps=10,\n",
        "    report_to=\"none\"  # Enable logging to Weights & Biases\n",
        ")\n",
        "\n",
        "# Trainer setup\n",
        "trainer = Trainer(\n",
        "    model=model,\n",
        "    args=training_args,\n",
        "    train_dataset=train_dataset,\n",
        "    eval_dataset=test_dataset\n",
        ")\n",
        "\n"
      ],
      "metadata": {
        "colab": {
          "base_uri": "https://localhost:8080/"
        },
        "id": "dxdUyAA-1OgV",
        "outputId": "4176f7d5-2632-49a9-91c1-4952675ab6f3"
      },
      "id": "dxdUyAA-1OgV",
      "execution_count": null,
      "outputs": [
        {
          "output_type": "stream",
          "name": "stderr",
          "text": [
            "/usr/local/lib/python3.10/dist-packages/transformers/training_args.py:1568: FutureWarning: `evaluation_strategy` is deprecated and will be removed in version 4.46 of 🤗 Transformers. Use `eval_strategy` instead\n",
            "  warnings.warn(\n"
          ]
        }
      ]
    },
    {
      "cell_type": "code",
      "source": [
        "# Train the model\n",
        "trainer.train()\n",
        "\n"
      ],
      "metadata": {
        "colab": {
          "base_uri": "https://localhost:8080/",
          "height": 267
        },
        "id": "0-ZgbIUyARmB",
        "outputId": "7b3832d0-0d83-452f-f383-ecfff7a4375c"
      },
      "id": "0-ZgbIUyARmB",
      "execution_count": null,
      "outputs": [
        {
          "output_type": "display_data",
          "data": {
            "text/plain": [
              "<IPython.core.display.HTML object>"
            ],
            "text/html": [
              "\n",
              "    <div>\n",
              "      \n",
              "      <progress value='65' max='65' style='width:300px; height:20px; vertical-align: middle;'></progress>\n",
              "      [65/65 00:46, Epoch 5/5]\n",
              "    </div>\n",
              "    <table border=\"1\" class=\"dataframe\">\n",
              "  <thead>\n",
              " <tr style=\"text-align: left;\">\n",
              "      <th>Epoch</th>\n",
              "      <th>Training Loss</th>\n",
              "      <th>Validation Loss</th>\n",
              "    </tr>\n",
              "  </thead>\n",
              "  <tbody>\n",
              "    <tr>\n",
              "      <td>1</td>\n",
              "      <td>1.075100</td>\n",
              "      <td>0.898639</td>\n",
              "    </tr>\n",
              "    <tr>\n",
              "      <td>2</td>\n",
              "      <td>0.941500</td>\n",
              "      <td>0.770397</td>\n",
              "    </tr>\n",
              "    <tr>\n",
              "      <td>3</td>\n",
              "      <td>0.773900</td>\n",
              "      <td>0.660438</td>\n",
              "    </tr>\n",
              "    <tr>\n",
              "      <td>4</td>\n",
              "      <td>0.598500</td>\n",
              "      <td>0.630065</td>\n",
              "    </tr>\n",
              "    <tr>\n",
              "      <td>5</td>\n",
              "      <td>0.540300</td>\n",
              "      <td>0.629252</td>\n",
              "    </tr>\n",
              "  </tbody>\n",
              "</table><p>"
            ]
          },
          "metadata": {}
        },
        {
          "output_type": "execute_result",
          "data": {
            "text/plain": [
              "TrainOutput(global_step=65, training_loss=0.7526580333709717, metrics={'train_runtime': 47.2646, 'train_samples_per_second': 21.157, 'train_steps_per_second': 1.375, 'total_flos': 14389015032000.0, 'train_loss': 0.7526580333709717, 'epoch': 5.0})"
            ]
          },
          "metadata": {},
          "execution_count": 20
        }
      ]
    },
    {
      "cell_type": "code",
      "source": [
        "# Save the model and tokenizer\n",
        "model.save_pretrained(\"./sentiment_model\")\n",
        "tokenizer.save_pretrained(\"./sentiment_model\")"
      ],
      "metadata": {
        "colab": {
          "base_uri": "https://localhost:8080/"
        },
        "id": "ekVHAyfzBAET",
        "outputId": "01920d81-f865-4741-fb34-122201e63de1"
      },
      "id": "ekVHAyfzBAET",
      "execution_count": null,
      "outputs": [
        {
          "output_type": "execute_result",
          "data": {
            "text/plain": [
              "('./sentiment_model/tokenizer_config.json',\n",
              " './sentiment_model/special_tokens_map.json',\n",
              " './sentiment_model/vocab.txt',\n",
              " './sentiment_model/added_tokens.json')"
            ]
          },
          "metadata": {},
          "execution_count": 21
        }
      ]
    },
    {
      "cell_type": "code",
      "source": [
        "results = trainer.evaluate()\n",
        "print(results)"
      ],
      "metadata": {
        "colab": {
          "base_uri": "https://localhost:8080/",
          "height": 54
        },
        "id": "p_Bz8fCUBJmJ",
        "outputId": "cae88ca0-a679-429b-c2f2-6eed0eee2e18"
      },
      "id": "p_Bz8fCUBJmJ",
      "execution_count": null,
      "outputs": [
        {
          "output_type": "display_data",
          "data": {
            "text/plain": [
              "<IPython.core.display.HTML object>"
            ],
            "text/html": [
              "\n",
              "    <div>\n",
              "      \n",
              "      <progress value='4' max='4' style='width:300px; height:20px; vertical-align: middle;'></progress>\n",
              "      [4/4 00:00]\n",
              "    </div>\n",
              "    "
            ]
          },
          "metadata": {}
        },
        {
          "output_type": "stream",
          "name": "stdout",
          "text": [
            "{'eval_loss': 0.6292515397071838, 'eval_runtime': 0.1364, 'eval_samples_per_second': 366.52, 'eval_steps_per_second': 29.322, 'epoch': 5.0}\n"
          ]
        }
      ]
    },
    {
      "cell_type": "code",
      "source": [
        "def predict_sentiment(text):\n",
        "    inputs = tokenizer(text, return_tensors=\"pt\", truncation=True, padding=True, max_length=512)\n",
        "    # Move inputs to the same device as the model\n",
        "    inputs = {k: v.to(model.device) for k, v in inputs.items()}  # Move inputs to the model's device\n",
        "    outputs = model(**inputs)\n",
        "    predictions = outputs.logits.argmax(dim=-1)\n",
        "    return label_encoder.inverse_transform(predictions.tolist())\n",
        "\n",
        "print(predict_sentiment(\"The product is bad.\"))"
      ],
      "metadata": {
        "colab": {
          "base_uri": "https://localhost:8080/"
        },
        "id": "NXnivzh0BPna",
        "outputId": "7a2616f5-d656-41b2-ba88-3c377b7c8241"
      },
      "id": "NXnivzh0BPna",
      "execution_count": null,
      "outputs": [
        {
          "output_type": "stream",
          "name": "stdout",
          "text": [
            "['Negative']\n"
          ]
        }
      ]
    },
    {
      "cell_type": "code",
      "source": [
        "# prompt: # Compare predictions with ground truth (if available)\n",
        "\n",
        "# Assuming 'test_labels' contains the ground truth labels and 'trainer' is your trained model.\n",
        "# Get predictions on the test set\n",
        "predictions = trainer.predict(test_dataset)\n",
        "predicted_labels = np.argmax(predictions.predictions, axis=1)\n",
        "\n",
        "# Compare predictions with ground truth\n",
        "from sklearn.metrics import accuracy_score, classification_report\n",
        "\n",
        "accuracy = accuracy_score(test_labels, predicted_labels)\n",
        "print(f\"Accuracy: {accuracy}\")\n",
        "\n",
        "print(classification_report(test_labels, predicted_labels, target_names=label_encoder.classes_))"
      ],
      "metadata": {
        "colab": {
          "base_uri": "https://localhost:8080/",
          "height": 208
        },
        "id": "4BMUlV7xXk1i",
        "outputId": "3d659cfa-0b35-4fbb-d5e1-9ac5ae7fbacc"
      },
      "id": "4BMUlV7xXk1i",
      "execution_count": null,
      "outputs": [
        {
          "output_type": "display_data",
          "data": {
            "text/plain": [
              "<IPython.core.display.HTML object>"
            ],
            "text/html": []
          },
          "metadata": {}
        },
        {
          "output_type": "stream",
          "name": "stdout",
          "text": [
            "Accuracy: 0.8\n",
            "              precision    recall  f1-score   support\n",
            "\n",
            "    Negative       0.77      0.62      0.69        16\n",
            "     Neutral       0.95      0.95      0.95        19\n",
            "    Positive       0.67      0.80      0.73        15\n",
            "\n",
            "    accuracy                           0.80        50\n",
            "   macro avg       0.79      0.79      0.79        50\n",
            "weighted avg       0.81      0.80      0.80        50\n",
            "\n"
          ]
        }
      ]
    },
    {
      "cell_type": "code",
      "source": [
        "def select_random_file(directory_path):\n",
        "    try:\n",
        "        files = [f for f in os.listdir(directory_path) if os.path.isfile(os.path.join(directory_path, f))]\n",
        "        if not files:\n",
        "            return None\n",
        "        return os.path.join(directory_path, random.choice(files))\n",
        "    except Exception as e:\n",
        "        print(f\"An error occurred: {e}\")\n",
        "        return None\n",
        "\n",
        "directory = \"TEST/\"\n"
      ],
      "metadata": {
        "id": "N-gpvBTkEU9D"
      },
      "id": "N-gpvBTkEU9D",
      "execution_count": null,
      "outputs": []
    },
    {
      "cell_type": "code",
      "source": [
        "random_file = select_random_file(directory)\n",
        "print(random_file)\n",
        "result = Speech2Text(random_file)\n",
        "display(Audio(random_file))\n",
        "print(result,predict_sentiment(result))"
      ],
      "metadata": {
        "colab": {
          "base_uri": "https://localhost:8080/",
          "height": 165
        },
        "id": "MGeB53n2FFaS",
        "outputId": "9af2a2ef-4993-4a04-f9c6-58f8c3105309"
      },
      "id": "MGeB53n2FFaS",
      "execution_count": null,
      "outputs": [
        {
          "output_type": "stream",
          "name": "stdout",
          "text": [
            "TEST/312.wav\n"
          ]
        },
        {
          "output_type": "stream",
          "name": "stderr",
          "text": [
            "/usr/local/lib/python3.10/dist-packages/whisper/__init__.py:150: FutureWarning: You are using `torch.load` with `weights_only=False` (the current default value), which uses the default pickle module implicitly. It is possible to construct malicious pickle data which will execute arbitrary code during unpickling (See https://github.com/pytorch/pytorch/blob/main/SECURITY.md#untrusted-models for more details). In a future release, the default value for `weights_only` will be flipped to `True`. This limits the functions that could be executed during unpickling. Arbitrary objects will no longer be allowed to be loaded via this mode unless they are explicitly allowlisted by the user via `torch.serialization.add_safe_globals`. We recommend you start setting `weights_only=True` for any use case where you don't have full control of the loaded file. Please open an issue on GitHub for any issues related to this experimental feature.\n",
            "  checkpoint = torch.load(fp, map_location=device)\n"
          ]
        },
        {
          "output_type": "display_data",
          "data": {
            "text/plain": [
              "<IPython.lib.display.Audio object>"
            ],
            "text/html": [
              "\n",
              "                <audio  controls=\"controls\" >\n",
              "                    <source src=\"data:audio/x-wav;base64,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\" type=\"audio/x-wav\" />\n",
              "                    Your browser does not support the audio element.\n",
              "                </audio>\n",
              "              "
            ]
          },
          "metadata": {}
        },
        {
          "output_type": "stream",
          "name": "stdout",
          "text": [
            " You are fired. ['Negative']\n"
          ]
        }
      ]
    }
  ],
  "metadata": {
    "colab": {
      "provenance": [],
      "gpuType": "T4"
    },
    "language_info": {
      "name": "python"
    },
    "kernelspec": {
      "name": "python3",
      "display_name": "Python 3"
    },
    "accelerator": "GPU",
    "widgets": {
      "application/vnd.jupyter.widget-state+json": {
        "fc949a6514784ca6b821ecd6467638f8": {
          "model_module": "@jupyter-widgets/controls",
          "model_name": "HBoxModel",
          "model_module_version": "1.5.0",
          "state": {
            "_dom_classes": [],
            "_model_module": "@jupyter-widgets/controls",
            "_model_module_version": "1.5.0",
            "_model_name": "HBoxModel",
            "_view_count": null,
            "_view_module": "@jupyter-widgets/controls",
            "_view_module_version": "1.5.0",
            "_view_name": "HBoxView",
            "box_style": "",
            "children": [
              "IPY_MODEL_3e1592ac867445caa86d020b43b45665",
              "IPY_MODEL_1e644cb48d88466198b2bab9a4a71277",
              "IPY_MODEL_a4fc59eb732c4e84a47c34265ef7f15d"
            ],
            "layout": "IPY_MODEL_fa16c7f831184352942d726cd1916b2f"
          }
        },
        "3e1592ac867445caa86d020b43b45665": {
          "model_module": "@jupyter-widgets/controls",
          "model_name": "HTMLModel",
          "model_module_version": "1.5.0",
          "state": {
            "_dom_classes": [],
            "_model_module": "@jupyter-widgets/controls",
            "_model_module_version": "1.5.0",
            "_model_name": "HTMLModel",
            "_view_count": null,
            "_view_module": "@jupyter-widgets/controls",
            "_view_module_version": "1.5.0",
            "_view_name": "HTMLView",
            "description": "",
            "description_tooltip": null,
            "layout": "IPY_MODEL_ea161e1a63cb499893adbc0b546b031d",
            "placeholder": "​",
            "style": "IPY_MODEL_03a41dac86d7476ea28d14e6a7a80441",
            "value": "tokenizer_config.json: 100%"
          }
        },
        "1e644cb48d88466198b2bab9a4a71277": {
          "model_module": "@jupyter-widgets/controls",
          "model_name": "FloatProgressModel",
          "model_module_version": "1.5.0",
          "state": {
            "_dom_classes": [],
            "_model_module": "@jupyter-widgets/controls",
            "_model_module_version": "1.5.0",
            "_model_name": "FloatProgressModel",
            "_view_count": null,
            "_view_module": "@jupyter-widgets/controls",
            "_view_module_version": "1.5.0",
            "_view_name": "ProgressView",
            "bar_style": "success",
            "description": "",
            "description_tooltip": null,
            "layout": "IPY_MODEL_bb44b42bca91437c89b2969f3e975317",
            "max": 48,
            "min": 0,
            "orientation": "horizontal",
            "style": "IPY_MODEL_13eb0a42b54d4e7d89abe1d7b6f5f33e",
            "value": 48
          }
        },
        "a4fc59eb732c4e84a47c34265ef7f15d": {
          "model_module": "@jupyter-widgets/controls",
          "model_name": "HTMLModel",
          "model_module_version": "1.5.0",
          "state": {
            "_dom_classes": [],
            "_model_module": "@jupyter-widgets/controls",
            "_model_module_version": "1.5.0",
            "_model_name": "HTMLModel",
            "_view_count": null,
            "_view_module": "@jupyter-widgets/controls",
            "_view_module_version": "1.5.0",
            "_view_name": "HTMLView",
            "description": "",
            "description_tooltip": null,
            "layout": "IPY_MODEL_56202be968174a7d9ec33f1c1f66a615",
            "placeholder": "​",
            "style": "IPY_MODEL_32c73a1c0a22407c9234876b7fb174af",
            "value": " 48.0/48.0 [00:00&lt;00:00, 3.19kB/s]"
          }
        },
        "fa16c7f831184352942d726cd1916b2f": {
          "model_module": "@jupyter-widgets/base",
          "model_name": "LayoutModel",
          "model_module_version": "1.2.0",
          "state": {
            "_model_module": "@jupyter-widgets/base",
            "_model_module_version": "1.2.0",
            "_model_name": "LayoutModel",
            "_view_count": null,
            "_view_module": "@jupyter-widgets/base",
            "_view_module_version": "1.2.0",
            "_view_name": "LayoutView",
            "align_content": null,
            "align_items": null,
            "align_self": null,
            "border": null,
            "bottom": null,
            "display": null,
            "flex": null,
            "flex_flow": null,
            "grid_area": null,
            "grid_auto_columns": null,
            "grid_auto_flow": null,
            "grid_auto_rows": null,
            "grid_column": null,
            "grid_gap": null,
            "grid_row": null,
            "grid_template_areas": null,
            "grid_template_columns": null,
            "grid_template_rows": null,
            "height": null,
            "justify_content": null,
            "justify_items": null,
            "left": null,
            "margin": null,
            "max_height": null,
            "max_width": null,
            "min_height": null,
            "min_width": null,
            "object_fit": null,
            "object_position": null,
            "order": null,
            "overflow": null,
            "overflow_x": null,
            "overflow_y": null,
            "padding": null,
            "right": null,
            "top": null,
            "visibility": null,
            "width": null
          }
        },
        "ea161e1a63cb499893adbc0b546b031d": {
          "model_module": "@jupyter-widgets/base",
          "model_name": "LayoutModel",
          "model_module_version": "1.2.0",
          "state": {
            "_model_module": "@jupyter-widgets/base",
            "_model_module_version": "1.2.0",
            "_model_name": "LayoutModel",
            "_view_count": null,
            "_view_module": "@jupyter-widgets/base",
            "_view_module_version": "1.2.0",
            "_view_name": "LayoutView",
            "align_content": null,
            "align_items": null,
            "align_self": null,
            "border": null,
            "bottom": null,
            "display": null,
            "flex": null,
            "flex_flow": null,
            "grid_area": null,
            "grid_auto_columns": null,
            "grid_auto_flow": null,
            "grid_auto_rows": null,
            "grid_column": null,
            "grid_gap": null,
            "grid_row": null,
            "grid_template_areas": null,
            "grid_template_columns": null,
            "grid_template_rows": null,
            "height": null,
            "justify_content": null,
            "justify_items": null,
            "left": null,
            "margin": null,
            "max_height": null,
            "max_width": null,
            "min_height": null,
            "min_width": null,
            "object_fit": null,
            "object_position": null,
            "order": null,
            "overflow": null,
            "overflow_x": null,
            "overflow_y": null,
            "padding": null,
            "right": null,
            "top": null,
            "visibility": null,
            "width": null
          }
        },
        "03a41dac86d7476ea28d14e6a7a80441": {
          "model_module": "@jupyter-widgets/controls",
          "model_name": "DescriptionStyleModel",
          "model_module_version": "1.5.0",
          "state": {
            "_model_module": "@jupyter-widgets/controls",
            "_model_module_version": "1.5.0",
            "_model_name": "DescriptionStyleModel",
            "_view_count": null,
            "_view_module": "@jupyter-widgets/base",
            "_view_module_version": "1.2.0",
            "_view_name": "StyleView",
            "description_width": ""
          }
        },
        "bb44b42bca91437c89b2969f3e975317": {
          "model_module": "@jupyter-widgets/base",
          "model_name": "LayoutModel",
          "model_module_version": "1.2.0",
          "state": {
            "_model_module": "@jupyter-widgets/base",
            "_model_module_version": "1.2.0",
            "_model_name": "LayoutModel",
            "_view_count": null,
            "_view_module": "@jupyter-widgets/base",
            "_view_module_version": "1.2.0",
            "_view_name": "LayoutView",
            "align_content": null,
            "align_items": null,
            "align_self": null,
            "border": null,
            "bottom": null,
            "display": null,
            "flex": null,
            "flex_flow": null,
            "grid_area": null,
            "grid_auto_columns": null,
            "grid_auto_flow": null,
            "grid_auto_rows": null,
            "grid_column": null,
            "grid_gap": null,
            "grid_row": null,
            "grid_template_areas": null,
            "grid_template_columns": null,
            "grid_template_rows": null,
            "height": null,
            "justify_content": null,
            "justify_items": null,
            "left": null,
            "margin": null,
            "max_height": null,
            "max_width": null,
            "min_height": null,
            "min_width": null,
            "object_fit": null,
            "object_position": null,
            "order": null,
            "overflow": null,
            "overflow_x": null,
            "overflow_y": null,
            "padding": null,
            "right": null,
            "top": null,
            "visibility": null,
            "width": null
          }
        },
        "13eb0a42b54d4e7d89abe1d7b6f5f33e": {
          "model_module": "@jupyter-widgets/controls",
          "model_name": "ProgressStyleModel",
          "model_module_version": "1.5.0",
          "state": {
            "_model_module": "@jupyter-widgets/controls",
            "_model_module_version": "1.5.0",
            "_model_name": "ProgressStyleModel",
            "_view_count": null,
            "_view_module": "@jupyter-widgets/base",
            "_view_module_version": "1.2.0",
            "_view_name": "StyleView",
            "bar_color": null,
            "description_width": ""
          }
        },
        "56202be968174a7d9ec33f1c1f66a615": {
          "model_module": "@jupyter-widgets/base",
          "model_name": "LayoutModel",
          "model_module_version": "1.2.0",
          "state": {
            "_model_module": "@jupyter-widgets/base",
            "_model_module_version": "1.2.0",
            "_model_name": "LayoutModel",
            "_view_count": null,
            "_view_module": "@jupyter-widgets/base",
            "_view_module_version": "1.2.0",
            "_view_name": "LayoutView",
            "align_content": null,
            "align_items": null,
            "align_self": null,
            "border": null,
            "bottom": null,
            "display": null,
            "flex": null,
            "flex_flow": null,
            "grid_area": null,
            "grid_auto_columns": null,
            "grid_auto_flow": null,
            "grid_auto_rows": null,
            "grid_column": null,
            "grid_gap": null,
            "grid_row": null,
            "grid_template_areas": null,
            "grid_template_columns": null,
            "grid_template_rows": null,
            "height": null,
            "justify_content": null,
            "justify_items": null,
            "left": null,
            "margin": null,
            "max_height": null,
            "max_width": null,
            "min_height": null,
            "min_width": null,
            "object_fit": null,
            "object_position": null,
            "order": null,
            "overflow": null,
            "overflow_x": null,
            "overflow_y": null,
            "padding": null,
            "right": null,
            "top": null,
            "visibility": null,
            "width": null
          }
        },
        "32c73a1c0a22407c9234876b7fb174af": {
          "model_module": "@jupyter-widgets/controls",
          "model_name": "DescriptionStyleModel",
          "model_module_version": "1.5.0",
          "state": {
            "_model_module": "@jupyter-widgets/controls",
            "_model_module_version": "1.5.0",
            "_model_name": "DescriptionStyleModel",
            "_view_count": null,
            "_view_module": "@jupyter-widgets/base",
            "_view_module_version": "1.2.0",
            "_view_name": "StyleView",
            "description_width": ""
          }
        },
        "f81c17cb103544ed9cd46fc02f12ccf4": {
          "model_module": "@jupyter-widgets/controls",
          "model_name": "HBoxModel",
          "model_module_version": "1.5.0",
          "state": {
            "_dom_classes": [],
            "_model_module": "@jupyter-widgets/controls",
            "_model_module_version": "1.5.0",
            "_model_name": "HBoxModel",
            "_view_count": null,
            "_view_module": "@jupyter-widgets/controls",
            "_view_module_version": "1.5.0",
            "_view_name": "HBoxView",
            "box_style": "",
            "children": [
              "IPY_MODEL_8261ed81b4664a8b9ed9ab4e91e4ad55",
              "IPY_MODEL_97578f87b584405ba79cc758909e9b8f",
              "IPY_MODEL_a23eb62313c64b8a8038f7e21fb2c05d"
            ],
            "layout": "IPY_MODEL_9bb4daca2a6649fbb89620b7fad8ef41"
          }
        },
        "8261ed81b4664a8b9ed9ab4e91e4ad55": {
          "model_module": "@jupyter-widgets/controls",
          "model_name": "HTMLModel",
          "model_module_version": "1.5.0",
          "state": {
            "_dom_classes": [],
            "_model_module": "@jupyter-widgets/controls",
            "_model_module_version": "1.5.0",
            "_model_name": "HTMLModel",
            "_view_count": null,
            "_view_module": "@jupyter-widgets/controls",
            "_view_module_version": "1.5.0",
            "_view_name": "HTMLView",
            "description": "",
            "description_tooltip": null,
            "layout": "IPY_MODEL_408c67f5a59d4ea3b159041fb0170e2c",
            "placeholder": "​",
            "style": "IPY_MODEL_55f7ccff6b59484ca755c3a02e0bb110",
            "value": "vocab.txt: 100%"
          }
        },
        "97578f87b584405ba79cc758909e9b8f": {
          "model_module": "@jupyter-widgets/controls",
          "model_name": "FloatProgressModel",
          "model_module_version": "1.5.0",
          "state": {
            "_dom_classes": [],
            "_model_module": "@jupyter-widgets/controls",
            "_model_module_version": "1.5.0",
            "_model_name": "FloatProgressModel",
            "_view_count": null,
            "_view_module": "@jupyter-widgets/controls",
            "_view_module_version": "1.5.0",
            "_view_name": "ProgressView",
            "bar_style": "success",
            "description": "",
            "description_tooltip": null,
            "layout": "IPY_MODEL_32dfcc03caad40b4aae8f8c23d937076",
            "max": 231508,
            "min": 0,
            "orientation": "horizontal",
            "style": "IPY_MODEL_9072d50846ad4b9e9ab1312fb4faf065",
            "value": 231508
          }
        },
        "a23eb62313c64b8a8038f7e21fb2c05d": {
          "model_module": "@jupyter-widgets/controls",
          "model_name": "HTMLModel",
          "model_module_version": "1.5.0",
          "state": {
            "_dom_classes": [],
            "_model_module": "@jupyter-widgets/controls",
            "_model_module_version": "1.5.0",
            "_model_name": "HTMLModel",
            "_view_count": null,
            "_view_module": "@jupyter-widgets/controls",
            "_view_module_version": "1.5.0",
            "_view_name": "HTMLView",
            "description": "",
            "description_tooltip": null,
            "layout": "IPY_MODEL_8a1a432ef9504ca690435efe1b5c79b3",
            "placeholder": "​",
            "style": "IPY_MODEL_9722686faeeb4086a72fcab47a6e199b",
            "value": " 232k/232k [00:00&lt;00:00, 2.31MB/s]"
          }
        },
        "9bb4daca2a6649fbb89620b7fad8ef41": {
          "model_module": "@jupyter-widgets/base",
          "model_name": "LayoutModel",
          "model_module_version": "1.2.0",
          "state": {
            "_model_module": "@jupyter-widgets/base",
            "_model_module_version": "1.2.0",
            "_model_name": "LayoutModel",
            "_view_count": null,
            "_view_module": "@jupyter-widgets/base",
            "_view_module_version": "1.2.0",
            "_view_name": "LayoutView",
            "align_content": null,
            "align_items": null,
            "align_self": null,
            "border": null,
            "bottom": null,
            "display": null,
            "flex": null,
            "flex_flow": null,
            "grid_area": null,
            "grid_auto_columns": null,
            "grid_auto_flow": null,
            "grid_auto_rows": null,
            "grid_column": null,
            "grid_gap": null,
            "grid_row": null,
            "grid_template_areas": null,
            "grid_template_columns": null,
            "grid_template_rows": null,
            "height": null,
            "justify_content": null,
            "justify_items": null,
            "left": null,
            "margin": null,
            "max_height": null,
            "max_width": null,
            "min_height": null,
            "min_width": null,
            "object_fit": null,
            "object_position": null,
            "order": null,
            "overflow": null,
            "overflow_x": null,
            "overflow_y": null,
            "padding": null,
            "right": null,
            "top": null,
            "visibility": null,
            "width": null
          }
        },
        "408c67f5a59d4ea3b159041fb0170e2c": {
          "model_module": "@jupyter-widgets/base",
          "model_name": "LayoutModel",
          "model_module_version": "1.2.0",
          "state": {
            "_model_module": "@jupyter-widgets/base",
            "_model_module_version": "1.2.0",
            "_model_name": "LayoutModel",
            "_view_count": null,
            "_view_module": "@jupyter-widgets/base",
            "_view_module_version": "1.2.0",
            "_view_name": "LayoutView",
            "align_content": null,
            "align_items": null,
            "align_self": null,
            "border": null,
            "bottom": null,
            "display": null,
            "flex": null,
            "flex_flow": null,
            "grid_area": null,
            "grid_auto_columns": null,
            "grid_auto_flow": null,
            "grid_auto_rows": null,
            "grid_column": null,
            "grid_gap": null,
            "grid_row": null,
            "grid_template_areas": null,
            "grid_template_columns": null,
            "grid_template_rows": null,
            "height": null,
            "justify_content": null,
            "justify_items": null,
            "left": null,
            "margin": null,
            "max_height": null,
            "max_width": null,
            "min_height": null,
            "min_width": null,
            "object_fit": null,
            "object_position": null,
            "order": null,
            "overflow": null,
            "overflow_x": null,
            "overflow_y": null,
            "padding": null,
            "right": null,
            "top": null,
            "visibility": null,
            "width": null
          }
        },
        "55f7ccff6b59484ca755c3a02e0bb110": {
          "model_module": "@jupyter-widgets/controls",
          "model_name": "DescriptionStyleModel",
          "model_module_version": "1.5.0",
          "state": {
            "_model_module": "@jupyter-widgets/controls",
            "_model_module_version": "1.5.0",
            "_model_name": "DescriptionStyleModel",
            "_view_count": null,
            "_view_module": "@jupyter-widgets/base",
            "_view_module_version": "1.2.0",
            "_view_name": "StyleView",
            "description_width": ""
          }
        },
        "32dfcc03caad40b4aae8f8c23d937076": {
          "model_module": "@jupyter-widgets/base",
          "model_name": "LayoutModel",
          "model_module_version": "1.2.0",
          "state": {
            "_model_module": "@jupyter-widgets/base",
            "_model_module_version": "1.2.0",
            "_model_name": "LayoutModel",
            "_view_count": null,
            "_view_module": "@jupyter-widgets/base",
            "_view_module_version": "1.2.0",
            "_view_name": "LayoutView",
            "align_content": null,
            "align_items": null,
            "align_self": null,
            "border": null,
            "bottom": null,
            "display": null,
            "flex": null,
            "flex_flow": null,
            "grid_area": null,
            "grid_auto_columns": null,
            "grid_auto_flow": null,
            "grid_auto_rows": null,
            "grid_column": null,
            "grid_gap": null,
            "grid_row": null,
            "grid_template_areas": null,
            "grid_template_columns": null,
            "grid_template_rows": null,
            "height": null,
            "justify_content": null,
            "justify_items": null,
            "left": null,
            "margin": null,
            "max_height": null,
            "max_width": null,
            "min_height": null,
            "min_width": null,
            "object_fit": null,
            "object_position": null,
            "order": null,
            "overflow": null,
            "overflow_x": null,
            "overflow_y": null,
            "padding": null,
            "right": null,
            "top": null,
            "visibility": null,
            "width": null
          }
        },
        "9072d50846ad4b9e9ab1312fb4faf065": {
          "model_module": "@jupyter-widgets/controls",
          "model_name": "ProgressStyleModel",
          "model_module_version": "1.5.0",
          "state": {
            "_model_module": "@jupyter-widgets/controls",
            "_model_module_version": "1.5.0",
            "_model_name": "ProgressStyleModel",
            "_view_count": null,
            "_view_module": "@jupyter-widgets/base",
            "_view_module_version": "1.2.0",
            "_view_name": "StyleView",
            "bar_color": null,
            "description_width": ""
          }
        },
        "8a1a432ef9504ca690435efe1b5c79b3": {
          "model_module": "@jupyter-widgets/base",
          "model_name": "LayoutModel",
          "model_module_version": "1.2.0",
          "state": {
            "_model_module": "@jupyter-widgets/base",
            "_model_module_version": "1.2.0",
            "_model_name": "LayoutModel",
            "_view_count": null,
            "_view_module": "@jupyter-widgets/base",
            "_view_module_version": "1.2.0",
            "_view_name": "LayoutView",
            "align_content": null,
            "align_items": null,
            "align_self": null,
            "border": null,
            "bottom": null,
            "display": null,
            "flex": null,
            "flex_flow": null,
            "grid_area": null,
            "grid_auto_columns": null,
            "grid_auto_flow": null,
            "grid_auto_rows": null,
            "grid_column": null,
            "grid_gap": null,
            "grid_row": null,
            "grid_template_areas": null,
            "grid_template_columns": null,
            "grid_template_rows": null,
            "height": null,
            "justify_content": null,
            "justify_items": null,
            "left": null,
            "margin": null,
            "max_height": null,
            "max_width": null,
            "min_height": null,
            "min_width": null,
            "object_fit": null,
            "object_position": null,
            "order": null,
            "overflow": null,
            "overflow_x": null,
            "overflow_y": null,
            "padding": null,
            "right": null,
            "top": null,
            "visibility": null,
            "width": null
          }
        },
        "9722686faeeb4086a72fcab47a6e199b": {
          "model_module": "@jupyter-widgets/controls",
          "model_name": "DescriptionStyleModel",
          "model_module_version": "1.5.0",
          "state": {
            "_model_module": "@jupyter-widgets/controls",
            "_model_module_version": "1.5.0",
            "_model_name": "DescriptionStyleModel",
            "_view_count": null,
            "_view_module": "@jupyter-widgets/base",
            "_view_module_version": "1.2.0",
            "_view_name": "StyleView",
            "description_width": ""
          }
        },
        "c58ebebbaeb14c168e5bf26927ca6054": {
          "model_module": "@jupyter-widgets/controls",
          "model_name": "HBoxModel",
          "model_module_version": "1.5.0",
          "state": {
            "_dom_classes": [],
            "_model_module": "@jupyter-widgets/controls",
            "_model_module_version": "1.5.0",
            "_model_name": "HBoxModel",
            "_view_count": null,
            "_view_module": "@jupyter-widgets/controls",
            "_view_module_version": "1.5.0",
            "_view_name": "HBoxView",
            "box_style": "",
            "children": [
              "IPY_MODEL_d71bc5c2d85949b68130ec5ae9414d05",
              "IPY_MODEL_4df9fc3d862f495fb64a3611806a21f2",
              "IPY_MODEL_9c562bc3011a4a4a8da7add0a74a1405"
            ],
            "layout": "IPY_MODEL_1157273c130c490e8646c56dcf4b5adb"
          }
        },
        "d71bc5c2d85949b68130ec5ae9414d05": {
          "model_module": "@jupyter-widgets/controls",
          "model_name": "HTMLModel",
          "model_module_version": "1.5.0",
          "state": {
            "_dom_classes": [],
            "_model_module": "@jupyter-widgets/controls",
            "_model_module_version": "1.5.0",
            "_model_name": "HTMLModel",
            "_view_count": null,
            "_view_module": "@jupyter-widgets/controls",
            "_view_module_version": "1.5.0",
            "_view_name": "HTMLView",
            "description": "",
            "description_tooltip": null,
            "layout": "IPY_MODEL_d18270a553494d1cb77016a1536bdf2f",
            "placeholder": "​",
            "style": "IPY_MODEL_cf081b673bed4b349eb3da9af4951206",
            "value": "tokenizer.json: 100%"
          }
        },
        "4df9fc3d862f495fb64a3611806a21f2": {
          "model_module": "@jupyter-widgets/controls",
          "model_name": "FloatProgressModel",
          "model_module_version": "1.5.0",
          "state": {
            "_dom_classes": [],
            "_model_module": "@jupyter-widgets/controls",
            "_model_module_version": "1.5.0",
            "_model_name": "FloatProgressModel",
            "_view_count": null,
            "_view_module": "@jupyter-widgets/controls",
            "_view_module_version": "1.5.0",
            "_view_name": "ProgressView",
            "bar_style": "success",
            "description": "",
            "description_tooltip": null,
            "layout": "IPY_MODEL_726b4b13eafa4a60a516045e58b686ce",
            "max": 466062,
            "min": 0,
            "orientation": "horizontal",
            "style": "IPY_MODEL_7a2a2c3bfa614e8b965fe256eb85484f",
            "value": 466062
          }
        },
        "9c562bc3011a4a4a8da7add0a74a1405": {
          "model_module": "@jupyter-widgets/controls",
          "model_name": "HTMLModel",
          "model_module_version": "1.5.0",
          "state": {
            "_dom_classes": [],
            "_model_module": "@jupyter-widgets/controls",
            "_model_module_version": "1.5.0",
            "_model_name": "HTMLModel",
            "_view_count": null,
            "_view_module": "@jupyter-widgets/controls",
            "_view_module_version": "1.5.0",
            "_view_name": "HTMLView",
            "description": "",
            "description_tooltip": null,
            "layout": "IPY_MODEL_d2e1d18cf8e442df8b78c0f7fb87c10b",
            "placeholder": "​",
            "style": "IPY_MODEL_cda658e181d64aeb9c8569d7b8ee7f9a",
            "value": " 466k/466k [00:00&lt;00:00, 4.47MB/s]"
          }
        },
        "1157273c130c490e8646c56dcf4b5adb": {
          "model_module": "@jupyter-widgets/base",
          "model_name": "LayoutModel",
          "model_module_version": "1.2.0",
          "state": {
            "_model_module": "@jupyter-widgets/base",
            "_model_module_version": "1.2.0",
            "_model_name": "LayoutModel",
            "_view_count": null,
            "_view_module": "@jupyter-widgets/base",
            "_view_module_version": "1.2.0",
            "_view_name": "LayoutView",
            "align_content": null,
            "align_items": null,
            "align_self": null,
            "border": null,
            "bottom": null,
            "display": null,
            "flex": null,
            "flex_flow": null,
            "grid_area": null,
            "grid_auto_columns": null,
            "grid_auto_flow": null,
            "grid_auto_rows": null,
            "grid_column": null,
            "grid_gap": null,
            "grid_row": null,
            "grid_template_areas": null,
            "grid_template_columns": null,
            "grid_template_rows": null,
            "height": null,
            "justify_content": null,
            "justify_items": null,
            "left": null,
            "margin": null,
            "max_height": null,
            "max_width": null,
            "min_height": null,
            "min_width": null,
            "object_fit": null,
            "object_position": null,
            "order": null,
            "overflow": null,
            "overflow_x": null,
            "overflow_y": null,
            "padding": null,
            "right": null,
            "top": null,
            "visibility": null,
            "width": null
          }
        },
        "d18270a553494d1cb77016a1536bdf2f": {
          "model_module": "@jupyter-widgets/base",
          "model_name": "LayoutModel",
          "model_module_version": "1.2.0",
          "state": {
            "_model_module": "@jupyter-widgets/base",
            "_model_module_version": "1.2.0",
            "_model_name": "LayoutModel",
            "_view_count": null,
            "_view_module": "@jupyter-widgets/base",
            "_view_module_version": "1.2.0",
            "_view_name": "LayoutView",
            "align_content": null,
            "align_items": null,
            "align_self": null,
            "border": null,
            "bottom": null,
            "display": null,
            "flex": null,
            "flex_flow": null,
            "grid_area": null,
            "grid_auto_columns": null,
            "grid_auto_flow": null,
            "grid_auto_rows": null,
            "grid_column": null,
            "grid_gap": null,
            "grid_row": null,
            "grid_template_areas": null,
            "grid_template_columns": null,
            "grid_template_rows": null,
            "height": null,
            "justify_content": null,
            "justify_items": null,
            "left": null,
            "margin": null,
            "max_height": null,
            "max_width": null,
            "min_height": null,
            "min_width": null,
            "object_fit": null,
            "object_position": null,
            "order": null,
            "overflow": null,
            "overflow_x": null,
            "overflow_y": null,
            "padding": null,
            "right": null,
            "top": null,
            "visibility": null,
            "width": null
          }
        },
        "cf081b673bed4b349eb3da9af4951206": {
          "model_module": "@jupyter-widgets/controls",
          "model_name": "DescriptionStyleModel",
          "model_module_version": "1.5.0",
          "state": {
            "_model_module": "@jupyter-widgets/controls",
            "_model_module_version": "1.5.0",
            "_model_name": "DescriptionStyleModel",
            "_view_count": null,
            "_view_module": "@jupyter-widgets/base",
            "_view_module_version": "1.2.0",
            "_view_name": "StyleView",
            "description_width": ""
          }
        },
        "726b4b13eafa4a60a516045e58b686ce": {
          "model_module": "@jupyter-widgets/base",
          "model_name": "LayoutModel",
          "model_module_version": "1.2.0",
          "state": {
            "_model_module": "@jupyter-widgets/base",
            "_model_module_version": "1.2.0",
            "_model_name": "LayoutModel",
            "_view_count": null,
            "_view_module": "@jupyter-widgets/base",
            "_view_module_version": "1.2.0",
            "_view_name": "LayoutView",
            "align_content": null,
            "align_items": null,
            "align_self": null,
            "border": null,
            "bottom": null,
            "display": null,
            "flex": null,
            "flex_flow": null,
            "grid_area": null,
            "grid_auto_columns": null,
            "grid_auto_flow": null,
            "grid_auto_rows": null,
            "grid_column": null,
            "grid_gap": null,
            "grid_row": null,
            "grid_template_areas": null,
            "grid_template_columns": null,
            "grid_template_rows": null,
            "height": null,
            "justify_content": null,
            "justify_items": null,
            "left": null,
            "margin": null,
            "max_height": null,
            "max_width": null,
            "min_height": null,
            "min_width": null,
            "object_fit": null,
            "object_position": null,
            "order": null,
            "overflow": null,
            "overflow_x": null,
            "overflow_y": null,
            "padding": null,
            "right": null,
            "top": null,
            "visibility": null,
            "width": null
          }
        },
        "7a2a2c3bfa614e8b965fe256eb85484f": {
          "model_module": "@jupyter-widgets/controls",
          "model_name": "ProgressStyleModel",
          "model_module_version": "1.5.0",
          "state": {
            "_model_module": "@jupyter-widgets/controls",
            "_model_module_version": "1.5.0",
            "_model_name": "ProgressStyleModel",
            "_view_count": null,
            "_view_module": "@jupyter-widgets/base",
            "_view_module_version": "1.2.0",
            "_view_name": "StyleView",
            "bar_color": null,
            "description_width": ""
          }
        },
        "d2e1d18cf8e442df8b78c0f7fb87c10b": {
          "model_module": "@jupyter-widgets/base",
          "model_name": "LayoutModel",
          "model_module_version": "1.2.0",
          "state": {
            "_model_module": "@jupyter-widgets/base",
            "_model_module_version": "1.2.0",
            "_model_name": "LayoutModel",
            "_view_count": null,
            "_view_module": "@jupyter-widgets/base",
            "_view_module_version": "1.2.0",
            "_view_name": "LayoutView",
            "align_content": null,
            "align_items": null,
            "align_self": null,
            "border": null,
            "bottom": null,
            "display": null,
            "flex": null,
            "flex_flow": null,
            "grid_area": null,
            "grid_auto_columns": null,
            "grid_auto_flow": null,
            "grid_auto_rows": null,
            "grid_column": null,
            "grid_gap": null,
            "grid_row": null,
            "grid_template_areas": null,
            "grid_template_columns": null,
            "grid_template_rows": null,
            "height": null,
            "justify_content": null,
            "justify_items": null,
            "left": null,
            "margin": null,
            "max_height": null,
            "max_width": null,
            "min_height": null,
            "min_width": null,
            "object_fit": null,
            "object_position": null,
            "order": null,
            "overflow": null,
            "overflow_x": null,
            "overflow_y": null,
            "padding": null,
            "right": null,
            "top": null,
            "visibility": null,
            "width": null
          }
        },
        "cda658e181d64aeb9c8569d7b8ee7f9a": {
          "model_module": "@jupyter-widgets/controls",
          "model_name": "DescriptionStyleModel",
          "model_module_version": "1.5.0",
          "state": {
            "_model_module": "@jupyter-widgets/controls",
            "_model_module_version": "1.5.0",
            "_model_name": "DescriptionStyleModel",
            "_view_count": null,
            "_view_module": "@jupyter-widgets/base",
            "_view_module_version": "1.2.0",
            "_view_name": "StyleView",
            "description_width": ""
          }
        },
        "b3a1a8fcc6df464a9b99331173a189a9": {
          "model_module": "@jupyter-widgets/controls",
          "model_name": "HBoxModel",
          "model_module_version": "1.5.0",
          "state": {
            "_dom_classes": [],
            "_model_module": "@jupyter-widgets/controls",
            "_model_module_version": "1.5.0",
            "_model_name": "HBoxModel",
            "_view_count": null,
            "_view_module": "@jupyter-widgets/controls",
            "_view_module_version": "1.5.0",
            "_view_name": "HBoxView",
            "box_style": "",
            "children": [
              "IPY_MODEL_1c16101ac9854256a7c62815444e734a",
              "IPY_MODEL_24b9c4bd55104061b4e7749f1ba32c36",
              "IPY_MODEL_692065f9253f4dada241e6703a311922"
            ],
            "layout": "IPY_MODEL_5350276087b648eba119a8eff59befba"
          }
        },
        "1c16101ac9854256a7c62815444e734a": {
          "model_module": "@jupyter-widgets/controls",
          "model_name": "HTMLModel",
          "model_module_version": "1.5.0",
          "state": {
            "_dom_classes": [],
            "_model_module": "@jupyter-widgets/controls",
            "_model_module_version": "1.5.0",
            "_model_name": "HTMLModel",
            "_view_count": null,
            "_view_module": "@jupyter-widgets/controls",
            "_view_module_version": "1.5.0",
            "_view_name": "HTMLView",
            "description": "",
            "description_tooltip": null,
            "layout": "IPY_MODEL_95ab96a5239c4c76bda0180caf410d5d",
            "placeholder": "​",
            "style": "IPY_MODEL_ffc3ab4641af4a59929f5cab4c7b1704",
            "value": "config.json: 100%"
          }
        },
        "24b9c4bd55104061b4e7749f1ba32c36": {
          "model_module": "@jupyter-widgets/controls",
          "model_name": "FloatProgressModel",
          "model_module_version": "1.5.0",
          "state": {
            "_dom_classes": [],
            "_model_module": "@jupyter-widgets/controls",
            "_model_module_version": "1.5.0",
            "_model_name": "FloatProgressModel",
            "_view_count": null,
            "_view_module": "@jupyter-widgets/controls",
            "_view_module_version": "1.5.0",
            "_view_name": "ProgressView",
            "bar_style": "success",
            "description": "",
            "description_tooltip": null,
            "layout": "IPY_MODEL_aa158a1f30694a5f841ead06a383d53e",
            "max": 570,
            "min": 0,
            "orientation": "horizontal",
            "style": "IPY_MODEL_e332965d2df74f15847caaf0f40c4cb1",
            "value": 570
          }
        },
        "692065f9253f4dada241e6703a311922": {
          "model_module": "@jupyter-widgets/controls",
          "model_name": "HTMLModel",
          "model_module_version": "1.5.0",
          "state": {
            "_dom_classes": [],
            "_model_module": "@jupyter-widgets/controls",
            "_model_module_version": "1.5.0",
            "_model_name": "HTMLModel",
            "_view_count": null,
            "_view_module": "@jupyter-widgets/controls",
            "_view_module_version": "1.5.0",
            "_view_name": "HTMLView",
            "description": "",
            "description_tooltip": null,
            "layout": "IPY_MODEL_1df62ef5872341df99cfda8c5b4ad235",
            "placeholder": "​",
            "style": "IPY_MODEL_51cc28dc759c4aaf89e4735bb082e2e6",
            "value": " 570/570 [00:00&lt;00:00, 43.6kB/s]"
          }
        },
        "5350276087b648eba119a8eff59befba": {
          "model_module": "@jupyter-widgets/base",
          "model_name": "LayoutModel",
          "model_module_version": "1.2.0",
          "state": {
            "_model_module": "@jupyter-widgets/base",
            "_model_module_version": "1.2.0",
            "_model_name": "LayoutModel",
            "_view_count": null,
            "_view_module": "@jupyter-widgets/base",
            "_view_module_version": "1.2.0",
            "_view_name": "LayoutView",
            "align_content": null,
            "align_items": null,
            "align_self": null,
            "border": null,
            "bottom": null,
            "display": null,
            "flex": null,
            "flex_flow": null,
            "grid_area": null,
            "grid_auto_columns": null,
            "grid_auto_flow": null,
            "grid_auto_rows": null,
            "grid_column": null,
            "grid_gap": null,
            "grid_row": null,
            "grid_template_areas": null,
            "grid_template_columns": null,
            "grid_template_rows": null,
            "height": null,
            "justify_content": null,
            "justify_items": null,
            "left": null,
            "margin": null,
            "max_height": null,
            "max_width": null,
            "min_height": null,
            "min_width": null,
            "object_fit": null,
            "object_position": null,
            "order": null,
            "overflow": null,
            "overflow_x": null,
            "overflow_y": null,
            "padding": null,
            "right": null,
            "top": null,
            "visibility": null,
            "width": null
          }
        },
        "95ab96a5239c4c76bda0180caf410d5d": {
          "model_module": "@jupyter-widgets/base",
          "model_name": "LayoutModel",
          "model_module_version": "1.2.0",
          "state": {
            "_model_module": "@jupyter-widgets/base",
            "_model_module_version": "1.2.0",
            "_model_name": "LayoutModel",
            "_view_count": null,
            "_view_module": "@jupyter-widgets/base",
            "_view_module_version": "1.2.0",
            "_view_name": "LayoutView",
            "align_content": null,
            "align_items": null,
            "align_self": null,
            "border": null,
            "bottom": null,
            "display": null,
            "flex": null,
            "flex_flow": null,
            "grid_area": null,
            "grid_auto_columns": null,
            "grid_auto_flow": null,
            "grid_auto_rows": null,
            "grid_column": null,
            "grid_gap": null,
            "grid_row": null,
            "grid_template_areas": null,
            "grid_template_columns": null,
            "grid_template_rows": null,
            "height": null,
            "justify_content": null,
            "justify_items": null,
            "left": null,
            "margin": null,
            "max_height": null,
            "max_width": null,
            "min_height": null,
            "min_width": null,
            "object_fit": null,
            "object_position": null,
            "order": null,
            "overflow": null,
            "overflow_x": null,
            "overflow_y": null,
            "padding": null,
            "right": null,
            "top": null,
            "visibility": null,
            "width": null
          }
        },
        "ffc3ab4641af4a59929f5cab4c7b1704": {
          "model_module": "@jupyter-widgets/controls",
          "model_name": "DescriptionStyleModel",
          "model_module_version": "1.5.0",
          "state": {
            "_model_module": "@jupyter-widgets/controls",
            "_model_module_version": "1.5.0",
            "_model_name": "DescriptionStyleModel",
            "_view_count": null,
            "_view_module": "@jupyter-widgets/base",
            "_view_module_version": "1.2.0",
            "_view_name": "StyleView",
            "description_width": ""
          }
        },
        "aa158a1f30694a5f841ead06a383d53e": {
          "model_module": "@jupyter-widgets/base",
          "model_name": "LayoutModel",
          "model_module_version": "1.2.0",
          "state": {
            "_model_module": "@jupyter-widgets/base",
            "_model_module_version": "1.2.0",
            "_model_name": "LayoutModel",
            "_view_count": null,
            "_view_module": "@jupyter-widgets/base",
            "_view_module_version": "1.2.0",
            "_view_name": "LayoutView",
            "align_content": null,
            "align_items": null,
            "align_self": null,
            "border": null,
            "bottom": null,
            "display": null,
            "flex": null,
            "flex_flow": null,
            "grid_area": null,
            "grid_auto_columns": null,
            "grid_auto_flow": null,
            "grid_auto_rows": null,
            "grid_column": null,
            "grid_gap": null,
            "grid_row": null,
            "grid_template_areas": null,
            "grid_template_columns": null,
            "grid_template_rows": null,
            "height": null,
            "justify_content": null,
            "justify_items": null,
            "left": null,
            "margin": null,
            "max_height": null,
            "max_width": null,
            "min_height": null,
            "min_width": null,
            "object_fit": null,
            "object_position": null,
            "order": null,
            "overflow": null,
            "overflow_x": null,
            "overflow_y": null,
            "padding": null,
            "right": null,
            "top": null,
            "visibility": null,
            "width": null
          }
        },
        "e332965d2df74f15847caaf0f40c4cb1": {
          "model_module": "@jupyter-widgets/controls",
          "model_name": "ProgressStyleModel",
          "model_module_version": "1.5.0",
          "state": {
            "_model_module": "@jupyter-widgets/controls",
            "_model_module_version": "1.5.0",
            "_model_name": "ProgressStyleModel",
            "_view_count": null,
            "_view_module": "@jupyter-widgets/base",
            "_view_module_version": "1.2.0",
            "_view_name": "StyleView",
            "bar_color": null,
            "description_width": ""
          }
        },
        "1df62ef5872341df99cfda8c5b4ad235": {
          "model_module": "@jupyter-widgets/base",
          "model_name": "LayoutModel",
          "model_module_version": "1.2.0",
          "state": {
            "_model_module": "@jupyter-widgets/base",
            "_model_module_version": "1.2.0",
            "_model_name": "LayoutModel",
            "_view_count": null,
            "_view_module": "@jupyter-widgets/base",
            "_view_module_version": "1.2.0",
            "_view_name": "LayoutView",
            "align_content": null,
            "align_items": null,
            "align_self": null,
            "border": null,
            "bottom": null,
            "display": null,
            "flex": null,
            "flex_flow": null,
            "grid_area": null,
            "grid_auto_columns": null,
            "grid_auto_flow": null,
            "grid_auto_rows": null,
            "grid_column": null,
            "grid_gap": null,
            "grid_row": null,
            "grid_template_areas": null,
            "grid_template_columns": null,
            "grid_template_rows": null,
            "height": null,
            "justify_content": null,
            "justify_items": null,
            "left": null,
            "margin": null,
            "max_height": null,
            "max_width": null,
            "min_height": null,
            "min_width": null,
            "object_fit": null,
            "object_position": null,
            "order": null,
            "overflow": null,
            "overflow_x": null,
            "overflow_y": null,
            "padding": null,
            "right": null,
            "top": null,
            "visibility": null,
            "width": null
          }
        },
        "51cc28dc759c4aaf89e4735bb082e2e6": {
          "model_module": "@jupyter-widgets/controls",
          "model_name": "DescriptionStyleModel",
          "model_module_version": "1.5.0",
          "state": {
            "_model_module": "@jupyter-widgets/controls",
            "_model_module_version": "1.5.0",
            "_model_name": "DescriptionStyleModel",
            "_view_count": null,
            "_view_module": "@jupyter-widgets/base",
            "_view_module_version": "1.2.0",
            "_view_name": "StyleView",
            "description_width": ""
          }
        },
        "e25f8c885a234452ae5a6cb634d6acbc": {
          "model_module": "@jupyter-widgets/controls",
          "model_name": "HBoxModel",
          "model_module_version": "1.5.0",
          "state": {
            "_dom_classes": [],
            "_model_module": "@jupyter-widgets/controls",
            "_model_module_version": "1.5.0",
            "_model_name": "HBoxModel",
            "_view_count": null,
            "_view_module": "@jupyter-widgets/controls",
            "_view_module_version": "1.5.0",
            "_view_name": "HBoxView",
            "box_style": "",
            "children": [
              "IPY_MODEL_7065958a5a284ba98bbac2a8d52e2295",
              "IPY_MODEL_dbde5b8c2cce443bb224dc24ce02b0d2",
              "IPY_MODEL_08dc6cf6d37b448793bd69b83909ac5e"
            ],
            "layout": "IPY_MODEL_5cb3979a04df4e1fbef902cb0c04ed08"
          }
        },
        "7065958a5a284ba98bbac2a8d52e2295": {
          "model_module": "@jupyter-widgets/controls",
          "model_name": "HTMLModel",
          "model_module_version": "1.5.0",
          "state": {
            "_dom_classes": [],
            "_model_module": "@jupyter-widgets/controls",
            "_model_module_version": "1.5.0",
            "_model_name": "HTMLModel",
            "_view_count": null,
            "_view_module": "@jupyter-widgets/controls",
            "_view_module_version": "1.5.0",
            "_view_name": "HTMLView",
            "description": "",
            "description_tooltip": null,
            "layout": "IPY_MODEL_ace05a724bbc4193afb0f1838b74728f",
            "placeholder": "​",
            "style": "IPY_MODEL_6e9d2ab6107b4b349446aeeb91b9d3ad",
            "value": "model.safetensors: 100%"
          }
        },
        "dbde5b8c2cce443bb224dc24ce02b0d2": {
          "model_module": "@jupyter-widgets/controls",
          "model_name": "FloatProgressModel",
          "model_module_version": "1.5.0",
          "state": {
            "_dom_classes": [],
            "_model_module": "@jupyter-widgets/controls",
            "_model_module_version": "1.5.0",
            "_model_name": "FloatProgressModel",
            "_view_count": null,
            "_view_module": "@jupyter-widgets/controls",
            "_view_module_version": "1.5.0",
            "_view_name": "ProgressView",
            "bar_style": "success",
            "description": "",
            "description_tooltip": null,
            "layout": "IPY_MODEL_aa8314e6bf1c4488a8ce9a87fd475258",
            "max": 440449768,
            "min": 0,
            "orientation": "horizontal",
            "style": "IPY_MODEL_8f30b30689e548b4897afca20f87b536",
            "value": 440449768
          }
        },
        "08dc6cf6d37b448793bd69b83909ac5e": {
          "model_module": "@jupyter-widgets/controls",
          "model_name": "HTMLModel",
          "model_module_version": "1.5.0",
          "state": {
            "_dom_classes": [],
            "_model_module": "@jupyter-widgets/controls",
            "_model_module_version": "1.5.0",
            "_model_name": "HTMLModel",
            "_view_count": null,
            "_view_module": "@jupyter-widgets/controls",
            "_view_module_version": "1.5.0",
            "_view_name": "HTMLView",
            "description": "",
            "description_tooltip": null,
            "layout": "IPY_MODEL_42906019d7574f9ea2e19c65a5310a4b",
            "placeholder": "​",
            "style": "IPY_MODEL_2502f7b884be42248fd4ecff02187429",
            "value": " 440M/440M [00:02&lt;00:00, 229MB/s]"
          }
        },
        "5cb3979a04df4e1fbef902cb0c04ed08": {
          "model_module": "@jupyter-widgets/base",
          "model_name": "LayoutModel",
          "model_module_version": "1.2.0",
          "state": {
            "_model_module": "@jupyter-widgets/base",
            "_model_module_version": "1.2.0",
            "_model_name": "LayoutModel",
            "_view_count": null,
            "_view_module": "@jupyter-widgets/base",
            "_view_module_version": "1.2.0",
            "_view_name": "LayoutView",
            "align_content": null,
            "align_items": null,
            "align_self": null,
            "border": null,
            "bottom": null,
            "display": null,
            "flex": null,
            "flex_flow": null,
            "grid_area": null,
            "grid_auto_columns": null,
            "grid_auto_flow": null,
            "grid_auto_rows": null,
            "grid_column": null,
            "grid_gap": null,
            "grid_row": null,
            "grid_template_areas": null,
            "grid_template_columns": null,
            "grid_template_rows": null,
            "height": null,
            "justify_content": null,
            "justify_items": null,
            "left": null,
            "margin": null,
            "max_height": null,
            "max_width": null,
            "min_height": null,
            "min_width": null,
            "object_fit": null,
            "object_position": null,
            "order": null,
            "overflow": null,
            "overflow_x": null,
            "overflow_y": null,
            "padding": null,
            "right": null,
            "top": null,
            "visibility": null,
            "width": null
          }
        },
        "ace05a724bbc4193afb0f1838b74728f": {
          "model_module": "@jupyter-widgets/base",
          "model_name": "LayoutModel",
          "model_module_version": "1.2.0",
          "state": {
            "_model_module": "@jupyter-widgets/base",
            "_model_module_version": "1.2.0",
            "_model_name": "LayoutModel",
            "_view_count": null,
            "_view_module": "@jupyter-widgets/base",
            "_view_module_version": "1.2.0",
            "_view_name": "LayoutView",
            "align_content": null,
            "align_items": null,
            "align_self": null,
            "border": null,
            "bottom": null,
            "display": null,
            "flex": null,
            "flex_flow": null,
            "grid_area": null,
            "grid_auto_columns": null,
            "grid_auto_flow": null,
            "grid_auto_rows": null,
            "grid_column": null,
            "grid_gap": null,
            "grid_row": null,
            "grid_template_areas": null,
            "grid_template_columns": null,
            "grid_template_rows": null,
            "height": null,
            "justify_content": null,
            "justify_items": null,
            "left": null,
            "margin": null,
            "max_height": null,
            "max_width": null,
            "min_height": null,
            "min_width": null,
            "object_fit": null,
            "object_position": null,
            "order": null,
            "overflow": null,
            "overflow_x": null,
            "overflow_y": null,
            "padding": null,
            "right": null,
            "top": null,
            "visibility": null,
            "width": null
          }
        },
        "6e9d2ab6107b4b349446aeeb91b9d3ad": {
          "model_module": "@jupyter-widgets/controls",
          "model_name": "DescriptionStyleModel",
          "model_module_version": "1.5.0",
          "state": {
            "_model_module": "@jupyter-widgets/controls",
            "_model_module_version": "1.5.0",
            "_model_name": "DescriptionStyleModel",
            "_view_count": null,
            "_view_module": "@jupyter-widgets/base",
            "_view_module_version": "1.2.0",
            "_view_name": "StyleView",
            "description_width": ""
          }
        },
        "aa8314e6bf1c4488a8ce9a87fd475258": {
          "model_module": "@jupyter-widgets/base",
          "model_name": "LayoutModel",
          "model_module_version": "1.2.0",
          "state": {
            "_model_module": "@jupyter-widgets/base",
            "_model_module_version": "1.2.0",
            "_model_name": "LayoutModel",
            "_view_count": null,
            "_view_module": "@jupyter-widgets/base",
            "_view_module_version": "1.2.0",
            "_view_name": "LayoutView",
            "align_content": null,
            "align_items": null,
            "align_self": null,
            "border": null,
            "bottom": null,
            "display": null,
            "flex": null,
            "flex_flow": null,
            "grid_area": null,
            "grid_auto_columns": null,
            "grid_auto_flow": null,
            "grid_auto_rows": null,
            "grid_column": null,
            "grid_gap": null,
            "grid_row": null,
            "grid_template_areas": null,
            "grid_template_columns": null,
            "grid_template_rows": null,
            "height": null,
            "justify_content": null,
            "justify_items": null,
            "left": null,
            "margin": null,
            "max_height": null,
            "max_width": null,
            "min_height": null,
            "min_width": null,
            "object_fit": null,
            "object_position": null,
            "order": null,
            "overflow": null,
            "overflow_x": null,
            "overflow_y": null,
            "padding": null,
            "right": null,
            "top": null,
            "visibility": null,
            "width": null
          }
        },
        "8f30b30689e548b4897afca20f87b536": {
          "model_module": "@jupyter-widgets/controls",
          "model_name": "ProgressStyleModel",
          "model_module_version": "1.5.0",
          "state": {
            "_model_module": "@jupyter-widgets/controls",
            "_model_module_version": "1.5.0",
            "_model_name": "ProgressStyleModel",
            "_view_count": null,
            "_view_module": "@jupyter-widgets/base",
            "_view_module_version": "1.2.0",
            "_view_name": "StyleView",
            "bar_color": null,
            "description_width": ""
          }
        },
        "42906019d7574f9ea2e19c65a5310a4b": {
          "model_module": "@jupyter-widgets/base",
          "model_name": "LayoutModel",
          "model_module_version": "1.2.0",
          "state": {
            "_model_module": "@jupyter-widgets/base",
            "_model_module_version": "1.2.0",
            "_model_name": "LayoutModel",
            "_view_count": null,
            "_view_module": "@jupyter-widgets/base",
            "_view_module_version": "1.2.0",
            "_view_name": "LayoutView",
            "align_content": null,
            "align_items": null,
            "align_self": null,
            "border": null,
            "bottom": null,
            "display": null,
            "flex": null,
            "flex_flow": null,
            "grid_area": null,
            "grid_auto_columns": null,
            "grid_auto_flow": null,
            "grid_auto_rows": null,
            "grid_column": null,
            "grid_gap": null,
            "grid_row": null,
            "grid_template_areas": null,
            "grid_template_columns": null,
            "grid_template_rows": null,
            "height": null,
            "justify_content": null,
            "justify_items": null,
            "left": null,
            "margin": null,
            "max_height": null,
            "max_width": null,
            "min_height": null,
            "min_width": null,
            "object_fit": null,
            "object_position": null,
            "order": null,
            "overflow": null,
            "overflow_x": null,
            "overflow_y": null,
            "padding": null,
            "right": null,
            "top": null,
            "visibility": null,
            "width": null
          }
        },
        "2502f7b884be42248fd4ecff02187429": {
          "model_module": "@jupyter-widgets/controls",
          "model_name": "DescriptionStyleModel",
          "model_module_version": "1.5.0",
          "state": {
            "_model_module": "@jupyter-widgets/controls",
            "_model_module_version": "1.5.0",
            "_model_name": "DescriptionStyleModel",
            "_view_count": null,
            "_view_module": "@jupyter-widgets/base",
            "_view_module_version": "1.2.0",
            "_view_name": "StyleView",
            "description_width": ""
          }
        }
      }
    }
  },
  "nbformat": 4,
  "nbformat_minor": 5
}